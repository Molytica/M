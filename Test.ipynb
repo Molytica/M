{
 "cells": [
  {
   "cell_type": "code",
   "execution_count": 2,
   "id": "a8486aa7-851d-4264-8ed5-c1bcd238d8f3",
   "metadata": {},
   "outputs": [
    {
     "name": "stderr",
     "output_type": "stream",
     "text": [
      "2023-12-11 20:49:51.488987: I tensorflow/tsl/cuda/cudart_stub.cc:28] Could not find cuda drivers on your machine, GPU will not be used.\n",
      "2023-12-11 20:49:51.521429: E tensorflow/compiler/xla/stream_executor/cuda/cuda_dnn.cc:9342] Unable to register cuDNN factory: Attempting to register factory for plugin cuDNN when one has already been registered\n",
      "2023-12-11 20:49:51.521462: E tensorflow/compiler/xla/stream_executor/cuda/cuda_fft.cc:609] Unable to register cuFFT factory: Attempting to register factory for plugin cuFFT when one has already been registered\n",
      "2023-12-11 20:49:51.521496: E tensorflow/compiler/xla/stream_executor/cuda/cuda_blas.cc:1518] Unable to register cuBLAS factory: Attempting to register factory for plugin cuBLAS when one has already been registered\n",
      "2023-12-11 20:49:51.527832: I tensorflow/tsl/cuda/cudart_stub.cc:28] Could not find cuda drivers on your machine, GPU will not be used.\n",
      "2023-12-11 20:49:51.528195: I tensorflow/core/platform/cpu_feature_guard.cc:182] This TensorFlow binary is optimized to use available CPU instructions in performance-critical operations.\n",
      "To enable the following instructions: AVX2 FMA, in other operations, rebuild TensorFlow with the appropriate compiler flags.\n",
      "2023-12-11 20:49:52.229336: W tensorflow/compiler/tf2tensorrt/utils/py_utils.cc:38] TF-TRT Warning: Could not find TensorRT\n"
     ]
    },
    {
     "name": "stdout",
     "output_type": "stream",
     "text": [
      "cuda\n"
     ]
    }
   ],
   "source": [
    "from molytica_m.data_tools import PPI_interactome_tools\n",
    "from molytica_m.data_tools import alpha_fold_tools"
   ]
  },
  {
   "cell_type": "code",
   "execution_count": 16,
   "id": "d7a66d90-1152-4d73-bb0a-457046df32a0",
   "metadata": {},
   "outputs": [
    {
     "data": {
      "text/plain": [
       "0.021102964412420988"
      ]
     },
     "execution_count": 16,
     "metadata": {},
     "output_type": "execute_result"
    }
   ],
   "source": [
    "af_uniprots = alpha_fold_tools.get_alphafold_uniprot_ids()\n",
    "PPI_interactome_tools.get_ppi_prob(af_uniprots[-1], af_uniprots[-2])"
   ]
  },
  {
   "cell_type": "code",
   "execution_count": 15,
   "id": "679389fd-b8f9-441b-9522-d7a7e4241c13",
   "metadata": {},
   "outputs": [],
   "source": [
    "PPI_interactome_tools.get_ppi_prob(\"Q9H9S0\", \"Q01860\")"
   ]
  },
  {
   "cell_type": "code",
   "execution_count": 5,
   "id": "8d733305-8afe-4bf1-be41-9c5488e020d6",
   "metadata": {},
   "outputs": [
    {
     "data": {
      "text/plain": [
       "13.9125"
      ]
     },
     "execution_count": 5,
     "metadata": {},
     "output_type": "execute_result"
    }
   ],
   "source": [
    "210/0.4*26.5/1000"
   ]
  },
  {
   "cell_type": "code",
   "execution_count": 14,
   "id": "94c3e66a-04ec-498f-b4f8-a8794412af44",
   "metadata": {},
   "outputs": [
    {
     "data": {
      "text/plain": [
       "73465333.33333333"
      ]
     },
     "execution_count": 14,
     "metadata": {},
     "output_type": "execute_result"
    }
   ],
   "source": [
    "x1 = 6165000\n",
    "x3 = 210217000 - 2151000\n",
    "x2 = (x3 - x1) * 1/3 + x1\n",
    "x2"
   ]
  },
  {
   "cell_type": "code",
   "execution_count": 6,
   "id": "cf3dde66-1e8d-4339-a214-7137319b9e3d",
   "metadata": {},
   "outputs": [
    {
     "name": "stdout",
     "output_type": "stream",
     "text": [
      "cuda\n"
     ]
    },
    {
     "data": {
      "text/plain": [
       "ProteinInteractionPredictor(\n",
       "  (fc1): Linear(in_features=18640, out_features=128, bias=True)\n",
       "  (fc2): Linear(in_features=128, out_features=128, bias=True)\n",
       "  (gcn1): GCNConv(9, 128)\n",
       "  (gcn2): GCNConv(128, 128)\n",
       "  (fc_combined): Linear(in_features=512, out_features=128, bias=True)\n",
       "  (output): Linear(in_features=128, out_features=1, bias=True)\n",
       ")"
      ]
     },
     "execution_count": 6,
     "metadata": {},
     "output_type": "execute_result"
    }
   ],
   "source": [
    "from molytica_m.data_tools import create_PPI_dataset\n",
    "from molytica_m.data_tools import alpha_fold_tools\n",
    "from tqdm import tqdm\n",
    "import numpy as np\n",
    "import torch\n",
    "import h5py\n",
    "import os\n",
    "import sqlite3\n",
    "\n",
    "device = torch.device(\"cuda\" if torch.cuda.is_available() else \"cpu\")\n",
    "print(\"cuda\" if torch.cuda.is_available() else \"cpu\")\n",
    "model = torch.load(\"molytica_m/ml/PPI_S_model.pth\", map_location=torch.device(device)).to(device)\n",
    "model.eval()"
   ]
  },
  {
   "cell_type": "code",
   "execution_count": 7,
   "id": "44bef884-abcf-494b-b250-94c16394adbf",
   "metadata": {},
   "outputs": [],
   "source": [
    "import random\n",
    "uniprot_pairs = [[random.choice(af_uniprots), random.choice(af_uniprots)], [random.choice(af_uniprots), random.choice(af_uniprots)]]"
   ]
  },
  {
   "cell_type": "code",
   "execution_count": 1,
   "id": "1ee34ece-cf88-4830-8892-89c6911cc038",
   "metadata": {},
   "outputs": [
    {
     "ename": "NameError",
     "evalue": "name 'uniprot_pairs' is not defined",
     "output_type": "error",
     "traceback": [
      "\u001b[0;31m---------------------------------------------------------------------------\u001b[0m",
      "\u001b[0;31mNameError\u001b[0m                                 Traceback (most recent call last)",
      "Cell \u001b[0;32mIn[1], line 8\u001b[0m\n\u001b[1;32m      4\u001b[0m x_as, edge_index_as \u001b[38;5;241m=\u001b[39m [], []\n\u001b[1;32m      5\u001b[0m x_bs, edge_index_bs \u001b[38;5;241m=\u001b[39m [], []\n\u001b[0;32m----> 8\u001b[0m \u001b[38;5;28;01mfor\u001b[39;00m uniprot_pair \u001b[38;5;129;01min\u001b[39;00m \u001b[43muniprot_pairs\u001b[49m:\n\u001b[1;32m      9\u001b[0m     uniprot_A \u001b[38;5;241m=\u001b[39m uniprot_pair[\u001b[38;5;241m0\u001b[39m]\n\u001b[1;32m     10\u001b[0m     uniprot_B \u001b[38;5;241m=\u001b[39m uniprot_pair[\u001b[38;5;241m1\u001b[39m]\n",
      "\u001b[0;31mNameError\u001b[0m: name 'uniprot_pairs' is not defined"
     ]
    }
   ],
   "source": [
    "metadata_as = []\n",
    "metadata_bs = []\n",
    "\n",
    "x_as, edge_index_as = [], []\n",
    "x_bs, edge_index_bs = [], []\n",
    "\n",
    "\n",
    "for uniprot_pair in uniprot_pairs:\n",
    "    uniprot_A = uniprot_pair[0]\n",
    "    uniprot_B = uniprot_pair[1]\n",
    "\n",
    "    metadata_a = create_PPI_dataset.get_metadata(uniprot_A)\n",
    "    metadata_b = create_PPI_dataset.get_metadata(uniprot_B)\n",
    "    \n",
    "    x_a, edge_index_a = create_PPI_dataset.get_graph_raw(uniprot_A)\n",
    "    x_b, edge_index_b = create_PPI_dataset.get_graph_raw(uniprot_B)\n",
    "\n",
    "    metadata_as.append(metadata_a)\n",
    "    metadata_bs.append(metadata_b)\n",
    "    \n",
    "    x_as.append(x_a)\n",
    "    edge_index_as.append(edge_index_a)\n",
    "    x_bs.append(x_b)\n",
    "    edge_index_bs.append(edge_index_b)\n",
    "\n",
    "\n",
    "def pad_arrays(arrays, pad_value=0):\n",
    "    max_shape = max((a.shape for a in arrays), key=lambda x: (x[0], x[1]))\n",
    "    padded_arrays = [np.pad(a, ((0, max_shape[0] - a.shape[0]), (0, max_shape[1] - a.shape[1])), \n",
    "                            mode='constant', constant_values=pad_value) for a in arrays]\n",
    "    return padded_arrays\n",
    "    \n",
    "padded_x_as = np.array(pad_arrays(x_as))\n",
    "padded_x_bs = np.array(pad_arrays(x_bs))\n",
    "padded_edge_index_as = np.array(pad_arrays(edge_index_as)) \n",
    "padded_edge_index_bs = np.array(pad_arrays(edge_index_bs))\n",
    "\n",
    "# Print the full array\n",
    "print(padded_edge_index_as[1][1])\n",
    "\n",
    "\n",
    "model_input = []\n",
    "\n",
    "(\n",
    "torch.tensor(metadata_as, dtype=torch.float).to(device),\n",
    "torch.tensor(metadata_bs, dtype=torch.float).to(device),\n",
    "torch.tensor(padded_x_as, dtype=torch.float).to(device),\n",
    "torch.tensor(padded_edge_index_as, dtype=torch.long).to(device),\n",
    "torch.tensor(padded_x_bs, dtype=torch.float).to(device),\n",
    "torch.tensor(padded_edge_index_bs, dtype=torch.long).to(device),\n",
    ")\n",
    "\n",
    "model(*model_input)"
   ]
  },
  {
   "cell_type": "code",
   "execution_count": 17,
   "id": "990196ca-a2ba-4209-84fd-9039278c5ece",
   "metadata": {},
   "outputs": [],
   "source": [
    "import torch_geometric"
   ]
  },
  {
   "cell_type": "raw",
   "id": "56334956-09d7-4a64-8c4b-efdb8599cdb8",
   "metadata": {},
   "source": [
    "globale"
   ]
  }
 ],
 "metadata": {
  "kernelspec": {
   "display_name": "M",
   "language": "python",
   "name": "m"
  },
  "language_info": {
   "codemirror_mode": {
    "name": "ipython",
    "version": 3
   },
   "file_extension": ".py",
   "mimetype": "text/x-python",
   "name": "python",
   "nbconvert_exporter": "python",
   "pygments_lexer": "ipython3",
   "version": "3.10.13"
  }
 },
 "nbformat": 4,
 "nbformat_minor": 5
}
