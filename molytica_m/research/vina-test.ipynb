{
 "cells": [
  {
   "cell_type": "code",
   "execution_count": 37,
   "metadata": {},
   "outputs": [],
   "source": [
    "from openbabel import openbabel\n",
    "\n",
    "def convert_pdb_to_pdbqt(input_pdb, output_pdbqt):\n",
    "    obConversion = openbabel.OBConversion()\n",
    "    obConversion.SetInAndOutFormats(\"pdb\", \"pdbqt\")\n",
    "\n",
    "    # Read the PDB file\n",
    "    mol = openbabel.OBMol()\n",
    "    if not obConversion.ReadFile(mol, input_pdb):\n",
    "        print(f\"Failed to read the file {input_pdb}\")\n",
    "        return\n",
    "\n",
    "    # Add hydrogens\n",
    "    mol.AddHydrogens()\n",
    "\n",
    "    # Assign Gasteiger charges\n",
    "    obChargeModel = openbabel.OBChargeModel.FindType(\"gasteiger\")\n",
    "    if not obChargeModel.ComputeCharges(mol):\n",
    "        print(\"Failed to assign Gasteiger charges.\")\n",
    "        return\n",
    "\n",
    "    # Convert to PDBQT string\n",
    "    pdbqt_string = obConversion.WriteString(mol)\n",
    "\n",
    "    # Filter out unwanted lines\n",
    "    filtered_pdbqt = \"\\n\".join([line for line in pdbqt_string.splitlines()\n",
    "                                if not line.startswith((\"REMARK\", \"BRANCH\", \"ENDBRANCH\", \"ROOT\", \"ENDROOT\", \"TORSDOF\", \"ENDTORSDOF\")) and not \"UNL\" in line])\n",
    "\n",
    "    # Write the filtered PDBQT string to a file\n",
    "    with open(output_pdbqt, \"w\") as file:\n",
    "        file.write(filtered_pdbqt)\n",
    "\n",
    "    print(f\"File converted: {output_pdbqt}\")"
   ]
  },
  {
   "cell_type": "code",
   "execution_count": 25,
   "metadata": {},
   "outputs": [
    {
     "name": "stdout",
     "output_type": "stream",
     "text": [
      "File converted: generic_ligand.pdbqt\n"
     ]
    }
   ],
   "source": [
    "from rdkit import Chem\n",
    "from rdkit.Chem import AllChem\n",
    "import os\n",
    "\n",
    "# Convert SMILES to 3D structure using RDKit\n",
    "smiles = \"CCO\"  # Example SMILES\n",
    "mol = Chem.MolFromSmiles(smiles)\n",
    "mol = Chem.AddHs(mol)\n",
    "AllChem.EmbedMolecule(mol, AllChem.ETKDG())\n",
    "AllChem.MMFFOptimizeMolecule(mol)\n",
    "\n",
    "# Save the 3D structure to a PDB file\n",
    "pdb_filename = \"generic_ligand.pdb\"\n",
    "writer = Chem.PDBWriter(pdb_filename)\n",
    "writer.write(mol)\n",
    "writer.close()\n",
    "convert_pdb_to_pdbqt(\"generic_ligand.pdb\", \"generic_ligand.pdbqt\")"
   ]
  },
  {
   "cell_type": "code",
   "execution_count": 26,
   "metadata": {},
   "outputs": [
    {
     "name": "stdout",
     "output_type": "stream",
     "text": [
      "File converted: d_block_ligand.pdbqt\n"
     ]
    }
   ],
   "source": [
    "d_block = \"C1CN(CCC1(C2=CC=C(C=C2)Cl)O)CCCC(=O)C3=CC=C(C=C3)F\"\n",
    "\n",
    "from rdkit import Chem\n",
    "from rdkit.Chem import AllChem\n",
    "import os\n",
    "\n",
    "# Convert SMILES to 3D structure using RDKit\n",
    "smiles = d_block  # Example SMILES\n",
    "mol = Chem.MolFromSmiles(smiles)\n",
    "mol = Chem.AddHs(mol)\n",
    "AllChem.EmbedMolecule(mol, AllChem.ETKDG())\n",
    "AllChem.MMFFOptimizeMolecule(mol)\n",
    "\n",
    "# Save the 3D structure to a PDB file\n",
    "pdb_filename = \"d_block_ligand.pdb\"\n",
    "writer = Chem.PDBWriter(pdb_filename)\n",
    "writer.write(mol)\n",
    "writer.close()\n",
    "convert_pdb_to_pdbqt(\"d_block_ligand.pdb\", \"d_block_ligand.pdbqt\")"
   ]
  },
  {
   "cell_type": "code",
   "execution_count": 32,
   "metadata": {},
   "outputs": [],
   "source": [
    "import gzip\n",
    "from rdkit import Chem\n",
    "from rdkit.Chem import AllChem\n",
    "\n",
    "# Path to the gzipped PDB file\n",
    "gzipped_pdb_path = \"../../data/curated_chembl/alpha_fold_data/HUMAN/AF-P14416-F1-model_v4.pdb.gz\"\n",
    "\n",
    "# Use gzip to open and read the gzipped PDB file\n",
    "with gzip.open(gzipped_pdb_path, 'rt') as file:\n",
    "    pdb_data = file.read()\n",
    "\n",
    "# Convert the PDB data to an RDKit molecule\n",
    "protein = Chem.MolFromPDBBlock(pdb_data, removeHs=False)\n",
    "\n",
    "# Do charge calculation (TODO)\n",
    "\n",
    "# Save the prepared structure to a new PDB file\n",
    "Chem.MolToPDBFile(protein, \"prepared_d2_recept.pdb\")"
   ]
  },
  {
   "cell_type": "code",
   "execution_count": 38,
   "metadata": {},
   "outputs": [
    {
     "name": "stdout",
     "output_type": "stream",
     "text": [
      "File converted: prepared_d2_recept.pdbqt\n"
     ]
    }
   ],
   "source": [
    "convert_pdb_to_pdbqt(\"prepared_d2_recept.pdb\", \"prepared_d2_recept.pdbqt\")"
   ]
  },
  {
   "cell_type": "code",
   "execution_count": 40,
   "metadata": {},
   "outputs": [
    {
     "ename": "TypeError",
     "evalue": "\n\nPDBQT parsing error: Unknown or inappropriate tag found in flex residue or ligand.\n > ATOM      3  O1  UNL     1      -1.388   0.657   0.371  0.00  0.00    -0.395 OA\n",
     "output_type": "error",
     "traceback": [
      "\u001b[0;31m---------------------------------------------------------------------------\u001b[0m",
      "\u001b[0;31mTypeError\u001b[0m                                 Traceback (most recent call last)",
      "Cell \u001b[0;32mIn[40], line 16\u001b[0m\n\u001b[1;32m     14\u001b[0m \u001b[38;5;66;03m# Set receptor and ligand\u001b[39;00m\n\u001b[1;32m     15\u001b[0m v\u001b[38;5;241m.\u001b[39mset_receptor(rigid_pdbqt_filename\u001b[38;5;241m=\u001b[39m\u001b[38;5;124m\"\u001b[39m\u001b[38;5;124mprepared_d2_recept.pdbqt\u001b[39m\u001b[38;5;124m\"\u001b[39m)\n\u001b[0;32m---> 16\u001b[0m \u001b[43mv\u001b[49m\u001b[38;5;241;43m.\u001b[39;49m\u001b[43mset_ligand_from_file\u001b[49m\u001b[43m(\u001b[49m\u001b[38;5;124;43m'\u001b[39;49m\u001b[38;5;124;43mgeneric_ligand.pdbqt\u001b[39;49m\u001b[38;5;124;43m'\u001b[39;49m\u001b[43m)\u001b[49m\n\u001b[1;32m     18\u001b[0m \u001b[38;5;66;03m# Compute Vina maps and perform docking\u001b[39;00m\n\u001b[1;32m     19\u001b[0m v\u001b[38;5;241m.\u001b[39mcompute_vina_maps(center\u001b[38;5;241m=\u001b[39m[\u001b[38;5;241m0.\u001b[39m, \u001b[38;5;241m0.\u001b[39m, \u001b[38;5;241m0.\u001b[39m], box_size\u001b[38;5;241m=\u001b[39m[\u001b[38;5;241m30\u001b[39m, \u001b[38;5;241m30\u001b[39m, \u001b[38;5;241m30\u001b[39m])\n",
      "File \u001b[0;32m~/miniconda3/envs/M/lib/python3.10/site-packages/vina/vina.py:182\u001b[0m, in \u001b[0;36mVina.set_ligand_from_file\u001b[0;34m(self, pdbqt_filename)\u001b[0m\n\u001b[1;32m    179\u001b[0m         \u001b[38;5;28;01mraise\u001b[39;00m \u001b[38;5;167;01mTypeError\u001b[39;00m(\u001b[38;5;124m'\u001b[39m\u001b[38;5;124mError: Vina requires a PDBQT file for the ligand.\u001b[39m\u001b[38;5;124m'\u001b[39m)\n\u001b[1;32m    181\u001b[0m \u001b[38;5;28;01mif\u001b[39;00m \u001b[38;5;28mlen\u001b[39m(pdbqt_filename) \u001b[38;5;241m==\u001b[39m \u001b[38;5;241m1\u001b[39m:\n\u001b[0;32m--> 182\u001b[0m     \u001b[38;5;28;43mself\u001b[39;49m\u001b[38;5;241;43m.\u001b[39;49m\u001b[43m_vina\u001b[49m\u001b[38;5;241;43m.\u001b[39;49m\u001b[43mset_ligand_from_file\u001b[49m\u001b[43m(\u001b[49m\u001b[43mpdbqt_filename\u001b[49m\u001b[43m[\u001b[49m\u001b[38;5;241;43m0\u001b[39;49m\u001b[43m]\u001b[49m\u001b[43m)\u001b[49m\n\u001b[1;32m    183\u001b[0m \u001b[38;5;28;01melse\u001b[39;00m:\n\u001b[1;32m    184\u001b[0m     \u001b[38;5;28mself\u001b[39m\u001b[38;5;241m.\u001b[39m_vina\u001b[38;5;241m.\u001b[39mset_ligand_from_file(pdbqt_filename)\n",
      "File \u001b[0;32m~/miniconda3/envs/M/lib/python3.10/site-packages/vina/vina_wrapper.py:710\u001b[0m, in \u001b[0;36mVina.set_ligand_from_file\u001b[0;34m(self, *args)\u001b[0m\n\u001b[1;32m    709\u001b[0m \u001b[38;5;28;01mdef\u001b[39;00m \u001b[38;5;21mset_ligand_from_file\u001b[39m(\u001b[38;5;28mself\u001b[39m, \u001b[38;5;241m*\u001b[39margs):\n\u001b[0;32m--> 710\u001b[0m     \u001b[38;5;28;01mreturn\u001b[39;00m \u001b[43m_vina_wrapper\u001b[49m\u001b[38;5;241;43m.\u001b[39;49m\u001b[43mVina_set_ligand_from_file\u001b[49m\u001b[43m(\u001b[49m\u001b[38;5;28;43mself\u001b[39;49m\u001b[43m,\u001b[49m\u001b[43m \u001b[49m\u001b[38;5;241;43m*\u001b[39;49m\u001b[43margs\u001b[49m\u001b[43m)\u001b[49m\n",
      "\u001b[0;31mTypeError\u001b[0m: \n\nPDBQT parsing error: Unknown or inappropriate tag found in flex residue or ligand.\n > ATOM      3  O1  UNL     1      -1.388   0.657   0.371  0.00  0.00    -0.395 OA\n"
     ]
    }
   ],
   "source": [
    "import os\n",
    "from vina import Vina\n",
    "\n",
    "# Filepath for the docking results\n",
    "docking_results_filepath = \"docking_results_generic.pdbqt\"\n",
    "\n",
    "# Delete the existing results file if it exists\n",
    "if os.path.exists(docking_results_filepath):\n",
    "    os.remove(docking_results_filepath)\n",
    "\n",
    "# Initialize Vina\n",
    "v = Vina()\n",
    "\n",
    "# Set receptor and ligand\n",
    "v.set_receptor(rigid_pdbqt_filename=\"prepared_d2_recept.pdbqt\")\n",
    "v.set_ligand_from_file('generic_ligand.pdbqt')\n",
    "\n",
    "# Compute Vina maps and perform docking\n",
    "v.compute_vina_maps(center=[0., 0., 0.], box_size=[30, 30, 30])\n",
    "print(v.score())\n",
    "print(v.optimize())\n",
    "\n",
    "# Docking with exhaustiveness set to 32\n",
    "v.dock(exhaustiveness=32)\n",
    "\n",
    "# Write the docking results\n",
    "v.write_poses(pdbqt_filename=docking_results_filepath)\n"
   ]
  },
  {
   "cell_type": "code",
   "execution_count": 35,
   "metadata": {},
   "outputs": [
    {
     "ename": "RuntimeError",
     "evalue": "Error: file prepared_protein.pdbqt does not exist.",
     "output_type": "error",
     "traceback": [
      "\u001b[0;31m---------------------------------------------------------------------------\u001b[0m",
      "\u001b[0;31mRuntimeError\u001b[0m                              Traceback (most recent call last)",
      "Cell \u001b[0;32mIn[35], line 15\u001b[0m\n\u001b[1;32m     12\u001b[0m v \u001b[38;5;241m=\u001b[39m Vina()\n\u001b[1;32m     14\u001b[0m \u001b[38;5;66;03m# Set receptor and ligand\u001b[39;00m\n\u001b[0;32m---> 15\u001b[0m \u001b[43mv\u001b[49m\u001b[38;5;241;43m.\u001b[39;49m\u001b[43mset_receptor\u001b[49m\u001b[43m(\u001b[49m\u001b[43mrigid_pdbqt_filename\u001b[49m\u001b[38;5;241;43m=\u001b[39;49m\u001b[38;5;124;43m\"\u001b[39;49m\u001b[38;5;124;43mprepared_protein.pdbqt\u001b[39;49m\u001b[38;5;124;43m\"\u001b[39;49m\u001b[43m)\u001b[49m\n\u001b[1;32m     16\u001b[0m v\u001b[38;5;241m.\u001b[39mset_ligand_from_file(\u001b[38;5;124m'\u001b[39m\u001b[38;5;124md_block_ligand.pdbqt\u001b[39m\u001b[38;5;124m'\u001b[39m)\n\u001b[1;32m     18\u001b[0m \u001b[38;5;66;03m# Compute Vina maps and perform docking\u001b[39;00m\n",
      "File \u001b[0;32m~/miniconda3/envs/M/lib/python3.10/site-packages/vina/vina.py:140\u001b[0m, in \u001b[0;36mVina.set_receptor\u001b[0;34m(self, rigid_pdbqt_filename, flex_pdbqt_filename)\u001b[0m\n\u001b[1;32m    138\u001b[0m \u001b[38;5;28;01mif\u001b[39;00m rigid_pdbqt_filename \u001b[38;5;129;01mis\u001b[39;00m \u001b[38;5;129;01mnot\u001b[39;00m \u001b[38;5;28;01mNone\u001b[39;00m:\n\u001b[1;32m    139\u001b[0m     \u001b[38;5;28;01mif\u001b[39;00m \u001b[38;5;129;01mnot\u001b[39;00m os\u001b[38;5;241m.\u001b[39mpath\u001b[38;5;241m.\u001b[39mexists(rigid_pdbqt_filename):\n\u001b[0;32m--> 140\u001b[0m         \u001b[38;5;28;01mraise\u001b[39;00m \u001b[38;5;167;01mRuntimeError\u001b[39;00m(\u001b[38;5;124m'\u001b[39m\u001b[38;5;124mError: file \u001b[39m\u001b[38;5;132;01m%s\u001b[39;00m\u001b[38;5;124m does not exist.\u001b[39m\u001b[38;5;124m'\u001b[39m \u001b[38;5;241m%\u001b[39m rigid_pdbqt_filename)\n\u001b[1;32m    141\u001b[0m     _, extension \u001b[38;5;241m=\u001b[39m os\u001b[38;5;241m.\u001b[39mpath\u001b[38;5;241m.\u001b[39msplitext(rigid_pdbqt_filename)\n\u001b[1;32m    142\u001b[0m     \u001b[38;5;28;01mif\u001b[39;00m \u001b[38;5;129;01mnot\u001b[39;00m extension \u001b[38;5;241m==\u001b[39m \u001b[38;5;124m'\u001b[39m\u001b[38;5;124m.pdbqt\u001b[39m\u001b[38;5;124m'\u001b[39m:\n",
      "\u001b[0;31mRuntimeError\u001b[0m: Error: file prepared_protein.pdbqt does not exist."
     ]
    }
   ],
   "source": [
    "import os\n",
    "from vina import Vina\n",
    "\n",
    "# Filepath for the docking results\n",
    "docking_results_filepath = \"docking_results_d_block.pdbqt\"\n",
    "\n",
    "# Delete the existing results file if it exists\n",
    "if os.path.exists(docking_results_filepath):\n",
    "    os.remove(docking_results_filepath)\n",
    "\n",
    "# Initialize Vina\n",
    "v = Vina()\n",
    "\n",
    "# Set receptor and ligand\n",
    "v.set_receptor(rigid_pdbqt_filename=\"prepared_d2_recept.pdbqt\")\n",
    "v.set_ligand_from_file('d_block_ligand.pdbqt')\n",
    "\n",
    "# Compute Vina maps and perform docking\n",
    "v.compute_vina_maps(center=[0., 0., 0.], box_size=[30, 30, 30])\n",
    "print(v.score())\n",
    "print(v.optimize())\n",
    "\n",
    "# Docking with exhaustiveness set to 32\n",
    "v.dock(exhaustiveness=32)\n",
    "\n",
    "# Write the docking results\n",
    "v.write_poses(pdbqt_filename=docking_results_filepath)\n"
   ]
  },
  {
   "cell_type": "code",
   "execution_count": null,
   "metadata": {},
   "outputs": [],
   "source": []
  }
 ],
 "metadata": {
  "kernelspec": {
   "display_name": "M",
   "language": "python",
   "name": "python3"
  },
  "language_info": {
   "codemirror_mode": {
    "name": "ipython",
    "version": 3
   },
   "file_extension": ".py",
   "mimetype": "text/x-python",
   "name": "python",
   "nbconvert_exporter": "python",
   "pygments_lexer": "ipython3",
   "version": "3.10.13"
  }
 },
 "nbformat": 4,
 "nbformat_minor": 2
}
