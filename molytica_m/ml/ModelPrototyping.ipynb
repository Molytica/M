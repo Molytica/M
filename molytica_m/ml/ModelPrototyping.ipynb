{
 "cells": [
  {
   "cell_type": "code",
   "execution_count": 2,
   "id": "7dd971b2-512e-48f9-946e-2da6da717971",
   "metadata": {},
   "outputs": [],
   "source": [
    "import torch\n",
    "import torch.nn as nn\n",
    "import torch.nn.functional as F\n",
    "from torch_geometric.nn import GCNConv, global_mean_pool"
   ]
  },
  {
   "cell_type": "code",
   "execution_count": 3,
   "id": "208c9548-9424-438e-b637-1bf90be3a216",
   "metadata": {},
   "outputs": [],
   "source": [
    "class ProteinInteractionPredictor(nn.Module):\n",
    "    def __init__(self, metadata_vector_size=18640, graph_feature_size=9):\n",
    "        super(ProteinInteractionPredictor, self).__init__()\n",
    "        \n",
    "        # Metadata processing layers\n",
    "        self.fc1 = nn.Linear(metadata_vector_size, 256)\n",
    "        self.fc2 = nn.Linear(256, 256)\n",
    "\n",
    "        # Graph processing layers (using GCN as an example)\n",
    "        self.gcn1 = GCNConv(graph_feature_size, 128)\n",
    "        self.gcn2 = GCNConv(128, 128)\n",
    "\n",
    "        # Combining features\n",
    "        self.fc_combined = nn.Linear(256 * 2 + 128 * 2, 128)  # Assuming combined features are concatenated\n",
    "\n",
    "        # Final output layer\n",
    "        self.output = nn.Linear(128, 1)\n",
    "\n",
    "    def forward(self, metadata_a, metadata_b, x_a, edge_index_a, batch_vector_a, x_b, edge_index_b, batch_vector_b):\n",
    "        # Process metadata\n",
    "        metadata_a = F.relu(self.fc1(metadata_a))\n",
    "        metadata_a = F.relu(self.fc2(metadata_a))\n",
    "\n",
    "        metadata_b = F.relu(self.fc1(metadata_b))\n",
    "        metadata_b = F.relu(self.fc2(metadata_b))\n",
    "\n",
    "        # Process graph features\n",
    "        x_a = F.relu(self.gcn1(x_a, edge_index_a))\n",
    "        x_a = F.relu(self.gcn2(x_a, edge_index_a))\n",
    "        x_a = global_mean_pool(x_a, batch_vector_a)  # Global average pooling\n",
    "\n",
    "        x_b = F.relu(self.gcn1(x_b, edge_index_b))\n",
    "        x_b = F.relu(self.gcn2(x_b, edge_index_b))\n",
    "        x_b = global_mean_pool(x_b, batch_vector_b)  # Global average pooling\n",
    "\n",
    "        # Combine features\n",
    "        combined = torch.cat([metadata_a, metadata_b, x_a, x_b], dim=1)\n",
    "        combined = F.relu(self.fc_combined(combined))\n",
    "\n",
    "        # Output layer\n",
    "        out = torch.sigmoid(self.output(combined))\n",
    "        return out"
   ]
  },
  {
   "cell_type": "code",
   "execution_count": 4,
   "id": "f549c07f-f79c-405c-9fab-708657e26bdc",
   "metadata": {},
   "outputs": [],
   "source": [
    "model = ProteinInteractionPredictor()"
   ]
  },
  {
   "cell_type": "code",
   "execution_count": 7,
   "id": "a8590329",
   "metadata": {},
   "outputs": [
    {
     "ename": "FileNotFoundError",
     "evalue": "[Errno 2] No such file or directory: 'data/alpha_fold_data/'",
     "output_type": "error",
     "traceback": [
      "\u001b[0;31m---------------------------------------------------------------------------\u001b[0m",
      "\u001b[0;31mFileNotFoundError\u001b[0m                         Traceback (most recent call last)",
      "Cell \u001b[0;32mIn[7], line 3\u001b[0m\n\u001b[1;32m      1\u001b[0m \u001b[38;5;28;01mimport\u001b[39;00m \u001b[38;5;21;01mrandom\u001b[39;00m\n\u001b[1;32m      2\u001b[0m \u001b[38;5;28;01mfrom\u001b[39;00m \u001b[38;5;21;01mmolytica_m\u001b[39;00m\u001b[38;5;21;01m.\u001b[39;00m\u001b[38;5;21;01mdata_tools\u001b[39;00m \u001b[38;5;28;01mimport\u001b[39;00m alpha_fold_tools\n\u001b[0;32m----> 3\u001b[0m af_uniprots \u001b[38;5;241m=\u001b[39m \u001b[43malpha_fold_tools\u001b[49m\u001b[38;5;241;43m.\u001b[39;49m\u001b[43mget_alphafold_uniprot_ids\u001b[49m\u001b[43m(\u001b[49m\u001b[43m)\u001b[49m\n\u001b[1;32m      4\u001b[0m uniprot_pairs \u001b[38;5;241m=\u001b[39m [[random\u001b[38;5;241m.\u001b[39mchoice(af_uniprots), random\u001b[38;5;241m.\u001b[39mchoice(af_uniprots)], [random\u001b[38;5;241m.\u001b[39mchoice(af_uniprots), random\u001b[38;5;241m.\u001b[39mchoice(af_uniprots)]]\n",
      "File \u001b[0;32m~/M/molytica_m/data_tools/alpha_fold_tools.py:4\u001b[0m, in \u001b[0;36mget_alphafold_uniprot_ids\u001b[0;34m()\u001b[0m\n\u001b[1;32m      3\u001b[0m \u001b[38;5;28;01mdef\u001b[39;00m \u001b[38;5;21mget_alphafold_uniprot_ids\u001b[39m():\n\u001b[0;32m----> 4\u001b[0m     ids \u001b[38;5;241m=\u001b[39m [x\u001b[38;5;241m.\u001b[39msplit(\u001b[38;5;124m\"\u001b[39m\u001b[38;5;124m-\u001b[39m\u001b[38;5;124m\"\u001b[39m)[\u001b[38;5;241m1\u001b[39m] \u001b[38;5;28;01mfor\u001b[39;00m x \u001b[38;5;129;01min\u001b[39;00m \u001b[43mos\u001b[49m\u001b[38;5;241;43m.\u001b[39;49m\u001b[43mlistdir\u001b[49m\u001b[43m(\u001b[49m\u001b[38;5;124;43m\"\u001b[39;49m\u001b[38;5;124;43mdata/alpha_fold_data/\u001b[39;49m\u001b[38;5;124;43m\"\u001b[39;49m\u001b[43m)\u001b[49m \u001b[38;5;28;01mif\u001b[39;00m \u001b[38;5;28mtype\u001b[39m(x) \u001b[38;5;241m==\u001b[39m \u001b[38;5;28mstr\u001b[39m \u001b[38;5;129;01mand\u001b[39;00m \u001b[38;5;28mlen\u001b[39m(x\u001b[38;5;241m.\u001b[39msplit(\u001b[38;5;124m\"\u001b[39m\u001b[38;5;124m-\u001b[39m\u001b[38;5;124m\"\u001b[39m)) \u001b[38;5;241m>\u001b[39m \u001b[38;5;241m1\u001b[39m]\n\u001b[1;32m      5\u001b[0m     \u001b[38;5;28;01mreturn\u001b[39;00m \u001b[38;5;28msorted\u001b[39m(\u001b[38;5;28mlist\u001b[39m(\u001b[38;5;28mset\u001b[39m(ids)))\n",
      "\u001b[0;31mFileNotFoundError\u001b[0m: [Errno 2] No such file or directory: 'data/alpha_fold_data/'"
     ]
    }
   ],
   "source": []
  },
  {
   "cell_type": "code",
   "execution_count": null,
   "id": "dde9a629",
   "metadata": {},
   "outputs": [],
   "source": []
  }
 ],
 "metadata": {
  "kernelspec": {
   "display_name": "M",
   "language": "python",
   "name": "python3"
  },
  "language_info": {
   "codemirror_mode": {
    "name": "ipython",
    "version": 3
   },
   "file_extension": ".py",
   "mimetype": "text/x-python",
   "name": "python",
   "nbconvert_exporter": "python",
   "pygments_lexer": "ipython3",
   "version": "3.10.13"
  }
 },
 "nbformat": 4,
 "nbformat_minor": 5
}
