{
 "cells": [
  {
   "cell_type": "code",
   "execution_count": 1,
   "id": "7dd971b2-512e-48f9-946e-2da6da717971",
   "metadata": {},
   "outputs": [],
   "source": [
    "import torch\n",
    "import torch.nn as nn\n",
    "import torch.nn.functional as F\n",
    "from torch_geometric.nn import GCNConv, global_mean_pool\n",
    "\n",
    "class ProteinInteractionPredictor(nn.Module):\n",
    "    def __init__(self, metadata_vector_size, graph_feature_size):\n",
    "        super(ProteinInteractionPredictor, self).__init__()\n",
    "        \n",
    "        # Metadata processing layers\n",
    "        self.fc1 = nn.Linear(metadata_vector_size, 128)\n",
    "        self.fc2 = nn.Linear(128, 128)\n",
    "\n",
    "        # Graph processing layers (using GCN as an example)\n",
    "        self.gcn1 = GCNConv(graph_feature_size, 128)\n",
    "        self.gcn2 = GCNConv(128, 128)\n",
    "\n",
    "        # Combining features\n",
    "        self.fc_combined = nn.Linear(512, 128)  # Assuming combined features are concatenated\n",
    "\n",
    "        # Final output layer\n",
    "        self.output = nn.Linear(128, 1)\n",
    "\n",
    "    def forward(self, metadata_a, metadata_b, x_a, edge_index_a, x_b, edge_index_b):\n",
    "        # Process metadata\n",
    "        metadata_a = F.relu(self.fc1(metadata_a))\n",
    "        metadata_a = F.relu(self.fc2(metadata_a))\n",
    "\n",
    "        metadata_b = F.relu(self.fc1(metadata_b))\n",
    "        metadata_b = F.relu(self.fc2(metadata_b))\n",
    "\n",
    "        # Process graph features\n",
    "        x_a = F.relu(self.gcn1(x_a, edge_index_a))\n",
    "        x_a = F.relu(self.gcn2(x_a, edge_index_a))\n",
    "        x_a = global_mean_pool(x_a, torch.zeros(x_a.size(0), dtype=torch.long, device=x_a.device))  # Global average pooling\n",
    "\n",
    "        x_b = F.relu(self.gcn1(x_b, edge_index_b))\n",
    "        x_b = F.relu(self.gcn2(x_b, edge_index_b))\n",
    "        x_b = global_mean_pool(x_b, torch.zeros(x_b.size(0), dtype=torch.long, device=x_b.device))  # Global average pooling\n",
    "\n",
    "        # Combine features\n",
    "        combined = torch.cat([metadata_a, metadata_b, x_a, x_b], dim=1)\n",
    "        combined = F.relu(self.fc_combined(combined))\n",
    "\n",
    "        # Output layer\n",
    "        out = torch.sigmoid(self.output(combined))\n",
    "        return out"
   ]
  },
  {
   "cell_type": "code",
   "execution_count": 2,
   "id": "208c9548-9424-438e-b637-1bf90be3a216",
   "metadata": {},
   "outputs": [
    {
     "ename": "TypeError",
     "evalue": "ProteinInteractionPredictor.__init__() missing 2 required positional arguments: 'metadata_vector_size' and 'graph_feature_size'",
     "output_type": "error",
     "traceback": [
      "\u001b[0;31m---------------------------------------------------------------------------\u001b[0m",
      "\u001b[0;31mTypeError\u001b[0m                                 Traceback (most recent call last)",
      "Cell \u001b[0;32mIn[2], line 1\u001b[0m\n\u001b[0;32m----> 1\u001b[0m model \u001b[38;5;241m=\u001b[39m \u001b[43mProteinInteractionPredictor\u001b[49m\u001b[43m(\u001b[49m\u001b[43m)\u001b[49m\n",
      "\u001b[0;31mTypeError\u001b[0m: ProteinInteractionPredictor.__init__() missing 2 required positional arguments: 'metadata_vector_size' and 'graph_feature_size'"
     ]
    }
   ],
   "source": [
    "model = ProteinInteractionPredictor()"
   ]
  },
  {
   "cell_type": "code",
   "execution_count": null,
   "id": "f549c07f-f79c-405c-9fab-708657e26bdc",
   "metadata": {},
   "outputs": [],
   "source": []
  }
 ],
 "metadata": {
  "kernelspec": {
   "display_name": "M",
   "language": "python",
   "name": "m"
  },
  "language_info": {
   "codemirror_mode": {
    "name": "ipython",
    "version": 3
   },
   "file_extension": ".py",
   "mimetype": "text/x-python",
   "name": "python",
   "nbconvert_exporter": "python",
   "pygments_lexer": "ipython3",
   "version": "3.10.13"
  }
 },
 "nbformat": 4,
 "nbformat_minor": 5
}
