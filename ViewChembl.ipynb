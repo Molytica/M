{
 "cells": [
  {
   "cell_type": "code",
   "execution_count": 86,
   "id": "45ad24cd-cebb-438e-a4da-cbebe4b77d40",
   "metadata": {},
   "outputs": [
    {
     "name": "stdout",
     "output_type": "stream",
     "text": [
      "(15398,)\n"
     ]
    }
   ],
   "source": [
    "import sqlite3\n",
    "\n",
    "# Replace 'your_chembl_database_file.db' with the path to your ChEMBL SQLite file\n",
    "database_path = 'data/chembl/chembl_33.db'\n",
    "\n",
    "# Connect to the SQLite database\n",
    "conn = sqlite3.connect(database_path)\n",
    "\n",
    "# Create a cursor object\n",
    "cursor = conn.cursor()\n",
    "\n",
    "# Execute a query (example: selecting 10 rows from a table)\n",
    "query = \"SELECT COUNT(*) FROM target_dictionary LIMIT 30;\"  # Replace 'your_table_name' with the actual table name\n",
    "cursor.execute(query)\n",
    "\n",
    "# Fetch and print the results\n",
    "rows = cursor.fetchall()\n",
    "for row in rows:\n",
    "    print(row)"
   ]
  },
  {
   "cell_type": "code",
   "execution_count": 87,
   "id": "08ee35cd-5328-487c-adf0-7e20e4ce92c6",
   "metadata": {},
   "outputs": [
    {
     "name": "stdout",
     "output_type": "stream",
     "text": [
      "['action_type', 'assay_type', 'chembl_id_lookup', 'confidence_score_lookup', 'curation_lookup', 'chembl_release', 'source', 'relationship_type', 'target_type', 'variant_sequences', 'bioassay_ontology', 'data_validity_lookup', 'activity_smid', 'activity_stds_lookup', 'assay_classification', 'atc_classification', 'bio_component_sequences', 'component_sequences', 'protein_classification', 'domains', 'go_classification', 'structural_alert_sets', 'products', 'frac_classification', 'hrac_classification', 'irac_classification', 'research_stem', 'organism_class', 'patent_use_codes', 'usan_stems', 'version', 'cell_dictionary', 'docs', 'target_dictionary', 'tissue_dictionary', 'molecule_dictionary', 'activity_supp', 'component_class', 'component_domains', 'component_go', 'component_synonyms', 'structural_alerts', 'defined_daily_dose', 'product_patents', 'protein_class_synonyms', 'research_companies', 'assays', 'compound_records', 'binding_sites', 'biotherapeutics', 'compound_properties', 'compound_structural_alerts', 'compound_structures', 'molecule_atc_classification', 'molecule_frac_classification', 'molecule_hierarchy', 'molecule_hrac_classification', 'molecule_irac_classification', 'molecule_synonyms', 'target_components', 'target_relations', 'activities', 'assay_class_map', 'assay_parameters', 'biotherapeutic_components', 'drug_indication', 'drug_mechanism', 'drug_warning', 'formulations', 'metabolism', 'site_components', 'activity_properties', 'activity_supp_map', 'indication_refs', 'ligand_eff', 'mechanism_refs', 'metabolism_refs', 'predicted_binding_domains', 'warning_refs', 'sqlite_stat1']\n",
      "\n"
     ]
    }
   ],
   "source": [
    "cursor.execute(\"SELECT name FROM sqlite_master WHERE type='table';\")\n",
    "print([x[0] for x in cursor.fetchall()])\n",
    "print()"
   ]
  },
  {
   "cell_type": "code",
   "execution_count": 88,
   "id": "1c797d22-1854-44b3-b0f3-b383dd8c3c16",
   "metadata": {},
   "outputs": [
    {
     "name": "stdout",
     "output_type": "stream",
     "text": [
      "(0, 'molregno', 'BIGINT', 1, None, 1)\n",
      "(1, 'mw_freebase', 'NUMERIC(9, 2)', 0, None, 0)\n",
      "(2, 'alogp', 'NUMERIC(9, 2)', 0, None, 0)\n",
      "(3, 'hba', 'INTEGER', 0, None, 0)\n",
      "(4, 'hbd', 'INTEGER', 0, None, 0)\n",
      "(5, 'psa', 'NUMERIC(9, 2)', 0, None, 0)\n",
      "(6, 'rtb', 'INTEGER', 0, None, 0)\n",
      "(7, 'ro3_pass', 'VARCHAR(3)', 0, None, 0)\n",
      "(8, 'num_ro5_violations', 'SMALLINT', 0, None, 0)\n",
      "(9, 'cx_most_apka', 'NUMERIC(9, 2)', 0, None, 0)\n",
      "(10, 'cx_most_bpka', 'NUMERIC(9, 2)', 0, None, 0)\n",
      "(11, 'cx_logp', 'NUMERIC(9, 2)', 0, None, 0)\n",
      "(12, 'cx_logd', 'NUMERIC(9, 2)', 0, None, 0)\n",
      "(13, 'molecular_species', 'VARCHAR(50)', 0, None, 0)\n",
      "(14, 'full_mwt', 'NUMERIC(9, 2)', 0, None, 0)\n",
      "(15, 'aromatic_rings', 'INTEGER', 0, None, 0)\n",
      "(16, 'heavy_atoms', 'INTEGER', 0, None, 0)\n",
      "(17, 'qed_weighted', 'NUMERIC(3, 2)', 0, None, 0)\n",
      "(18, 'mw_monoisotopic', 'NUMERIC(11, 4)', 0, None, 0)\n",
      "(19, 'full_molformula', 'VARCHAR(100)', 0, None, 0)\n",
      "(20, 'hba_lipinski', 'INTEGER', 0, None, 0)\n",
      "(21, 'hbd_lipinski', 'INTEGER', 0, None, 0)\n",
      "(22, 'num_lipinski_ro5_violations', 'SMALLINT', 0, None, 0)\n",
      "(23, 'np_likeness_score', 'NUMERIC(3, 2)', 0, None, 0)\n"
     ]
    }
   ],
   "source": [
    "conn = sqlite3.connect(database_path)\n",
    "cursor = conn.cursor()\n",
    "\n",
    "# Execute a query (example: selecting 10 rows from a table)\n",
    "query = \"PRAGMA table_info(compound_properties);\"  # Replace 'your_table_name' with the actual table name\n",
    "cursor.execute(query)\n",
    "\n",
    "# Fetch and print the results\n",
    "rows = cursor.fetchall()\n",
    "for row in rows:\n",
    "    print(row)"
   ]
  },
  {
   "cell_type": "code",
   "execution_count": 89,
   "id": "963ef04a-570c-4bdf-ae83-4b6d15d13353",
   "metadata": {},
   "outputs": [
    {
     "name": "stdout",
     "output_type": "stream",
     "text": [
      "(0, 'activity_id', 'BIGINT', 1, None, 1)\n",
      "(1, 'assay_id', 'BIGINT', 1, None, 0)\n",
      "(2, 'doc_id', 'BIGINT', 0, None, 0)\n",
      "(3, 'record_id', 'BIGINT', 1, None, 0)\n",
      "(4, 'molregno', 'BIGINT', 0, None, 0)\n",
      "(5, 'standard_relation', 'VARCHAR(50)', 0, None, 0)\n",
      "(6, 'standard_value', 'NUMERIC', 0, None, 0)\n",
      "(7, 'standard_units', 'VARCHAR(100)', 0, None, 0)\n",
      "(8, 'standard_flag', 'SMALLINT', 0, None, 0)\n",
      "(9, 'standard_type', 'VARCHAR(250)', 0, None, 0)\n",
      "(10, 'activity_comment', 'VARCHAR(4000)', 0, None, 0)\n",
      "(11, 'data_validity_comment', 'VARCHAR(30)', 0, None, 0)\n",
      "(12, 'potential_duplicate', 'SMALLINT', 0, None, 0)\n",
      "(13, 'pchembl_value', 'NUMERIC(4, 2)', 0, None, 0)\n",
      "(14, 'bao_endpoint', 'VARCHAR(11)', 0, None, 0)\n",
      "(15, 'uo_units', 'VARCHAR(10)', 0, None, 0)\n",
      "(16, 'qudt_units', 'VARCHAR(70)', 0, None, 0)\n",
      "(17, 'toid', 'INTEGER', 0, None, 0)\n",
      "(18, 'upper_value', 'NUMERIC', 0, None, 0)\n",
      "(19, 'standard_upper_value', 'NUMERIC', 0, None, 0)\n",
      "(20, 'src_id', 'INTEGER', 0, None, 0)\n",
      "(21, 'type', 'VARCHAR(250)', 1, None, 0)\n",
      "(22, 'relation', 'VARCHAR(50)', 0, None, 0)\n",
      "(23, 'value', 'NUMERIC', 0, None, 0)\n",
      "(24, 'units', 'VARCHAR(100)', 0, None, 0)\n",
      "(25, 'text_value', 'VARCHAR(1000)', 0, None, 0)\n",
      "(26, 'standard_text_value', 'VARCHAR(1000)', 0, None, 0)\n",
      "(27, 'action_type', 'VARCHAR(50)', 0, None, 0)\n"
     ]
    }
   ],
   "source": [
    "conn = sqlite3.connect(database_path)\n",
    "cursor = conn.cursor()\n",
    "\n",
    "# Execute a query (example: selecting 10 rows from a table)\n",
    "query = \"PRAGMA table_info(activities);\"  # Replace 'your_table_name' with the actual table name\n",
    "cursor.execute(query)\n",
    "\n",
    "# Fetch and print the results\n",
    "rows = cursor.fetchall()\n",
    "for row in rows:\n",
    "    print(row)"
   ]
  },
  {
   "cell_type": "code",
   "execution_count": 90,
   "id": "a7787cdd-b82e-4eef-980c-534a0b1aa2f8",
   "metadata": {},
   "outputs": [
    {
     "name": "stdout",
     "output_type": "stream",
     "text": [
      "('c1ccc(-c2nc3c(-c4nc5ccccc5o4)cccc3o2)cc1',)\n"
     ]
    }
   ],
   "source": [
    "conn = sqlite3.connect(database_path)\n",
    "cursor = conn.cursor()\n",
    "\n",
    "# Execute a query (example: selecting 10 rows from a table)\n",
    "query = \"SELECT canonical_smiles FROM compound_structures WHERE molregno IS 180094\"  # Replace 'your_table_name' with the actual table name\n",
    "cursor.execute(query)\n",
    "\n",
    "# Fetch and print the results\n",
    "rows = cursor.fetchall()\n",
    "for row in rows:\n",
    "    print(row)"
   ]
  },
  {
   "cell_type": "code",
   "execution_count": 91,
   "id": "2e274425-332c-4afa-a065-ba394e4ab3cb",
   "metadata": {},
   "outputs": [
    {
     "name": "stdout",
     "output_type": "stream",
     "text": [
      "(12052, 'SINGLE PROTEIN', 'Arachidonate 12-lipoxygenase', 10116, 'Rattus norvegicus', 'CHEMBL2741', 0)\n"
     ]
    }
   ],
   "source": [
    "# Replace 'your_chembl_database_file.db' with the path to your ChEMBL SQLite file\n",
    "database_path = 'data/chembl/chembl_33.db'\n",
    "\n",
    "# Connect to the SQLite database\n",
    "conn = sqlite3.connect(database_path)\n",
    "\n",
    "# Create a cursor object\n",
    "cursor = conn.cursor()\n",
    "\n",
    "# Execute a query (example: selecting 10 rows from a table)\n",
    "query = \"SELECT * FROM target_dictionary WHERE tid IS 12052;\"  # Replace 'your_table_name' with the actual table name\n",
    "cursor.execute(query)\n",
    "\n",
    "# Fetch and print the results\n",
    "rows = cursor.fetchall()\n",
    "for row in rows:\n",
    "    print(row)\n",
    "\n",
    "# Close the connection\n",
    "conn.close()"
   ]
  },
  {
   "cell_type": "code",
   "execution_count": 92,
   "id": "9d6dd07a-de5f-4ba2-991d-8c2d2a5816d3",
   "metadata": {},
   "outputs": [
    {
     "name": "stdout",
     "output_type": "stream",
     "text": [
      "(80704, 'CELL-LINE', 'BJ', 9606, 'Homo sapiens', 'CHEMBL614358', 0)\n"
     ]
    }
   ],
   "source": [
    "# Replace 'your_chembl_database_file.db' with the path to your ChEMBL SQLite file\n",
    "database_path = 'data/chembl/chembl_33.db'\n",
    "\n",
    "# Connect to the SQLite database\n",
    "conn = sqlite3.connect(database_path)\n",
    "\n",
    "# Create a cursor object\n",
    "cursor = conn.cursor()\n",
    "\n",
    "# Execute a query (example: selecting 10 rows from a table)\n",
    "query = \"SELECT * FROM target_dictionary WHERE tid IS '80704';\"  # Replace 'your_table_name' with the actual table name\n",
    "cursor.execute(query)\n",
    "\n",
    "# Fetch and print the results\n",
    "rows = cursor.fetchall()\n",
    "for row in rows:\n",
    "    print(row)\n"
   ]
  },
  {
   "cell_type": "code",
   "execution_count": 93,
   "id": "164a0be0-16b0-4297-a086-027c17fe62e9",
   "metadata": {},
   "outputs": [],
   "source": [
    "from molytica_m.data_tools import id_mapping_tools"
   ]
  },
  {
   "cell_type": "code",
   "execution_count": 94,
   "id": "0db3d2e2-7a2f-498a-a15e-32645a870e07",
   "metadata": {},
   "outputs": [],
   "source": [
    "id_mapping_tools.chembl_to_af_uniprot(\"CHEMBL614358\")"
   ]
  },
  {
   "cell_type": "code",
   "execution_count": 95,
   "id": "35c7c3a5-58f8-4f5f-a337-afc497bf489b",
   "metadata": {},
   "outputs": [
    {
     "data": {
      "text/plain": [
       "'P13945'"
      ]
     },
     "execution_count": 95,
     "metadata": {},
     "output_type": "execute_result"
    }
   ],
   "source": [
    "id_mapping_tools.tid_to_af_uniprot(226)"
   ]
  },
  {
   "cell_type": "code",
   "execution_count": 96,
   "id": "6f5752dd-7e2d-4276-9851-bd76f1f78087",
   "metadata": {},
   "outputs": [
    {
     "name": "stdout",
     "output_type": "stream",
     "text": [
      "(5, 17430, 'In vitro cell cytotoxicity against 143-B cell lines (Human osteosarcoma cell line)', 'F', None, None, 'Homo sapiens', 9606, None, None, '143B', None, 80001, 'N', 1, 'Intermediate', 1, None, 'CHEMBL615121', 163, 'BAO_0000219', None, None, 'CLD0')\n",
      "(6, 17430, 'In vitro cell cytotoxicity against 143-B cell lines (Human osteosarcoma cell line)', 'F', None, None, 'Homo sapiens', 9606, None, None, '143B', None, 80001, 'N', 1, 'Intermediate', 1, None, 'CHEMBL615122', 163, 'BAO_0000219', None, None, 'CLD0')\n",
      "(8, 17774, 'In vitro cell cytotoxicity was determined against 143B cell line', 'F', None, None, 'Homo sapiens', 9606, None, None, '143B', None, 80001, 'N', 1, 'Expert', 1, None, 'CHEMBL615124', 163, 'BAO_0000219', None, None, 'CLD0')\n",
      "(9, 3801, 'Inhibitory activity against tumor osteosarcoma cell line 143B after 72 hr continuous exposure to compound', 'F', None, None, 'Homo sapiens', 9606, None, None, '143B', None, 80001, 'N', 1, 'Intermediate', 1, None, 'CHEMBL615125', 163, 'BAO_0000219', None, None, 'CLD0')\n",
      "(10, 17430, 'In vitro cell cytotoxicity against 143B-LTK cell lines expressed in HSV-1 TK', 'F', None, None, 'Homo sapiens', 9606, None, None, '143B', None, 80001, 'N', 1, 'Intermediate', 1, None, 'CHEMBL615126', 163, 'BAO_0000219', None, None, 'CLD0')\n",
      "(11, 17430, 'In vitro cell cytotoxicity against 143B-LTK cell lines expressed in HSV-1 TK', 'F', None, None, 'Homo sapiens', 9606, None, None, '143B', None, 80001, 'N', 1, 'Intermediate', 1, None, 'CHEMBL615127', 163, 'BAO_0000219', None, None, 'CLD0')\n",
      "(12, 17774, 'In vitro cell cytotoxicity was determined against 143B-LTK cell line', 'F', None, None, 'Homo sapiens', 9606, None, None, '143B', None, 80001, 'N', 1, 'Expert', 1, None, 'CHEMBL615128', 163, 'BAO_0000219', None, None, 'CLD0')\n",
      "(45, 13163, 'The compound was tested at a concentration of 1 uM for inhibitory activity against 17 beta-hydroxysteroid dehydrogenase from human placental microsomes', 'B', None, None, 'Homo sapiens', 9606, None, None, None, None, 20001, 'H', 8, 'Autocuration', 1, None, 'CHEMBL615157', None, 'BAO_0000019', None, None, 'CLD0')\n",
      "(46, 13163, 'The compound was tested at a concentration of 1 uM for inhibitory activity against 17 beta-hydroxysteroid dehydrogenase from human placental microsomes', 'B', None, None, 'Homo sapiens', 9606, None, None, None, None, 20001, 'H', 8, 'Autocuration', 1, None, 'CHEMBL615158', None, 'BAO_0000019', None, None, 'CLD0')\n",
      "(56, 5116, 'Cytotoxicity against ovarian cancer cell line (1A-9) of humans was determined', 'F', None, None, 'Homo sapiens', 9606, None, None, '1A9', None, 80002, 'N', 1, 'Intermediate', 1, None, 'CHEMBL615179', 506, 'BAO_0000219', None, None, 'CLD0')\n",
      "(60, 4787, 'In vitro effective concentration required to reduce the number of human ovarian cancer (1A9) after 3-day incubation', 'F', None, None, 'Homo sapiens', 9606, None, None, '1A9', None, 80002, 'N', 1, 'Expert', 1, None, 'CHEMBL615183', 506, 'BAO_0000219', None, None, 'CLD0')\n",
      "(61, 4787, 'In vitro effective concentration required to reduce the number of human ovarian cancer cells (1A9) after 3-day incubation', 'F', None, None, 'Homo sapiens', 9606, None, None, '1A9', None, 80002, 'N', 1, 'Intermediate', 1, None, 'CHEMBL615184', 506, 'BAO_0000219', None, None, 'CLD0')\n",
      "(62, 3547, 'Cytotoxic activity against human ovarian cancer (1A9) cell line', 'F', None, None, 'Homo sapiens', 9606, None, None, '1A9', None, 80002, 'N', 1, 'Intermediate', 1, None, 'CHEMBL615185', 506, 'BAO_0000219', None, None, 'CLD0')\n",
      "(63, 3547, 'Cytotoxic activity against human ovarian cancer (1A9) cell line; ND=Not determined', 'F', None, None, 'Homo sapiens', 9606, None, None, '1A9', None, 80002, 'N', 1, 'Intermediate', 1, None, 'CHEMBL615186', 506, 'BAO_0000219', None, None, 'CLD0')\n",
      "(64, 6726, 'Effective dose of compound against replication of 1A9 cell line was evaluated', 'F', None, None, 'Homo sapiens', 9606, None, None, '1A9', None, 80002, 'N', 1, 'Intermediate', 1, None, 'CHEMBL615187', 506, 'BAO_0000219', None, None, 'CLD0')\n",
      "(65, 3455, 'In vitro cytotoxic activity was determined against ovarian cancer (1A9) cell line', 'F', None, None, 'Homo sapiens', 9606, None, None, '1A9', None, 80002, 'N', 1, 'Expert', 1, None, 'CHEMBL885343', 506, 'BAO_0000219', None, None, 'CLD0')\n",
      "(66, 5726, 'In vitro cytotoxicity evaluated against human ovarian cancer (1A9 cell line)', 'F', None, None, 'Homo sapiens', 9606, None, None, '1A9', None, 80002, 'N', 1, 'Intermediate', 1, None, 'CHEMBL615188', 506, 'BAO_0000219', None, None, 'CLD0')\n",
      "(67, 5726, 'In vitro cytotoxicity evaluated against human ovarian cancer (1A9 cell line); NA is not active', 'F', None, None, 'Homo sapiens', 9606, None, None, '1A9', None, 80002, 'N', 1, 'Intermediate', 1, None, 'CHEMBL615189', 506, 'BAO_0000219', None, None, 'CLD0')\n",
      "(68, 5726, 'In vitro percent inhibition evaluated against human ovarian cancer (1A9 cell line) at >20 ug/mL', 'F', None, None, 'Homo sapiens', 9606, None, None, '1A9', None, 80002, 'N', 1, 'Intermediate', 1, None, 'CHEMBL615190', 506, 'BAO_0000219', None, None, 'CLD0')\n",
      "(69, 3395, 'Inhibitory activity against Taxol resistant 1A9 cell lines', 'F', None, None, 'Homo sapiens', 9606, None, None, '1A9', None, 80002, 'N', 1, 'Intermediate', 1, None, 'CHEMBL615191', 506, 'BAO_0000219', None, None, 'CLD0')\n",
      "(70, 3415, 'Cytotoxicity against human ovarian cancer (1A9) cell lines.', 'F', None, None, 'Homo sapiens', 9606, None, None, '1A9', None, 80002, 'N', 1, 'Expert', 1, None, 'CHEMBL615192', 506, 'BAO_0000219', None, None, 'CLD0')\n",
      "(71, 3415, 'Percentage inhibition of human ovarian cancer (1A9) cell lines.', 'F', None, None, 'Homo sapiens', 9606, None, None, '1A9', None, 80002, 'N', 1, 'Expert', 1, None, 'CHEMBL827083', 506, 'BAO_0000219', None, None, 'CLD0')\n",
      "(72, 17099, 'Effective dose required for inhibitory activity against 1A9 human tumor cell line.', 'F', None, None, 'Homo sapiens', 9606, None, None, '1A9', None, 80002, 'N', 1, 'Expert', 1, None, 'CHEMBL615193', 506, 'BAO_0000219', None, None, 'CLD0')\n",
      "(73, 17099, 'Percent inhibition against 1A9 human tumor cell line at 0.10 ug/mL', 'F', None, None, 'Homo sapiens', 9606, None, None, '1A9', None, 80002, 'N', 1, 'Intermediate', 1, None, 'CHEMBL615194', 506, 'BAO_0000219', None, None, 'CLD0')\n",
      "(74, 17099, 'Percent inhibition against 1A9 human tumor cell line at <0.00008 ug/mL', 'F', None, None, 'Homo sapiens', 9606, None, None, '1A9', None, 80002, 'N', 1, 'Intermediate', 1, None, 'CHEMBL615195', 506, 'BAO_0000219', None, None, 'CLD0')\n",
      "(75, 17099, 'Percent inhibition against 1A9 human tumor cell line at >10 ug/mL', 'F', None, None, 'Homo sapiens', 9606, None, None, '1A9', None, 80002, 'N', 1, 'Intermediate', 1, None, 'CHEMBL615196', 506, 'BAO_0000219', None, None, 'CLD0')\n",
      "(76, 17721, 'Inhibitory concentration against Jurkat cells', 'F', None, None, 'Homo sapiens', 9606, None, None, 'Jurkat', None, 81072, 'N', 1, 'Intermediate', 1, None, 'CHEMBL615197', 503, 'BAO_0000219', None, None, 'CLD0')\n",
      "(95, 17653, 'In vitro cytotoxic concentration required to inhibit hepatitisB virus (HBV) replication in 2.2.15 cell line', 'F', None, None, 'Homo sapiens', 9606, None, None, 'HepG2', None, 81020, 'N', 1, 'Expert', 1, None, 'CHEMBL615274', 726, 'BAO_0000219', None, None, 'CLD0')\n",
      "(96, 14277, '50% Effective concentration of compound required for inhibiting intracellular viral replicative intermediate DNA in HBV-transfected 2.2.15 cell line.', 'F', None, None, 'Homo sapiens', 9606, None, None, 'HepG2', None, 81020, 'N', 1, 'Intermediate', 1, None, 'CHEMBL615275', 726, 'BAO_0000219', None, None, 'CLD0')\n",
      "(97, 1717, 'Antiviral activity against Hepatitis B virus in 2.2.15 cell line', 'F', None, None, 'Homo sapiens', 9606, None, None, 'HepG2', None, 81020, 'N', 1, 'Intermediate', 1, None, 'CHEMBL615276', 726, 'BAO_0000219', None, None, 'CLD0')\n"
     ]
    }
   ],
   "source": [
    "# Replace 'your_chembl_database_file.db' with the path to your ChEMBL SQLite file\n",
    "database_path = 'data/chembl/chembl_33.db'\n",
    "\n",
    "# Connect to the SQLite database\n",
    "conn = sqlite3.connect(database_path)\n",
    "\n",
    "# Create a cursor object\n",
    "cursor = conn.cursor()\n",
    "\n",
    "# Execute a query (example: selecting 10 rows from a table)\n",
    "query = \"SELECT * FROM assays WHERE assay_organism IS 'Homo sapiens' LIMIT 30;\"  # Replace 'your_table_name' with the actual table name\n",
    "cursor.execute(query)\n",
    "\n",
    "# Fetch and print the results\n",
    "rows = cursor.fetchall()\n",
    "for row in rows:\n",
    "    print(row)\n",
    "\n",
    "# Close the connection\n",
    "conn.close()"
   ]
  },
  {
   "cell_type": "code",
   "execution_count": 97,
   "id": "8c4b44e2-14fc-4a4a-b1dc-21b713733f1d",
   "metadata": {
    "scrolled": true
   },
   "outputs": [
    {
     "data": {
      "application/vnd.jupyter.widget-view+json": {
       "model_id": "5f29b26e7bae49ada2822a6aa8166908",
       "version_major": 2,
       "version_minor": 0
      },
      "text/plain": [
       "loading:   0%|          | 0/6750 [00:00<?, ?it/s]"
      ]
     },
     "metadata": {},
     "output_type": "display_data"
    },
    {
     "ename": "OperationalError",
     "evalue": "near \"FROM\": syntax error",
     "output_type": "error",
     "traceback": [
      "\u001b[0;31m---------------------------------------------------------------------------\u001b[0m",
      "\u001b[0;31mOperationalError\u001b[0m                          Traceback (most recent call last)",
      "Cell \u001b[0;32mIn[97], line 22\u001b[0m\n\u001b[1;32m     11\u001b[0m \u001b[38;5;28;01mfor\u001b[39;00m x \u001b[38;5;129;01min\u001b[39;00m tqdm(\u001b[38;5;28mrange\u001b[39m(\u001b[38;5;241m0\u001b[39m, \u001b[38;5;241m6749321\u001b[39m, \u001b[38;5;241m1000\u001b[39m), desc\u001b[38;5;241m=\u001b[39m\u001b[38;5;124m\"\u001b[39m\u001b[38;5;124mloading\u001b[39m\u001b[38;5;124m\"\u001b[39m):\n\u001b[1;32m     12\u001b[0m     \u001b[38;5;66;03m# Execute a query (example: selecting 10 rows from a table)\u001b[39;00m\n\u001b[1;32m     13\u001b[0m     query \u001b[38;5;241m=\u001b[39m \u001b[38;5;124mf\u001b[39m\u001b[38;5;124m\"\"\"\u001b[39m\n\u001b[1;32m     14\u001b[0m \u001b[38;5;124m    SELECT activities.standard_type, activities.standard_relation, activities.standard_value, activities.standard_units, assays.tid, compound_structures.canonical_smiles, compound_properties.\u001b[39m\n\u001b[1;32m     15\u001b[0m \u001b[38;5;124m    FROM activities \u001b[39m\n\u001b[0;32m   (...)\u001b[0m\n\u001b[1;32m     20\u001b[0m \u001b[38;5;124m    LIMIT 1000 OFFSET \u001b[39m\u001b[38;5;132;01m{\u001b[39;00mx\u001b[38;5;132;01m}\u001b[39;00m\u001b[38;5;124m;\u001b[39m\n\u001b[1;32m     21\u001b[0m \u001b[38;5;124m    \u001b[39m\u001b[38;5;124m\"\"\"\u001b[39m\n\u001b[0;32m---> 22\u001b[0m     \u001b[43mcursor\u001b[49m\u001b[38;5;241;43m.\u001b[39;49m\u001b[43mexecute\u001b[49m\u001b[43m(\u001b[49m\u001b[43mquery\u001b[49m\u001b[43m)\u001b[49m\n\u001b[1;32m     24\u001b[0m     \u001b[38;5;66;03m# Fetch and print the results\u001b[39;00m\n\u001b[1;32m     25\u001b[0m     rows \u001b[38;5;241m=\u001b[39m cursor\u001b[38;5;241m.\u001b[39mfetchall()\n",
      "\u001b[0;31mOperationalError\u001b[0m: near \"FROM\": syntax error"
     ]
    }
   ],
   "source": [
    "from tqdm.notebook import tqdm\n",
    "# Replace 'your_chembl_database_file.db' with the path to your ChEMBL SQLite file\n",
    "database_path = 'data/chembl/chembl_33.db'\n",
    "\n",
    "# Connect to the SQLite database\n",
    "conn = sqlite3.connect(database_path)\n",
    "\n",
    "# Create a cursor object\n",
    "cursor = conn.cursor()\n",
    "\n",
    "for x in tqdm(range(0, 6749321, 1000), desc=\"loading\"):\n",
    "    # Execute a query (example: selecting 10 rows from a table)\n",
    "    query = f\"\"\"\n",
    "    SELECT activities.standard_type, activities.standard_relation, activities.standard_value, activities.standard_units, assays.tid, compound_structures.canonical_smiles, compound_properties.\n",
    "    FROM activities \n",
    "    JOIN assays ON activities.assay_id = assays.assay_id\n",
    "    JOIN compound_structures ON activities.molregno = compound_structures.molregno\n",
    "    JOIN compound_properties ON activities.molregno = compound_properties.molregno\n",
    "    WHERE assays.assay_organism = 'Homo sapiens'\n",
    "    LIMIT 1000 OFFSET {x};\n",
    "    \"\"\"\n",
    "    cursor.execute(query)\n",
    "    \n",
    "    # Fetch and print the results\n",
    "    rows = cursor.fetchall()\n",
    "    for row in rows:\n",
    "        print(row)\n",
    "\n",
    "# Close the connection\n",
    "conn.close()"
   ]
  },
  {
   "cell_type": "code",
   "execution_count": null,
   "id": "8c73cdfa-6f12-42f3-8be5-8241371aa4c0",
   "metadata": {},
   "outputs": [],
   "source": [
    "import sqlite3\n",
    "def filter_tid(tid):\n",
    "    if id_mapping_tools.tid_to_af_uniprot(tid):\n",
    "        return True\n",
    "    return False\n",
    "\n",
    "# Path to the original database\n",
    "original_db_path = 'data/chembl/chembl_33.db'\n",
    "\n",
    "# Path to the new database\n",
    "new_db_path = 'data/chembl/smiles_alphafold_v4_human_uniprot_chembl_bioactivities.db'\n",
    "\n",
    "# Connect to the original database\n",
    "conn_original = sqlite3.connect(original_db_path)\n",
    "cursor_original = conn_original.cursor()\n",
    "\n",
    "# Connect to the new database (this will create the file if it doesn't exist)\n",
    "conn_new = sqlite3.connect(new_db_path)\n",
    "cursor_new = conn_new.cursor()\n",
    "\n",
    "# Create a new table in the new database\n",
    "cursor_new.execute(\"\"\"\n",
    "CREATE TABLE IF NOT EXISTS bioactivites (\n",
    "    canonical_smiles VARCHAR(4000),\n",
    "    af_4_human_uniprot VARCHAR(10),\n",
    "    activity_type VARCHAR(250),\n",
    "    activity_relation VARCHAR(50),\n",
    "    activity_value NUMERIC,\n",
    "    activity_unit VARCHAR(100),\n",
    "    molregno BIGINT,\n",
    "    mw_freebase NUMERIC(9, 2),\n",
    "    alogp NUMERIC(9, 2),\n",
    "    hba INTEGER,\n",
    "    hbd INTEGER,\n",
    "    psa NUMERIC(9, 2),\n",
    "    rtb INTEGER,\n",
    "    ro3_pass VARCHAR(3),\n",
    "    num_ro5_violations SMALLINT,\n",
    "    cx_most_apka NUMERIC(9, 2),\n",
    "    cx_most_bpka NUMERIC(9, 2),\n",
    "    cx_logp NUMERIC(9, 2),\n",
    "    cx_logd NUMERIC(9, 2),\n",
    "    molecular_species VARCHAR(50),\n",
    "    full_mwt NUMERIC(9, 2),\n",
    "    aromatic_rings INTEGER,\n",
    "    heavy_atoms INTEGER,\n",
    "    qed_weighted NUMERIC(3, 2),\n",
    "    mw_monoisotopic NUMERIC(11, 4),\n",
    "    full_molformula VARCHAR(100),\n",
    "    hba_lipinski INTEGER,\n",
    "    hbd_lipinski INTEGER,\n",
    "    num_lipinski_ro5_violations SMALLINT,\n",
    "    np_likeness_score NUMERIC(3, 2)\n",
    ");\n",
    "\"\"\")\n",
    "\n",
    "total_rows = 6749321  # Adjust based on the total number of rows\n",
    "\n",
    "for x in tqdm(range(0, total_rows, 2000000), desc=\"loading\"):\n",
    "    query = f\"\"\"\n",
    "    SELECT compound_structures.canonical_smiles, assays.tid, activities.standard_type, activities.standard_relation, activities.standard_value, activities.standard_units, compound_properties.*\n",
    "    FROM activities \n",
    "    JOIN assays ON activities.assay_id = assays.assay_id\n",
    "    JOIN compound_structures ON activities.molregno = compound_structures.molregno\n",
    "    JOIN compound_properties ON activities.molregno = compound_properties.molregno\n",
    "    WHERE assays.assay_organism = 'Homo sapiens'\n",
    "    LIMIT 2000000 OFFSET {x};\n",
    "    \"\"\"\n",
    "    cursor_original.execute(query)\n",
    "    rows = cursor_original.fetchall()\n",
    "    \n",
    "    for row in rows:\n",
    "        if filter_tid(row[1]):  # Replace tid_column_index with the index of tid in the row\n",
    "            new_row = list(row)\n",
    "            new_row[1] = id_mapping_tools.tid_to_af_uniprot(new_row[1])\n",
    "\n",
    "            cursor_new.execute(\"INSERT INTO bioactivites VALUES (?, ?, ?, ?, ?, ?, ?, ?, ?, ?, ?, ?, ?, ?, ?, ?, ?, ?, ?, ?, ?, ?, ?, ?, ?, ?, ?, ?, ?, ?)\", tuple(new_row))  # Adjust the placeholders based on the number of columns\n",
    "\n",
    "# Commit changes to the new database and close both connections\n",
    "conn_new.commit()\n",
    "conn_original.close()\n",
    "conn_new.close()\n"
   ]
  },
  {
   "cell_type": "code",
   "execution_count": null,
   "id": "2b633517-4a6a-430f-894c-e129fe4e463e",
   "metadata": {},
   "outputs": [],
   "source": [
    "# Replace 'your_chembl_database_file.db' with the path to your ChEMBL SQLite file\n",
    "database_path = 'data/chembl/smiles_alphafold_v4_human_uniprot_chembl_bioactivities.db'\n",
    "\n",
    "# Connect to the SQLite database\n",
    "conn = sqlite3.connect(database_path)\n",
    "\n",
    "# Create a cursor object\n",
    "cursor = conn.cursor()\n",
    "\n",
    "# Execute a query (example: selecting 10 rows from a table)\n",
    "query = \"SELECT COUNT(*) FROM bioactivites WHERE activity_type IS 'EC50' LIMIT 30;\"  # Replace 'your_table_name' with the actual table name\n",
    "cursor.execute(query)\n",
    "\n",
    "# Fetch and print the results\n",
    "rows = cursor.fetchall()\n",
    "for row in rows:\n",
    "    print(row)\n",
    "\n",
    "# Close the connection\n",
    "conn.close()"
   ]
  },
  {
   "cell_type": "code",
   "execution_count": null,
   "id": "925eee2e-91bf-4a30-bddf-ef908e222724",
   "metadata": {},
   "outputs": [],
   "source": [
    "3582142"
   ]
  }
 ],
 "metadata": {
  "kernelspec": {
   "display_name": "M",
   "language": "python",
   "name": "m"
  },
  "language_info": {
   "codemirror_mode": {
    "name": "ipython",
    "version": 3
   },
   "file_extension": ".py",
   "mimetype": "text/x-python",
   "name": "python",
   "nbconvert_exporter": "python",
   "pygments_lexer": "ipython3",
   "version": "3.10.13"
  }
 },
 "nbformat": 4,
 "nbformat_minor": 5
}
