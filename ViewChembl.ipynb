{
 "cells": [
  {
   "cell_type": "code",
   "execution_count": 144,
   "id": "45ad24cd-cebb-438e-a4da-cbebe4b77d40",
   "metadata": {},
   "outputs": [
    {
     "name": "stdout",
     "output_type": "stream",
     "text": [
      "(1, 11087, 'The compound was tested for the in vitro inhibition of platelet 12-lipoxygenase at a concentration of 30 uM', 'B', None, None, None, None, None, None, None, None, 12052, 'H', 8, 'Autocuration', 1, None, 'CHEMBL615117', None, 'BAO_0000019', None, None, 'CLD0')\n",
      "(2, 684, 'Compound was evaluated for its ability to mobilize calcium in 1321NI cells', 'F', None, None, None, None, None, None, None, None, 22226, 'U', 0, 'Autocuration', 1, None, 'CHEMBL615118', None, 'BAO_0000219', None, None, 'CLD0')\n",
      "(3, 15453, None, 'B', None, None, None, None, None, None, None, None, 22229, 'U', 0, 'Autocuration', 1, None, 'CHEMBL615119', None, 'BAO_0000019', None, None, 'CLD0')\n",
      "(4, 17841, 'Binding affinity against A2 adenosine receptor in bovine striatal membranes using [3H]CGS-21680', 'B', None, None, 'Bos taurus', 9913, None, 'Striatum', None, 'Membrane', 104729, 'H', 4, 'Autocuration', 1, None, 'CHEMBL615120', None, 'BAO_0000249', 2435, None, 'CLD0')\n",
      "(5, 17430, 'In vitro cell cytotoxicity against 143-B cell lines (Human osteosarcoma cell line)', 'F', None, None, 'Homo sapiens', 9606, None, None, '143B', None, 80001, 'N', 1, 'Intermediate', 1, None, 'CHEMBL615121', 163, 'BAO_0000219', None, None, 'CLD0')\n",
      "(6, 17430, 'In vitro cell cytotoxicity against 143-B cell lines (Human osteosarcoma cell line)', 'F', None, None, 'Homo sapiens', 9606, None, None, '143B', None, 80001, 'N', 1, 'Intermediate', 1, None, 'CHEMBL615122', 163, 'BAO_0000219', None, None, 'CLD0')\n",
      "(7, 13799, 'Cytotoxic Activity was evaluated against 143B (TK-) tumor cells', 'F', None, None, 'Mus musculus', 10090, None, None, '143B', None, 80001, 'N', 1, 'Intermediate', 1, None, 'CHEMBL615123', 163, 'BAO_0000219', None, None, 'CLD0')\n",
      "(8, 17774, 'In vitro cell cytotoxicity was determined against 143B cell line', 'F', None, None, 'Homo sapiens', 9606, None, None, '143B', None, 80001, 'N', 1, 'Expert', 1, None, 'CHEMBL615124', 163, 'BAO_0000219', None, None, 'CLD0')\n",
      "(9, 3801, 'Inhibitory activity against tumor osteosarcoma cell line 143B after 72 hr continuous exposure to compound', 'F', None, None, 'Homo sapiens', 9606, None, None, '143B', None, 80001, 'N', 1, 'Intermediate', 1, None, 'CHEMBL615125', 163, 'BAO_0000219', None, None, 'CLD0')\n",
      "(10, 17430, 'In vitro cell cytotoxicity against 143B-LTK cell lines expressed in HSV-1 TK', 'F', None, None, 'Homo sapiens', 9606, None, None, '143B', None, 80001, 'N', 1, 'Intermediate', 1, None, 'CHEMBL615126', 163, 'BAO_0000219', None, None, 'CLD0')\n",
      "(11, 17430, 'In vitro cell cytotoxicity against 143B-LTK cell lines expressed in HSV-1 TK', 'F', None, None, 'Homo sapiens', 9606, None, None, '143B', None, 80001, 'N', 1, 'Intermediate', 1, None, 'CHEMBL615127', 163, 'BAO_0000219', None, None, 'CLD0')\n",
      "(12, 17774, 'In vitro cell cytotoxicity was determined against 143B-LTK cell line', 'F', None, None, 'Homo sapiens', 9606, None, None, '143B', None, 80001, 'N', 1, 'Expert', 1, None, 'CHEMBL615128', 163, 'BAO_0000219', None, None, 'CLD0')\n",
      "(13, 11324, 'The compound was tested for minimum inhibitory concentration in Staphylococcus aureus,147N penicillin sensitive Staphylococcus aureus', 'F', None, None, 'Staphylococcus aureus', 1280, None, None, None, None, 50185, 'N', 1, 'Intermediate', 1, None, 'CHEMBL857900', None, 'BAO_0000218', None, None, 'CLD0')\n",
      "(14, 11324, 'The compound was tested for minimum inhibitory concentration in Staphylococcus aureus,147N penicillin sensitive Staphylococcus aureus', 'F', None, None, 'Staphylococcus aureus', 1280, None, None, None, None, 50185, 'N', 1, 'Intermediate', 1, None, 'CHEMBL615129', None, 'BAO_0000218', None, None, 'CLD0')\n",
      "(15, 11324, 'The compound was tested for minimum inhibitory concentration in Staphylococcus aureus,147N penicillin sensitive Staphylococcus aureus', 'F', None, None, 'Staphylococcus aureus', 1280, None, None, None, None, 50185, 'N', 1, 'Intermediate', 1, None, 'CHEMBL615130', None, 'BAO_0000218', None, None, 'CLD0')\n",
      "(16, 11324, 'The compound was tested for minimum inhibitory concentration in Staphylococcus aureus,147N penicillin sensitive Staphylococcus aureus', 'F', None, None, 'Staphylococcus aureus', 1280, None, None, None, None, 50185, 'N', 1, 'Intermediate', 1, None, 'CHEMBL615131', None, 'BAO_0000218', None, None, 'CLD0')\n",
      "(17, 11347, 'Inhibition of cytochrome P450 progesterone 15-alpha hydroxylase', 'A', None, None, 'Rattus norvegicus', 10116, None, None, None, None, 100122, 'D', 9, 'Expert', 1, None, 'CHEMBL884521', None, 'BAO_0000357', None, None, 'CLD0')\n",
      "(18, 16474, 'Concentration that cause 50% activation of human reticulocyte 15-lipoxygenase (15-HLO)', 'B', None, None, None, None, None, None, None, None, 12054, 'H', 8, 'Autocuration', 1, None, 'CHEMBL615132', None, 'BAO_0000357', None, None, 'CLD0')\n",
      "(19, 10091, 'Inhibition of partially purified 15-lipoxygenase from human leukocytes', 'B', None, None, None, None, None, None, None, None, 12054, 'H', 8, 'Autocuration', 1, None, 'CHEMBL615133', None, 'BAO_0000019', None, None, 'CLD0')\n",
      "(20, 16474, 'Inhibitory activity against human reticulocyte 15-lipoxygenase (15-HLO)', 'B', None, None, None, None, None, None, None, None, 12054, 'H', 8, 'Autocuration', 1, None, 'CHEMBL615134', None, 'BAO_0000357', None, None, 'CLD0')\n",
      "(21, 16474, 'Compound was evaluated for the percent increase in activation concentration of human reticulocyte 15-lipoxygenase (15-HLO)', 'B', None, None, None, None, None, None, None, None, 12054, 'H', 8, 'Autocuration', 1, None, 'CHEMBL615135', None, 'BAO_0000357', None, None, 'CLD0')\n",
      "(22, 16474, 'Inhibitory activity against human reticulocyte 15-lipoxygenase (15-HLO)', 'B', None, None, None, None, None, None, None, None, 12054, 'H', 8, 'Autocuration', 1, None, 'CHEMBL615136', None, 'BAO_0000357', None, None, 'CLD0')\n",
      "(23, 16474, 'Inhibitory activity against human reticulocyte 15-lipoxygenase (15-HLO); NI is no inhibition', 'B', None, None, None, None, None, None, None, None, 12054, 'H', 8, 'Autocuration', 1, None, 'CHEMBL615137', None, 'BAO_0000357', None, None, 'CLD0')\n",
      "(24, 16474, 'Inhibitory activity against human reticulocyte 15-lipoxygenase (15-HLO); NI is no inhibition', 'B', None, None, None, None, None, None, None, None, 12054, 'H', 8, 'Autocuration', 1, None, 'CHEMBL615138', None, 'BAO_0000357', None, None, 'CLD0')\n",
      "(25, 14352, 'Inhibitory concentration against 15-lipoxygenase, by inhibiting 15-HETE production by human umbilical vein endothelial cells (HUVEC) stimulated by calcium ionophore A 23187 at concentration of 10e-5 M.', 'B', None, None, None, None, None, None, 'Endothelial cell', None, 22226, 'U', 0, 'Autocuration', 1, None, 'CHEMBL836324', None, 'BAO_0000219', None, None, 'CLD0')\n",
      "(26, 5646, 'In vitro inhibitory activity of compound on rabbit reticulocyte 15-lipoxygenase', 'B', None, None, 'Oryctolagus cuniculus', 9986, None, None, None, None, 12054, 'H', 8, 'Autocuration', 1, None, 'CHEMBL615139', None, 'BAO_0000357', None, None, 'CLD0')\n",
      "(27, 5646, 'Inhibition of rabbit reticulocyte 15-lipoxygenase by compound (30 uM)', 'B', None, None, 'Oryctolagus cuniculus', 9986, None, None, None, None, 12054, 'H', 8, 'Autocuration', 1, None, 'CHEMBL615140', None, 'BAO_0000357', None, None, 'CLD0')\n",
      "(28, 10997, 'Inhibitory activity against 15-lipoxygenase in rat polymorphonuclear leukocytes', 'B', None, None, None, None, None, None, None, None, 12426, 'H', 8, 'Autocuration', 1, None, 'CHEMBL615141', None, 'BAO_0000219', None, None, 'CLD0')\n",
      "(29, 6309, 'Inhibitory activity against 15-lipoxygenase was determined obtained from soya bean', 'B', None, None, 'soya bean', 3847, None, None, None, None, 12054, 'H', 8, 'Autocuration', 1, None, 'CHEMBL615142', None, 'BAO_0000357', None, None, 'CLD0')\n",
      "(30, 167, 'Inhibitory activity against soybean 15-lipoxygenase was evaluated', 'B', None, None, 'Glycine max', 3847, None, None, None, None, 12054, 'H', 8, 'Autocuration', 1, None, 'CHEMBL615143', None, 'BAO_0000357', None, None, 'CLD0')\n"
     ]
    }
   ],
   "source": [
    "import sqlite3\n",
    "\n",
    "# Replace 'your_chembl_database_file.db' with the path to your ChEMBL SQLite file\n",
    "database_path = 'data/chembl/chembl_33.db'\n",
    "\n",
    "# Connect to the SQLite database\n",
    "conn = sqlite3.connect(database_path)\n",
    "\n",
    "# Create a cursor object\n",
    "cursor = conn.cursor()\n",
    "\n",
    "# Execute a query (example: selecting 10 rows from a table)\n",
    "query = \"SELECT * FROM assays LIMIT 30;\"  # Replace 'your_table_name' with the actual table name\n",
    "cursor.execute(query)\n",
    "\n",
    "# Fetch and print the results\n",
    "rows = cursor.fetchall()\n",
    "for row in rows:\n",
    "    print(row)\n",
    "\n",
    "# Close the connection\n",
    "conn.close()"
   ]
  },
  {
   "cell_type": "code",
   "execution_count": 51,
   "id": "08ee35cd-5328-487c-adf0-7e20e4ce92c6",
   "metadata": {},
   "outputs": [
    {
     "name": "stdout",
     "output_type": "stream",
     "text": [
      "['action_type', 'assay_type', 'chembl_id_lookup', 'confidence_score_lookup', 'curation_lookup', 'chembl_release', 'source', 'relationship_type', 'target_type', 'variant_sequences', 'bioassay_ontology', 'data_validity_lookup', 'activity_smid', 'activity_stds_lookup', 'assay_classification', 'atc_classification', 'bio_component_sequences', 'component_sequences', 'protein_classification', 'domains', 'go_classification', 'structural_alert_sets', 'products', 'frac_classification', 'hrac_classification', 'irac_classification', 'research_stem', 'organism_class', 'patent_use_codes', 'usan_stems', 'version', 'cell_dictionary', 'docs', 'target_dictionary', 'tissue_dictionary', 'molecule_dictionary', 'activity_supp', 'component_class', 'component_domains', 'component_go', 'component_synonyms', 'structural_alerts', 'defined_daily_dose', 'product_patents', 'protein_class_synonyms', 'research_companies', 'assays', 'compound_records', 'binding_sites', 'biotherapeutics', 'compound_properties', 'compound_structural_alerts', 'compound_structures', 'molecule_atc_classification', 'molecule_frac_classification', 'molecule_hierarchy', 'molecule_hrac_classification', 'molecule_irac_classification', 'molecule_synonyms', 'target_components', 'target_relations', 'activities', 'assay_class_map', 'assay_parameters', 'biotherapeutic_components', 'drug_indication', 'drug_mechanism', 'drug_warning', 'formulations', 'metabolism', 'site_components', 'activity_properties', 'activity_supp_map', 'indication_refs', 'ligand_eff', 'mechanism_refs', 'metabolism_refs', 'predicted_binding_domains', 'warning_refs', 'sqlite_stat1']\n",
      "\n"
     ]
    }
   ],
   "source": [
    "cursor.execute(\"SELECT name FROM sqlite_master WHERE type='table';\")\n",
    "print([x[0] for x in cursor.fetchall()])\n",
    "print()"
   ]
  },
  {
   "cell_type": "code",
   "execution_count": 136,
   "id": "1c797d22-1854-44b3-b0f3-b383dd8c3c16",
   "metadata": {},
   "outputs": [
    {
     "name": "stdout",
     "output_type": "stream",
     "text": [
      "(0, 'assay_id', 'BIGINT', 1, None, 1)\n",
      "(1, 'doc_id', 'BIGINT', 1, None, 0)\n",
      "(2, 'description', 'VARCHAR(4000)', 0, None, 0)\n",
      "(3, 'assay_type', 'VARCHAR(1)', 0, None, 0)\n",
      "(4, 'assay_test_type', 'VARCHAR(20)', 0, None, 0)\n",
      "(5, 'assay_category', 'VARCHAR(20)', 0, None, 0)\n",
      "(6, 'assay_organism', 'VARCHAR(250)', 0, None, 0)\n",
      "(7, 'assay_tax_id', 'BIGINT', 0, None, 0)\n",
      "(8, 'assay_strain', 'VARCHAR(200)', 0, None, 0)\n",
      "(9, 'assay_tissue', 'VARCHAR(100)', 0, None, 0)\n",
      "(10, 'assay_cell_type', 'VARCHAR(100)', 0, None, 0)\n",
      "(11, 'assay_subcellular_fraction', 'VARCHAR(100)', 0, None, 0)\n",
      "(12, 'tid', 'BIGINT', 0, None, 0)\n",
      "(13, 'relationship_type', 'VARCHAR(1)', 0, None, 0)\n",
      "(14, 'confidence_score', 'SMALLINT', 0, None, 0)\n",
      "(15, 'curated_by', 'VARCHAR(32)', 0, None, 0)\n",
      "(16, 'src_id', 'INTEGER', 1, None, 0)\n",
      "(17, 'src_assay_id', 'VARCHAR(50)', 0, None, 0)\n",
      "(18, 'chembl_id', 'VARCHAR(20)', 1, None, 0)\n",
      "(19, 'cell_id', 'BIGINT', 0, None, 0)\n",
      "(20, 'bao_format', 'VARCHAR(11)', 0, None, 0)\n",
      "(21, 'tissue_id', 'BIGINT', 0, None, 0)\n",
      "(22, 'variant_id', 'BIGINT', 0, None, 0)\n",
      "(23, 'aidx', 'VARCHAR(200)', 1, None, 0)\n"
     ]
    }
   ],
   "source": [
    "conn = sqlite3.connect(database_path)\n",
    "cursor = conn.cursor()\n",
    "\n",
    "# Execute a query (example: selecting 10 rows from a table)\n",
    "query = \"PRAGMA table_info(assays);\"  # Replace 'your_table_name' with the actual table name\n",
    "cursor.execute(query)\n",
    "\n",
    "# Fetch and print the results\n",
    "rows = cursor.fetchall()\n",
    "for row in rows:\n",
    "    print(row)"
   ]
  },
  {
   "cell_type": "code",
   "execution_count": 138,
   "id": "963ef04a-570c-4bdf-ae83-4b6d15d13353",
   "metadata": {},
   "outputs": [
    {
     "name": "stdout",
     "output_type": "stream",
     "text": [
      "(0, 'activity_id', 'BIGINT', 1, None, 1)\n",
      "(1, 'assay_id', 'BIGINT', 1, None, 0)\n",
      "(2, 'doc_id', 'BIGINT', 0, None, 0)\n",
      "(3, 'record_id', 'BIGINT', 1, None, 0)\n",
      "(4, 'molregno', 'BIGINT', 0, None, 0)\n",
      "(5, 'standard_relation', 'VARCHAR(50)', 0, None, 0)\n",
      "(6, 'standard_value', 'NUMERIC', 0, None, 0)\n",
      "(7, 'standard_units', 'VARCHAR(100)', 0, None, 0)\n",
      "(8, 'standard_flag', 'SMALLINT', 0, None, 0)\n",
      "(9, 'standard_type', 'VARCHAR(250)', 0, None, 0)\n",
      "(10, 'activity_comment', 'VARCHAR(4000)', 0, None, 0)\n",
      "(11, 'data_validity_comment', 'VARCHAR(30)', 0, None, 0)\n",
      "(12, 'potential_duplicate', 'SMALLINT', 0, None, 0)\n",
      "(13, 'pchembl_value', 'NUMERIC(4, 2)', 0, None, 0)\n",
      "(14, 'bao_endpoint', 'VARCHAR(11)', 0, None, 0)\n",
      "(15, 'uo_units', 'VARCHAR(10)', 0, None, 0)\n",
      "(16, 'qudt_units', 'VARCHAR(70)', 0, None, 0)\n",
      "(17, 'toid', 'INTEGER', 0, None, 0)\n",
      "(18, 'upper_value', 'NUMERIC', 0, None, 0)\n",
      "(19, 'standard_upper_value', 'NUMERIC', 0, None, 0)\n",
      "(20, 'src_id', 'INTEGER', 0, None, 0)\n",
      "(21, 'type', 'VARCHAR(250)', 1, None, 0)\n",
      "(22, 'relation', 'VARCHAR(50)', 0, None, 0)\n",
      "(23, 'value', 'NUMERIC', 0, None, 0)\n",
      "(24, 'units', 'VARCHAR(100)', 0, None, 0)\n",
      "(25, 'text_value', 'VARCHAR(1000)', 0, None, 0)\n",
      "(26, 'standard_text_value', 'VARCHAR(1000)', 0, None, 0)\n",
      "(27, 'action_type', 'VARCHAR(50)', 0, None, 0)\n"
     ]
    }
   ],
   "source": [
    "conn = sqlite3.connect(database_path)\n",
    "cursor = conn.cursor()\n",
    "\n",
    "# Execute a query (example: selecting 10 rows from a table)\n",
    "query = \"PRAGMA table_info(activities);\"  # Replace 'your_table_name' with the actual table name\n",
    "cursor.execute(query)\n",
    "\n",
    "# Fetch and print the results\n",
    "rows = cursor.fetchall()\n",
    "for row in rows:\n",
    "    print(row)"
   ]
  },
  {
   "cell_type": "code",
   "execution_count": 33,
   "id": "a7787cdd-b82e-4eef-980c-534a0b1aa2f8",
   "metadata": {},
   "outputs": [
    {
     "name": "stdout",
     "output_type": "stream",
     "text": [
      "('c1ccc(-c2nc3c(-c4nc5ccccc5o4)cccc3o2)cc1',)\n"
     ]
    }
   ],
   "source": [
    "conn = sqlite3.connect(database_path)\n",
    "cursor = conn.cursor()\n",
    "\n",
    "# Execute a query (example: selecting 10 rows from a table)\n",
    "query = \"SELECT canonical_smiles FROM compound_structures WHERE molregno IS 180094\"  # Replace 'your_table_name' with the actual table name\n",
    "cursor.execute(query)\n",
    "\n",
    "# Fetch and print the results\n",
    "rows = cursor.fetchall()\n",
    "for row in rows:\n",
    "    print(row)"
   ]
  },
  {
   "cell_type": "code",
   "execution_count": 57,
   "id": "2e274425-332c-4afa-a065-ba394e4ab3cb",
   "metadata": {},
   "outputs": [
    {
     "name": "stdout",
     "output_type": "stream",
     "text": [
      "(13, 1343810, 1124, 'Carbonic anhydrase VII inhibitor', 11060, None, 'INHIBITOR', 1, 1, 1, None, None, None, None)\n",
      "(14, 1344053, 675068, 'Carbonic anhydrase I inhibitor', 10193, None, 'INHIBITOR', 1, 1, 1, None, None, None, None)\n",
      "(15, 1344649, 674765, 'Carbonic anhydrase I inhibitor', 10193, None, 'INHIBITOR', 1, 1, 1, 'Expressed in eye', None, None, None)\n",
      "(16, 1343255, 1085, 'Carbonic anhydrase I inhibitor', 10193, None, 'INHIBITOR', 1, 1, 1, None, None, None, None)\n",
      "(17, 1344903, 1125, 'Carbonic anhydrase I inhibitor', 10193, None, 'INHIBITOR', 1, 1, 1, 'Expressed in eye', None, None, None)\n",
      "(18, 1343810, 1124, 'Carbonic anhydrase I inhibitor', 10193, None, 'INHIBITOR', 1, 1, 1, None, None, None, None)\n",
      "(19, 1343336, 378315, 'Cytochrome b inhibitor', 159, None, 'INHIBITOR', 1, 1, 1, None, None, None, None)\n",
      "(20, 1343534, 674722, 'Muscarinic acetylcholine receptor M3 antagonist', 219, None, 'ANTAGONIST', 1, 1, 1, 'Role in regulating gastric secretion, M3 likely involved', None, None, None)\n",
      "(21, 1343271, 1102940, 'Muscarinic acetylcholine receptor M3 antagonist', 219, None, 'ANTAGONIST', 1, 1, 1, 'Indicated for overactive bladder, M3 likely responsible', None, None, None)\n",
      "(22, 1343367, 230999, 'Muscarinic acetylcholine receptor M3 antagonist', 219, None, 'ANTAGONIST', 1, 1, 1, 'Role in regulating gastric secretion and overactive bladded, M3 likely involved', None, None, None)\n"
     ]
    }
   ],
   "source": [
    "# Replace 'your_chembl_database_file.db' with the path to your ChEMBL SQLite file\n",
    "database_path = 'data/chembl/chembl_33.db'\n",
    "\n",
    "# Connect to the SQLite database\n",
    "conn = sqlite3.connect(database_path)\n",
    "\n",
    "# Create a cursor object\n",
    "cursor = conn.cursor()\n",
    "\n",
    "# Execute a query (example: selecting 10 rows from a table)\n",
    "query = \"SELECT * FROM drug_mechanism LIMIT 10;\"  # Replace 'your_table_name' with the actual table name\n",
    "cursor.execute(query)\n",
    "\n",
    "# Fetch and print the results\n",
    "rows = cursor.fetchall()\n",
    "for row in rows:\n",
    "    print(row)\n",
    "\n",
    "# Close the connection\n",
    "conn.close()"
   ]
  },
  {
   "cell_type": "code",
   "execution_count": null,
   "id": "9d6dd07a-de5f-4ba2-991d-8c2d2a5816d3",
   "metadata": {},
   "outputs": [],
   "source": []
  }
 ],
 "metadata": {
  "kernelspec": {
   "display_name": "M",
   "language": "python",
   "name": "m"
  },
  "language_info": {
   "codemirror_mode": {
    "name": "ipython",
    "version": 3
   },
   "file_extension": ".py",
   "mimetype": "text/x-python",
   "name": "python",
   "nbconvert_exporter": "python",
   "pygments_lexer": "ipython3",
   "version": "3.10.13"
  }
 },
 "nbformat": 4,
 "nbformat_minor": 5
}
