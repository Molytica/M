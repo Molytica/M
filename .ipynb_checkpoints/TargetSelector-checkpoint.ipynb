{
 "cells": [
  {
   "cell_type": "code",
   "execution_count": 1,
   "id": "4fa10073-5688-4e88-8ee5-b00e2a86963f",
   "metadata": {},
   "outputs": [],
   "source": [
    "import torch"
   ]
  },
  {
   "cell_type": "code",
   "execution_count": 2,
   "id": "29e9265c-781d-4f99-8754-220e5cd0762c",
   "metadata": {},
   "outputs": [
    {
     "data": {
      "text/plain": [
       "True"
      ]
     },
     "execution_count": 2,
     "metadata": {},
     "output_type": "execute_result"
    }
   ],
   "source": [
    "torch.cuda.is_available()"
   ]
  },
  {
   "cell_type": "code",
   "execution_count": 1,
   "id": "78713061-eaaa-4ea7-95ff-d8e2d12af6a2",
   "metadata": {},
   "outputs": [
    {
     "name": "stderr",
     "output_type": "stream",
     "text": [
      "2023-12-10 15:34:38.910791: I tensorflow/tsl/cuda/cudart_stub.cc:28] Could not find cuda drivers on your machine, GPU will not be used.\n",
      "2023-12-10 15:34:38.938933: E tensorflow/compiler/xla/stream_executor/cuda/cuda_dnn.cc:9342] Unable to register cuDNN factory: Attempting to register factory for plugin cuDNN when one has already been registered\n",
      "2023-12-10 15:34:38.938965: E tensorflow/compiler/xla/stream_executor/cuda/cuda_fft.cc:609] Unable to register cuFFT factory: Attempting to register factory for plugin cuFFT when one has already been registered\n",
      "2023-12-10 15:34:38.938991: E tensorflow/compiler/xla/stream_executor/cuda/cuda_blas.cc:1518] Unable to register cuBLAS factory: Attempting to register factory for plugin cuBLAS when one has already been registered\n",
      "2023-12-10 15:34:38.945586: I tensorflow/tsl/cuda/cudart_stub.cc:28] Could not find cuda drivers on your machine, GPU will not be used.\n",
      "2023-12-10 15:34:38.946250: I tensorflow/core/platform/cpu_feature_guard.cc:182] This TensorFlow binary is optimized to use available CPU instructions in performance-critical operations.\n",
      "To enable the following instructions: AVX2 FMA, in other operations, rebuild TensorFlow with the appropriate compiler flags.\n",
      "2023-12-10 15:34:39.806848: W tensorflow/compiler/tf2tensorrt/utils/py_utils.cc:38] TF-TRT Warning: Could not find TensorRT\n"
     ]
    },
    {
     "name": "stdout",
     "output_type": "stream",
     "text": [
      "cuda\n"
     ]
    }
   ],
   "source": [
    "from molytica_m.target_selector import target_selector_tools"
   ]
  },
  {
   "cell_type": "code",
   "execution_count": 4,
   "id": "bc07b2cc-7651-4f1e-b12e-d3164e8a799b",
   "metadata": {},
   "outputs": [
    {
     "data": {
      "application/vnd.jupyter.widget-view+json": {
       "model_id": "7025108b9e7f4d8298743302d86dbadb",
       "version_major": 2,
       "version_minor": 0
      },
      "text/plain": [
       "Searching ref_uniprot links:   0%|          | 0/1 [00:00<?, ?it/s]"
      ]
     },
     "metadata": {},
     "output_type": "display_data"
    },
    {
     "data": {
      "application/vnd.jupyter.widget-view+json": {
       "model_id": "0c04857c648b42949734b3029f16a160",
       "version_major": 2,
       "version_minor": 0
      },
      "text/plain": [
       "Searching af_uniprot links:   0%|          | 0/20504 [00:00<?, ?it/s]"
      ]
     },
     "metadata": {},
     "output_type": "display_data"
    }
   ],
   "source": [
    "neighbors_1 = target_selector_tools.get_edges_with_PPI_above_threshold([\"P15692\"], 0.2)"
   ]
  },
  {
   "cell_type": "code",
   "execution_count": 5,
   "id": "9423716d-b04b-4702-8033-8aacf57e12b0",
   "metadata": {},
   "outputs": [
    {
     "name": "stdout",
     "output_type": "stream",
     "text": [
      "768\n"
     ]
    }
   ],
   "source": [
    "n1 = [x[0] for x in neighbors_1]\n",
    "print(len(n1))"
   ]
  },
  {
   "cell_type": "code",
   "execution_count": 8,
   "id": "9c781bf5-fbfe-4b2c-8fd5-89e7df5b3fb8",
   "metadata": {
    "scrolled": true
   },
   "outputs": [
    {
     "data": {
      "application/vnd.jupyter.widget-view+json": {
       "model_id": "a6b54fa781ab4d60b0f5070931e74efe",
       "version_major": 2,
       "version_minor": 0
      },
      "text/plain": [
       "Searching ref_uniprot links:   0%|          | 0/768 [00:00<?, ?it/s]"
      ]
     },
     "metadata": {},
     "output_type": "display_data"
    },
    {
     "data": {
      "application/vnd.jupyter.widget-view+json": {
       "model_id": "af998efd78f445e7bff838dd6d7f0c46",
       "version_major": 2,
       "version_minor": 0
      },
      "text/plain": [
       "Searching af_uniprot links:   0%|          | 0/20504 [00:00<?, ?it/s]"
      ]
     },
     "metadata": {},
     "output_type": "display_data"
    },
    {
     "ename": "KeyboardInterrupt",
     "evalue": "",
     "output_type": "error",
     "traceback": [
      "\u001b[0;31m---------------------------------------------------------------------------\u001b[0m",
      "\u001b[0;31mKeyboardInterrupt\u001b[0m                         Traceback (most recent call last)",
      "Cell \u001b[0;32mIn[8], line 1\u001b[0m\n\u001b[0;32m----> 1\u001b[0m n2 \u001b[38;5;241m=\u001b[39m \u001b[43mtarget_selector_tools\u001b[49m\u001b[38;5;241;43m.\u001b[39;49m\u001b[43mget_edges_with_PPI_above_threshold\u001b[49m\u001b[43m(\u001b[49m\u001b[43mn1\u001b[49m\u001b[43m,\u001b[49m\u001b[43m \u001b[49m\u001b[38;5;241;43m0.2\u001b[39;49m\u001b[43m)\u001b[49m\n",
      "File \u001b[0;32m~/M/molytica_m/target_selector/target_selector_tools.py:153\u001b[0m, in \u001b[0;36mget_edges_with_PPI_above_threshold\u001b[0;34m(reference_uniprots, threshold)\u001b[0m\n\u001b[1;32m    151\u001b[0m \u001b[38;5;28;01mfor\u001b[39;00m ref_uniprot \u001b[38;5;129;01min\u001b[39;00m tqdm(reference_uniprots, desc\u001b[38;5;241m=\u001b[39m\u001b[38;5;124m\"\u001b[39m\u001b[38;5;124mSearching ref_uniprot links\u001b[39m\u001b[38;5;124m\"\u001b[39m):\n\u001b[1;32m    152\u001b[0m     \u001b[38;5;28;01mfor\u001b[39;00m af_uniprot \u001b[38;5;129;01min\u001b[39;00m tqdm(af_uniprots, desc\u001b[38;5;241m=\u001b[39m\u001b[38;5;124m\"\u001b[39m\u001b[38;5;124mSearching af_uniprot links\u001b[39m\u001b[38;5;124m\"\u001b[39m):\n\u001b[0;32m--> 153\u001b[0m         PPI_prob \u001b[38;5;241m=\u001b[39m \u001b[43mPPI_Interactome_tools\u001b[49m\u001b[38;5;241;43m.\u001b[39;49m\u001b[43mget_PPI_value\u001b[49m\u001b[43m(\u001b[49m\u001b[43mref_uniprot\u001b[49m\u001b[43m,\u001b[49m\u001b[43m \u001b[49m\u001b[43maf_uniprot\u001b[49m\u001b[43m)\u001b[49m\n\u001b[1;32m    154\u001b[0m         \u001b[38;5;28;01mif\u001b[39;00m PPI_prob \u001b[38;5;241m>\u001b[39m threshold:\n\u001b[1;32m    155\u001b[0m             first_neighbors\u001b[38;5;241m.\u001b[39mappend((af_uniprot, PPI_prob))\n",
      "File \u001b[0;32m~/M/molytica_m/data_tools/PPI_Interactome_tools.py:55\u001b[0m, in \u001b[0;36mget_PPI_value\u001b[0;34m(A, B)\u001b[0m\n\u001b[1;32m     54\u001b[0m \u001b[38;5;28;01mdef\u001b[39;00m \u001b[38;5;21mget_PPI_value\u001b[39m(A, B):\n\u001b[0;32m---> 55\u001b[0m     \u001b[38;5;28;01mreturn\u001b[39;00m (get_PPI_value_single(A, B) \u001b[38;5;241m+\u001b[39m \u001b[43mget_PPI_value_single\u001b[49m\u001b[43m(\u001b[49m\u001b[43mB\u001b[49m\u001b[43m,\u001b[49m\u001b[43m \u001b[49m\u001b[43mA\u001b[49m\u001b[43m)\u001b[49m) \u001b[38;5;241m/\u001b[39m \u001b[38;5;241m2\u001b[39m\n",
      "File \u001b[0;32m~/M/molytica_m/data_tools/PPI_Interactome_tools.py:49\u001b[0m, in \u001b[0;36mget_PPI_value_single\u001b[0;34m(uniprot_A, uniprot_B)\u001b[0m\n\u001b[1;32m     47\u001b[0m         \u001b[38;5;28;01mreturn\u001b[39;00m PPI_value\n\u001b[1;32m     48\u001b[0m \u001b[38;5;28;01melse\u001b[39;00m:\n\u001b[0;32m---> 49\u001b[0m     PPI_value \u001b[38;5;241m=\u001b[39m \u001b[43mpredict_PPI_value\u001b[49m\u001b[43m(\u001b[49m\u001b[43muniprot_A\u001b[49m\u001b[43m,\u001b[49m\u001b[43m \u001b[49m\u001b[43muniprot_B\u001b[49m\u001b[43m)\u001b[49m\n\u001b[1;32m     50\u001b[0m     \u001b[38;5;28;01mwith\u001b[39;00m \u001b[38;5;28mopen\u001b[39m(file_path, \u001b[38;5;124m\"\u001b[39m\u001b[38;5;124mw\u001b[39m\u001b[38;5;124m\"\u001b[39m) \u001b[38;5;28;01mas\u001b[39;00m file:\n\u001b[1;32m     51\u001b[0m         file\u001b[38;5;241m.\u001b[39mwrite(\u001b[38;5;28mstr\u001b[39m(PPI_value))\n",
      "File \u001b[0;32m~/M/molytica_m/data_tools/PPI_Interactome_tools.py:17\u001b[0m, in \u001b[0;36mpredict_PPI_value\u001b[0;34m(uniprot_A, uniprot_B)\u001b[0m\n\u001b[1;32m     14\u001b[0m metadata_a \u001b[38;5;241m=\u001b[39m create_PPI_dataset\u001b[38;5;241m.\u001b[39mget_metadata(uniprot_A)\n\u001b[1;32m     15\u001b[0m metadata_b \u001b[38;5;241m=\u001b[39m create_PPI_dataset\u001b[38;5;241m.\u001b[39mget_metadata(uniprot_B)\n\u001b[0;32m---> 17\u001b[0m x_a, edge_index_a \u001b[38;5;241m=\u001b[39m \u001b[43mcreate_PPI_dataset\u001b[49m\u001b[38;5;241;43m.\u001b[39;49m\u001b[43mget_graph\u001b[49m\u001b[43m(\u001b[49m\u001b[43muniprot_A\u001b[49m\u001b[43m)\u001b[49m\n\u001b[1;32m     18\u001b[0m x_b, edge_index_b \u001b[38;5;241m=\u001b[39m create_PPI_dataset\u001b[38;5;241m.\u001b[39mget_graph(uniprot_B)\n\u001b[1;32m     20\u001b[0m output \u001b[38;5;241m=\u001b[39m model(\n\u001b[1;32m     21\u001b[0m     torch\u001b[38;5;241m.\u001b[39mtensor(metadata_a, dtype\u001b[38;5;241m=\u001b[39mtorch\u001b[38;5;241m.\u001b[39mfloat)\u001b[38;5;241m.\u001b[39mto(device)\u001b[38;5;241m.\u001b[39munsqueeze(\u001b[38;5;241m0\u001b[39m),\n\u001b[1;32m     22\u001b[0m     torch\u001b[38;5;241m.\u001b[39mtensor(metadata_b, dtype\u001b[38;5;241m=\u001b[39mtorch\u001b[38;5;241m.\u001b[39mfloat)\u001b[38;5;241m.\u001b[39mto(device)\u001b[38;5;241m.\u001b[39munsqueeze(\u001b[38;5;241m0\u001b[39m),\n\u001b[0;32m   (...)\u001b[0m\n\u001b[1;32m     26\u001b[0m     torch\u001b[38;5;241m.\u001b[39mtensor(edge_index_b, dtype\u001b[38;5;241m=\u001b[39mtorch\u001b[38;5;241m.\u001b[39mlong)\u001b[38;5;241m.\u001b[39mto(device),\n\u001b[1;32m     27\u001b[0m )\n",
      "File \u001b[0;32m~/M/molytica_m/data_tools/create_PPI_dataset.py:65\u001b[0m, in \u001b[0;36mget_graph\u001b[0;34m(af_uniprot)\u001b[0m\n\u001b[1;32m     62\u001b[0m file_name \u001b[38;5;241m=\u001b[39m \u001b[38;5;124mf\u001b[39m\u001b[38;5;124m\"\u001b[39m\u001b[38;5;124mdata/af_protein_1_dot_5_angstrom_graphs/\u001b[39m\u001b[38;5;132;01m{\u001b[39;00maf_uniprot\u001b[38;5;132;01m}\u001b[39;00m\u001b[38;5;124m_graph.h5\u001b[39m\u001b[38;5;124m\"\u001b[39m\n\u001b[1;32m     64\u001b[0m \u001b[38;5;28;01mwith\u001b[39;00m h5py\u001b[38;5;241m.\u001b[39mFile(file_name, \u001b[38;5;124m'\u001b[39m\u001b[38;5;124mr\u001b[39m\u001b[38;5;124m'\u001b[39m) \u001b[38;5;28;01mas\u001b[39;00m h5file:\n\u001b[0;32m---> 65\u001b[0m     edge_index \u001b[38;5;241m=\u001b[39m \u001b[43mtorch\u001b[49m\u001b[38;5;241;43m.\u001b[39;49m\u001b[43mtensor\u001b[49m\u001b[43m(\u001b[49m\u001b[43mh5file\u001b[49m\u001b[43m[\u001b[49m\u001b[38;5;124;43m'\u001b[39;49m\u001b[38;5;124;43medge_index\u001b[39;49m\u001b[38;5;124;43m'\u001b[39;49m\u001b[43m]\u001b[49m\u001b[43m[\u001b[49m\u001b[43m:\u001b[49m\u001b[43m]\u001b[49m\u001b[43m,\u001b[49m\u001b[43m \u001b[49m\u001b[43mdtype\u001b[49m\u001b[38;5;241;43m=\u001b[39;49m\u001b[43mtorch\u001b[49m\u001b[38;5;241;43m.\u001b[39;49m\u001b[43mlong\u001b[49m\u001b[43m)\u001b[49m\n\u001b[1;32m     66\u001b[0m     edge_attr \u001b[38;5;241m=\u001b[39m torch\u001b[38;5;241m.\u001b[39mtensor(h5file[\u001b[38;5;124m'\u001b[39m\u001b[38;5;124medge_attr\u001b[39m\u001b[38;5;124m'\u001b[39m][:], dtype\u001b[38;5;241m=\u001b[39mtorch\u001b[38;5;241m.\u001b[39mfloat)\n\u001b[1;32m     67\u001b[0m     atom_features \u001b[38;5;241m=\u001b[39m torch\u001b[38;5;241m.\u001b[39mtensor(h5file[\u001b[38;5;124m'\u001b[39m\u001b[38;5;124matom_features\u001b[39m\u001b[38;5;124m'\u001b[39m][:], dtype\u001b[38;5;241m=\u001b[39mtorch\u001b[38;5;241m.\u001b[39mfloat)\n",
      "\u001b[0;31mKeyboardInterrupt\u001b[0m: "
     ]
    }
   ],
   "source": [
    "n2 = target_selector_tools.get_edges_with_PPI_above_threshold(n1, 0.2)"
   ]
  },
  {
   "cell_type": "code",
   "execution_count": null,
   "id": "7f1e26f6-8d63-42be-a97b-2d27741d2583",
   "metadata": {},
   "outputs": [],
   "source": [
    "target_selector_tools.get_top_edges([\"P15692\"], threshold=0.3, edge_limit=2)"
   ]
  }
 ],
 "metadata": {
  "kernelspec": {
   "display_name": "M",
   "language": "python",
   "name": "m"
  },
  "language_info": {
   "codemirror_mode": {
    "name": "ipython",
    "version": 3
   },
   "file_extension": ".py",
   "mimetype": "text/x-python",
   "name": "python",
   "nbconvert_exporter": "python",
   "pygments_lexer": "ipython3",
   "version": "3.10.13"
  }
 },
 "nbformat": 4,
 "nbformat_minor": 5
}
