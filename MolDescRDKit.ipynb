{
 "cells": [
  {
   "cell_type": "code",
   "execution_count": 2,
   "metadata": {},
   "outputs": [],
   "source": [
    "from rdkit import Chem\n",
    "from rdkit.Chem import Descriptors\n",
    "\n",
    "def calculate_descriptors(smiles_string):\n",
    "    # Convert the SMILES string to a molecule object\n",
    "    molecule = Chem.MolFromSmiles(smiles_string)\n",
    "\n",
    "    # Calculate all available descriptors\n",
    "    descriptors = {}\n",
    "    for descriptor_name, descriptor_fn in Descriptors.descList:\n",
    "        try:\n",
    "            descriptors[descriptor_name] = descriptor_fn(molecule)\n",
    "        except:\n",
    "            descriptors[descriptor_name] = None\n",
    "\n",
    "    return descriptors"
   ]
  },
  {
   "cell_type": "code",
   "execution_count": 3,
   "metadata": {},
   "outputs": [],
   "source": [
    "smiles_string = \"CC(=O)OC1=CC=CC=C1C(=O)O\"\n",
    "descriptors = calculate_descriptors(smiles_string)"
   ]
  },
  {
   "cell_type": "code",
   "execution_count": 6,
   "metadata": {},
   "outputs": [
    {
     "data": {
      "text/plain": [
       "dict_values([10.611948223733938, 10.611948223733938, 0.01601851851851821, -1.1140277777777776, 0.5501217966938848, 9.307692307692308, 180.15899999999996, 172.09499999999997, 180.042258736, 68, 0, 0.33900378687731025, -0.4775395271554559, 0.4775395271554559, 0.33900378687731025, 1.3076923076923077, 1.9230769230769231, 2.4615384615384617, 16.53611122125433, 10.182282381035343, 2.104306980957856, -2.0311320919470135, 2.1698345568128055, -2.063000061964297, 5.913065796110142, -0.13141434244030561, 2.0325369160995868, 3.0435273546341013, 343.2228677267164, 9.844934982691242, 6.9813595436500515, 6.9813595436500515, 6.109060905280622, 3.6174536478673316, 3.6174536478673316, 2.3949556783206725, 2.3949556783206725, 1.3711546649445037, 1.3711546649445037, 0.8871712192374142, 0.8871712192374142, -1.8399999999999999, 729.6807528797516, 9.249605734767023, 3.7092512583454584, 2.297415032519928, 74.75705264447721, 9.843390348640755, 11.3129633249809, 0.0, 0.0, 0.0, 11.938610575903699, 4.794537184071822, 4.794537184071822, 0.0, 0.0, 12.13273413692322, 12.13273413692322, 6.923737199690624, 0.0, 19.432464716784395, 11.938610575903699, 0.0, 0.0, 0.0, 6.923737199690624, 0.0, 29.828919765543436, 0.0, 5.749511833283905, 4.736862953800049, 0.0, 5.749511833283905, 0.0, 17.045137970744406, 4.794537184071822, 0.0, 17.28172587545944, 24.26546827384644, 0.0, 0.0, 0.0, 63.60000000000001, 11.938610575903699, 9.589074368143644, 0.0, 11.3129633249809, 0.0, 0.0, 19.056471336613843, 12.13273413692322, 0.0, 4.736862953800049, 5.106527394840706, 4.686898148148147, 0.0, 21.184767573696142, 8.687243008314436, -0.01601851851851821, -1.575879629629629, 5.978792517006803, 0.0, 1.2208635676492818, 0.0, 0.1111111111111111, 13, 1, 4, 0, 0, 0, 1, 0, 1, 3, 1, 4, 2, 0, 0, 0, 1, 1.3101, 44.71030000000002, 0, 0, 0, 0, 1, 0, 0, 0, 1, 1, 2, 1, 0, 0, 0, 0, 0, 0, 0, 0, 0, 0, 0, 0, 0, 0, 0, 0, 0, 0, 0, 0, 0, 0, 1, 0, 0, 0, 0, 0, 1, 1, 0, 0, 0, 0, 0, 0, 0, 0, 0, 0, 0, 0, 0, 0, 0, 0, 0, 0, 0, 0, 0, 0, 1, 0, 0, 0, 0, 0, 0, 0, 0, 0, 0, 0, 0, 0, 0, 0, 0, 0, 0, 0, 0])"
      ]
     },
     "execution_count": 6,
     "metadata": {},
     "output_type": "execute_result"
    }
   ],
   "source": [
    "descriptors.values()"
   ]
  },
  {
   "cell_type": "code",
   "execution_count": 7,
   "metadata": {},
   "outputs": [
    {
     "data": {
      "text/plain": [
       "210"
      ]
     },
     "execution_count": 7,
     "metadata": {},
     "output_type": "execute_result"
    }
   ],
   "source": [
    "len(descriptors.values())"
   ]
  },
  {
   "cell_type": "code",
   "execution_count": null,
   "metadata": {},
   "outputs": [],
   "source": []
  }
 ],
 "metadata": {
  "kernelspec": {
   "display_name": "M",
   "language": "python",
   "name": "python3"
  },
  "language_info": {
   "codemirror_mode": {
    "name": "ipython",
    "version": 3
   },
   "file_extension": ".py",
   "mimetype": "text/x-python",
   "name": "python",
   "nbconvert_exporter": "python",
   "pygments_lexer": "ipython3",
   "version": "3.10.13"
  }
 },
 "nbformat": 4,
 "nbformat_minor": 2
}
