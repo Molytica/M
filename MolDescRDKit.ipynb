{
 "cells": [
  {
   "cell_type": "code",
   "execution_count": 2,
   "metadata": {},
   "outputs": [],
   "source": [
    "from rdkit import Chem\n",
    "from rdkit.Chem import Descriptors\n",
    "\n",
    "def calculate_descriptors(smiles_string):\n",
    "    # Convert the SMILES string to a molecule object\n",
    "    molecule = Chem.MolFromSmiles(smiles_string)\n",
    "\n",
    "    # Calculate all available descriptors\n",
    "    descriptors = {}\n",
    "    for descriptor_name, descriptor_fn in Descriptors.descList:\n",
    "        try:\n",
    "            descriptors[descriptor_name] = descriptor_fn(molecule)\n",
    "        except:\n",
    "            descriptors[descriptor_name] = None\n",
    "\n",
    "    return descriptors"
   ]
  },
  {
   "cell_type": "code",
   "execution_count": 3,
   "metadata": {},
   "outputs": [],
   "source": [
    "smiles_string = \"CC(=O)OC1=CC=CC=C1C(=O)O\"\n",
    "descriptors = calculate_descriptors(smiles_string)"
   ]
  },
  {
   "cell_type": "code",
   "execution_count": 4,
   "metadata": {},
   "outputs": [],
   "source": [
    "table_columns = [\"mol_molytica_id\", \"mol_canonical_smiles\"] + list(descriptors.keys())"
   ]
  },
  {
   "cell_type": "code",
   "execution_count": 5,
   "metadata": {},
   "outputs": [
    {
     "data": {
      "text/plain": [
       "dict_values([10.611948223733938, 10.611948223733938, 0.01601851851851821, -1.1140277777777776, 0.5501217966938848, 9.307692307692308, 180.15899999999996, 172.09499999999997, 180.042258736, 68, 0, 0.33900378687731025, -0.4775395271554559, 0.4775395271554559, 0.33900378687731025, 1.3076923076923077, 1.9230769230769231, 2.4615384615384617, 16.53611122125433, 10.182282381035343, 2.104306980957856, -2.0311320919470135, 2.1698345568128055, -2.063000061964297, 5.913065796110142, -0.13141434244030561, 2.0325369160995868, 3.0435273546341013, 343.2228677267164, 9.844934982691242, 6.9813595436500515, 6.9813595436500515, 6.109060905280622, 3.6174536478673316, 3.6174536478673316, 2.3949556783206725, 2.3949556783206725, 1.3711546649445037, 1.3711546649445037, 0.8871712192374142, 0.8871712192374142, -1.8399999999999999, 729.6807528797516, 9.249605734767023, 3.7092512583454584, 2.297415032519928, 74.75705264447721, 9.843390348640755, 11.3129633249809, 0.0, 0.0, 0.0, 11.938610575903699, 4.794537184071822, 4.794537184071822, 0.0, 0.0, 12.13273413692322, 12.13273413692322, 6.923737199690624, 0.0, 19.432464716784395, 11.938610575903699, 0.0, 0.0, 0.0, 6.923737199690624, 0.0, 29.828919765543436, 0.0, 5.749511833283905, 4.736862953800049, 0.0, 5.749511833283905, 0.0, 17.045137970744406, 4.794537184071822, 0.0, 17.28172587545944, 24.26546827384644, 0.0, 0.0, 0.0, 63.60000000000001, 11.938610575903699, 9.589074368143644, 0.0, 11.3129633249809, 0.0, 0.0, 19.056471336613843, 12.13273413692322, 0.0, 4.736862953800049, 5.106527394840706, 4.686898148148147, 0.0, 21.184767573696142, 8.687243008314436, -0.01601851851851821, -1.575879629629629, 5.978792517006803, 0.0, 1.2208635676492818, 0.0, 0.1111111111111111, 13, 1, 4, 0, 0, 0, 1, 0, 1, 3, 1, 4, 2, 0, 0, 0, 1, 1.3101, 44.71030000000002, 0, 0, 0, 0, 1, 0, 0, 0, 1, 1, 2, 1, 0, 0, 0, 0, 0, 0, 0, 0, 0, 0, 0, 0, 0, 0, 0, 0, 0, 0, 0, 0, 0, 0, 1, 0, 0, 0, 0, 0, 1, 1, 0, 0, 0, 0, 0, 0, 0, 0, 0, 0, 0, 0, 0, 0, 0, 0, 0, 0, 0, 0, 0, 0, 1, 0, 0, 0, 0, 0, 0, 0, 0, 0, 0, 0, 0, 0, 0, 0, 0, 0, 0, 0, 0])"
      ]
     },
     "execution_count": 5,
     "metadata": {},
     "output_type": "execute_result"
    }
   ],
   "source": [
    "descriptors.values()"
   ]
  },
  {
   "cell_type": "code",
   "execution_count": 6,
   "metadata": {},
   "outputs": [
    {
     "data": {
      "text/plain": [
       "210"
      ]
     },
     "execution_count": 6,
     "metadata": {},
     "output_type": "execute_result"
    }
   ],
   "source": [
    "len(descriptors.values())"
   ]
  },
  {
   "cell_type": "code",
   "execution_count": 7,
   "metadata": {},
   "outputs": [],
   "source": [
    "def add_mol_desc_to_db(smiles, mol_ids, batch_descriptors, target_output_path):\n",
    "    pass"
   ]
  },
  {
   "cell_type": "code",
   "execution_count": 8,
   "metadata": {},
   "outputs": [],
   "source": [
    "from concurrent.futures import ProcessPoolExecutor\n",
    "import json, os\n",
    "from tqdm import tqdm\n",
    "import sqlite3\n",
    "\n",
    "def create_db_and_table(path=\"data/curated_chembl/SMILES_metadata.db\"):\n",
    "    # Connect to the SQLite database\n",
    "    conn = sqlite3.connect(path)\n",
    "\n",
    "    # Create a cursor object\n",
    "    c = conn.cursor()\n",
    "\n",
    "    # Define the SQL command to create the table\n",
    "    sql_command = \"\"\"\n",
    "    CREATE TABLE mol_metadata (\n",
    "        mol_molytica_id INTEGER,\n",
    "        mol_canonical_smiles TEXT,\n",
    "        {}\n",
    "    );\n",
    "    \"\"\".format(\", \".join(\"{} REAL\".format(desc) for desc in descriptors.keys()))\n",
    "\n",
    "    # Execute the SQL command\n",
    "    c.execute(sql_command)\n",
    "\n",
    "    # Commit the changes\n",
    "    conn.commit()\n",
    "\n",
    "    # Close the connection\n",
    "    conn.close()\n",
    "\n",
    "\n",
    "def add_mol_desc_to_db(smiles, mol_ids, batch_descriptors, target_output_path):\n",
    "    db_path = os.path.join(target_output_path, \"SMILES_metadata.db\")\n",
    "    conn = sqlite3.connect(db_path)\n",
    "    c = conn.cursor()\n",
    "\n",
    "    # Prepare the batch of data\n",
    "    data = [(mol_id, smile, *descriptor) for mol_id, smile, descriptor in zip(mol_ids, smiles, batch_descriptors)]\n",
    "\n",
    "    # Define the SQL command for batch insertion\n",
    "    placeholders = ', '.join(['?'] * (2 + len(batch_descriptors[0])))  # 2 for mol_id and smile, rest for descriptors\n",
    "    sql_command = f\"INSERT INTO mol_metadata VALUES ({placeholders})\"\n",
    "\n",
    "    # Execute the SQL command\n",
    "    c.executemany(sql_command, data)\n",
    "\n",
    "    # Commit the changes and close the connection\n",
    "    conn.commit()\n",
    "    conn.close()\n",
    "\n",
    "\n",
    "def create_SMILES_metadata(target_output_path=\"data/curated_chembl/\"):\n",
    "    \n",
    "    db_path = os.path.join(target_output_path, \"SMILES_metadata.db\")\n",
    "    if os.path.exists(db_path):\n",
    "        print(\"SMILES metadata already exists. Skipping creation.\")\n",
    "        return\n",
    "\n",
    "    create_db_and_table()\n",
    "\n",
    "    with open(os.path.join(\"data\", \"curated_chembl\", \"molecule_id_mappings\", \"id_to_smiles.json\"), 'r') as f:\n",
    "        id_to_smiles = json.load(f)\n",
    "   \n",
    "    batch_size = 10000\n",
    "    num_batches = len(id_to_smiles) // batch_size + 1\n",
    "\n",
    "    for batch_num in tqdm(range(num_batches), desc=\"Creating SMILES metadata\"):\n",
    "        batch_start = batch_num * batch_size\n",
    "        batch_end = min((batch_num + 1) * batch_size, len(id_to_smiles))\n",
    "        batch_id_to_smiles = {k: v for k, v in id_to_smiles.items() if batch_start <= int(k) < batch_end}\n",
    "\n",
    "        num_cores = os.cpu_count()\n",
    "        num_workers = int(num_cores * 0.9)\n",
    "\n",
    "        with ProcessPoolExecutor(max_workers=num_workers) as executor:\n",
    "            batch_descriptors = executor.map(calculate_descriptors, batch_id_to_smiles.values())\n",
    "\n",
    "        smiles = list(batch_id_to_smiles.values())\n",
    "        mol_ids = list(batch_id_to_smiles.keys())\n",
    "        batch_descriptors = list(batch_descriptors)\n",
    "\n",
    "        add_mol_desc_to_db(smiles, mol_ids, batch_descriptors, target_output_path)\n"
   ]
  },
  {
   "cell_type": "code",
   "execution_count": 9,
   "metadata": {},
   "outputs": [
    {
     "name": "stderr",
     "output_type": "stream",
     "text": [
      "Creating SMILES metadata:   0%|          | 0/359 [00:04<?, ?it/s]\n"
     ]
    },
    {
     "ename": "KeyboardInterrupt",
     "evalue": "",
     "output_type": "error",
     "traceback": [
      "\u001b[0;31m---------------------------------------------------------------------------\u001b[0m",
      "\u001b[0;31mKeyboardInterrupt\u001b[0m                         Traceback (most recent call last)",
      "Cell \u001b[0;32mIn[9], line 5\u001b[0m\n\u001b[1;32m      2\u001b[0m     create_SMILES_metadata()\n\u001b[1;32m      4\u001b[0m \u001b[38;5;28;01mif\u001b[39;00m \u001b[38;5;18m__name__\u001b[39m \u001b[38;5;241m==\u001b[39m \u001b[38;5;124m\"\u001b[39m\u001b[38;5;124m__main__\u001b[39m\u001b[38;5;124m\"\u001b[39m:\n\u001b[0;32m----> 5\u001b[0m     \u001b[43mmain\u001b[49m\u001b[43m(\u001b[49m\u001b[43m)\u001b[49m\n",
      "Cell \u001b[0;32mIn[9], line 2\u001b[0m, in \u001b[0;36mmain\u001b[0;34m()\u001b[0m\n\u001b[1;32m      1\u001b[0m \u001b[38;5;28;01mdef\u001b[39;00m \u001b[38;5;21mmain\u001b[39m():\n\u001b[0;32m----> 2\u001b[0m     \u001b[43mcreate_SMILES_metadata\u001b[49m\u001b[43m(\u001b[49m\u001b[43m)\u001b[49m\n",
      "Cell \u001b[0;32mIn[8], line 75\u001b[0m, in \u001b[0;36mcreate_SMILES_metadata\u001b[0;34m(target_output_path)\u001b[0m\n\u001b[1;32m     72\u001b[0m num_cores \u001b[38;5;241m=\u001b[39m os\u001b[38;5;241m.\u001b[39mcpu_count()\n\u001b[1;32m     73\u001b[0m num_workers \u001b[38;5;241m=\u001b[39m \u001b[38;5;28mint\u001b[39m(num_cores \u001b[38;5;241m*\u001b[39m \u001b[38;5;241m0.9\u001b[39m)\n\u001b[0;32m---> 75\u001b[0m \u001b[38;5;28;01mwith\u001b[39;00m ProcessPoolExecutor(max_workers\u001b[38;5;241m=\u001b[39mnum_workers) \u001b[38;5;28;01mas\u001b[39;00m executor:\n\u001b[1;32m     76\u001b[0m     batch_descriptors \u001b[38;5;241m=\u001b[39m executor\u001b[38;5;241m.\u001b[39mmap(calculate_descriptors, batch_id_to_smiles\u001b[38;5;241m.\u001b[39mvalues())\n\u001b[1;32m     78\u001b[0m smiles \u001b[38;5;241m=\u001b[39m \u001b[38;5;28mlist\u001b[39m(batch_id_to_smiles\u001b[38;5;241m.\u001b[39mvalues())\n",
      "File \u001b[0;32m~/miniconda3/envs/M/lib/python3.10/concurrent/futures/_base.py:649\u001b[0m, in \u001b[0;36mExecutor.__exit__\u001b[0;34m(self, exc_type, exc_val, exc_tb)\u001b[0m\n\u001b[1;32m    648\u001b[0m \u001b[38;5;28;01mdef\u001b[39;00m \u001b[38;5;21m__exit__\u001b[39m(\u001b[38;5;28mself\u001b[39m, exc_type, exc_val, exc_tb):\n\u001b[0;32m--> 649\u001b[0m     \u001b[38;5;28;43mself\u001b[39;49m\u001b[38;5;241;43m.\u001b[39;49m\u001b[43mshutdown\u001b[49m\u001b[43m(\u001b[49m\u001b[43mwait\u001b[49m\u001b[38;5;241;43m=\u001b[39;49m\u001b[38;5;28;43;01mTrue\u001b[39;49;00m\u001b[43m)\u001b[49m\n\u001b[1;32m    650\u001b[0m     \u001b[38;5;28;01mreturn\u001b[39;00m \u001b[38;5;28;01mFalse\u001b[39;00m\n",
      "File \u001b[0;32m~/miniconda3/envs/M/lib/python3.10/concurrent/futures/process.py:780\u001b[0m, in \u001b[0;36mProcessPoolExecutor.shutdown\u001b[0;34m(self, wait, cancel_futures)\u001b[0m\n\u001b[1;32m    777\u001b[0m         \u001b[38;5;28mself\u001b[39m\u001b[38;5;241m.\u001b[39m_executor_manager_thread_wakeup\u001b[38;5;241m.\u001b[39mwakeup()\n\u001b[1;32m    779\u001b[0m \u001b[38;5;28;01mif\u001b[39;00m \u001b[38;5;28mself\u001b[39m\u001b[38;5;241m.\u001b[39m_executor_manager_thread \u001b[38;5;129;01mis\u001b[39;00m \u001b[38;5;129;01mnot\u001b[39;00m \u001b[38;5;28;01mNone\u001b[39;00m \u001b[38;5;129;01mand\u001b[39;00m wait:\n\u001b[0;32m--> 780\u001b[0m     \u001b[38;5;28;43mself\u001b[39;49m\u001b[38;5;241;43m.\u001b[39;49m\u001b[43m_executor_manager_thread\u001b[49m\u001b[38;5;241;43m.\u001b[39;49m\u001b[43mjoin\u001b[49m\u001b[43m(\u001b[49m\u001b[43m)\u001b[49m\n\u001b[1;32m    781\u001b[0m \u001b[38;5;66;03m# To reduce the risk of opening too many files, remove references to\u001b[39;00m\n\u001b[1;32m    782\u001b[0m \u001b[38;5;66;03m# objects that use file descriptors.\u001b[39;00m\n\u001b[1;32m    783\u001b[0m \u001b[38;5;28mself\u001b[39m\u001b[38;5;241m.\u001b[39m_executor_manager_thread \u001b[38;5;241m=\u001b[39m \u001b[38;5;28;01mNone\u001b[39;00m\n",
      "File \u001b[0;32m~/miniconda3/envs/M/lib/python3.10/threading.py:1096\u001b[0m, in \u001b[0;36mThread.join\u001b[0;34m(self, timeout)\u001b[0m\n\u001b[1;32m   1093\u001b[0m     \u001b[38;5;28;01mraise\u001b[39;00m \u001b[38;5;167;01mRuntimeError\u001b[39;00m(\u001b[38;5;124m\"\u001b[39m\u001b[38;5;124mcannot join current thread\u001b[39m\u001b[38;5;124m\"\u001b[39m)\n\u001b[1;32m   1095\u001b[0m \u001b[38;5;28;01mif\u001b[39;00m timeout \u001b[38;5;129;01mis\u001b[39;00m \u001b[38;5;28;01mNone\u001b[39;00m:\n\u001b[0;32m-> 1096\u001b[0m     \u001b[38;5;28;43mself\u001b[39;49m\u001b[38;5;241;43m.\u001b[39;49m\u001b[43m_wait_for_tstate_lock\u001b[49m\u001b[43m(\u001b[49m\u001b[43m)\u001b[49m\n\u001b[1;32m   1097\u001b[0m \u001b[38;5;28;01melse\u001b[39;00m:\n\u001b[1;32m   1098\u001b[0m     \u001b[38;5;66;03m# the behavior of a negative timeout isn't documented, but\u001b[39;00m\n\u001b[1;32m   1099\u001b[0m     \u001b[38;5;66;03m# historically .join(timeout=x) for x<0 has acted as if timeout=0\u001b[39;00m\n\u001b[1;32m   1100\u001b[0m     \u001b[38;5;28mself\u001b[39m\u001b[38;5;241m.\u001b[39m_wait_for_tstate_lock(timeout\u001b[38;5;241m=\u001b[39m\u001b[38;5;28mmax\u001b[39m(timeout, \u001b[38;5;241m0\u001b[39m))\n",
      "File \u001b[0;32m~/miniconda3/envs/M/lib/python3.10/threading.py:1116\u001b[0m, in \u001b[0;36mThread._wait_for_tstate_lock\u001b[0;34m(self, block, timeout)\u001b[0m\n\u001b[1;32m   1113\u001b[0m     \u001b[38;5;28;01mreturn\u001b[39;00m\n\u001b[1;32m   1115\u001b[0m \u001b[38;5;28;01mtry\u001b[39;00m:\n\u001b[0;32m-> 1116\u001b[0m     \u001b[38;5;28;01mif\u001b[39;00m \u001b[43mlock\u001b[49m\u001b[38;5;241;43m.\u001b[39;49m\u001b[43macquire\u001b[49m\u001b[43m(\u001b[49m\u001b[43mblock\u001b[49m\u001b[43m,\u001b[49m\u001b[43m \u001b[49m\u001b[43mtimeout\u001b[49m\u001b[43m)\u001b[49m:\n\u001b[1;32m   1117\u001b[0m         lock\u001b[38;5;241m.\u001b[39mrelease()\n\u001b[1;32m   1118\u001b[0m         \u001b[38;5;28mself\u001b[39m\u001b[38;5;241m.\u001b[39m_stop()\n",
      "\u001b[0;31mKeyboardInterrupt\u001b[0m: "
     ]
    }
   ],
   "source": [
    "def main():\n",
    "    create_SMILES_metadata()\n",
    "\n",
    "if __name__ == \"__main__\":\n",
    "    main()"
   ]
  },
  {
   "cell_type": "code",
   "execution_count": null,
   "metadata": {},
   "outputs": [],
   "source": []
  }
 ],
 "metadata": {
  "kernelspec": {
   "display_name": "M",
   "language": "python",
   "name": "python3"
  },
  "language_info": {
   "codemirror_mode": {
    "name": "ipython",
    "version": 3
   },
   "file_extension": ".py",
   "mimetype": "text/x-python",
   "name": "python",
   "nbconvert_exporter": "python",
   "pygments_lexer": "ipython3",
   "version": "3.10.13"
  }
 },
 "nbformat": 4,
 "nbformat_minor": 2
}
