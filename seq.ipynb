{
 "cells": [
  {
   "cell_type": "code",
   "execution_count": 17,
   "metadata": {},
   "outputs": [
    {
     "name": "stderr",
     "output_type": "stream",
     "text": [
      "Getting protein lengths:   0%|          | 0/20504 [00:00<?, ?it/s]"
     ]
    },
    {
     "name": "stdout",
     "output_type": "stream",
     "text": [
      "Protein Q9BVA6 has M M L I P M A S V M A V T E P K W V S V W S R F L W V T L L S M V L G S L L A L L L P L G A V E E Q C L A V L K G L Y L L R S K P D R A Q H A A T K C T S P S T E L S I T S R G A T L L V A K T K A S P A G K L E A R A A L N Q A L E M K R Q G K R E K A Q K L F M H A L K M D P D F V D A L T E F G I F S E E D K D I I Q A D Y L Y T R A L T I S P Y H E K A L V N R D R T L P L V E E I D Q R Y F S I I D S K V K K V M S I P K G N S A L R R V M E E T Y Y H H I Y H T V A I E G N T L T L S E I R H I L E T R Y A V P G K  sub-proteins\n"
     ]
    },
    {
     "name": "stderr",
     "output_type": "stream",
     "text": [
      "Getting protein lengths:   0%|          | 2/20504 [00:00<46:09,  7.40it/s]"
     ]
    },
    {
     "name": "stdout",
     "output_type": "stream",
     "text": [
      "Protein P06213 has M A T G G R R G A A A A P L L V A V A A L L L G A A G H L Y P G E V C P G M D I R N N L T R L H E L E N C S V I E G H L Q I L L M F K T R P E D F R D L S F P K L I M I T D Y L L L F R V Y G L E S L K D L F P N L T V I R G S R L F F N Y A L V I F E M V H L K E L G L Y N L M N I T R G S V R I E K N N E L C Y L A T I D W S R I L D S V E D N Y I V L N K D D N E E C G D I C P G T A K G K T N C P A T V I N G Q F V E R C W T H S H C Q K V C P T I C K S H G C T A E G L C C H S E C L G N C S Q P D D P T K C V A C R  sub-proteins\n"
     ]
    },
    {
     "name": "stderr",
     "output_type": "stream",
     "text": [
      "Getting protein lengths:   0%|          | 6/20504 [00:00<38:14,  8.93it/s]  "
     ]
    },
    {
     "name": "stdout",
     "output_type": "stream",
     "text": [
      "Protein Q5VTE6 has M E A W R C V R K G Y G H C V V G R G R Y P M F P H H S R S L G R D W T T P W E N L Q R C C W N R H I S S C M R W P G H Y S R A P Y P Y F S S R H F S L N W R P P C L F E S R T Q F Q Y C N W R P D N L S Q T S L I H L S S Y V M N A E G D E P S S K R R K H Q G V I K R N W E Y I C S H D K E K T K I L G D K N V D P K C E D S E N K F D F S V M S Y N I L S Q D L L E D N S H L Y R H C R R P V L H W S F R F P N I L K E I K H F D A D V L C L Q E V Q E D H Y G A E I R P S L E S L G Y H C E Y K M R T G R K P D G C A I  sub-proteins\n",
      "Protein A0A0B4J2D5 has M A A V R A L V A S R L A A A S A F T S L S P G G R T P S Q R A A L H L S V P R P A A R V A L V L S G C G V Y D G T E I H E A S A I L V H L S R G G A E V Q I F A P D V P Q M H V I D H T K G Q P S E G E S R N V L T E S A R I A R G K I T D L A N L S A A N H D A A I F P G G F G A A K N L S T F A V D G K D C K V N K E V E R V L K E F H Q A G K P I G L C C I A P V L A A K V L R G V E V T V G H E Q E E G G K W P Y A G T A E A I K A L G A K H C V K E V V E A H V D Q K N K V V T T P A F M C E T A L H Y I H D G I G  sub-proteins\n",
      "Protein Q01453 has M L L L L L S I I V L H V A V L V L L F V S T I V S Q W I V G N G H A T D L W Q N C S T S S S G N V H H C F S S S P N E W L Q S V Q A T M I L S I I F S I L S L F L F F C Q L F T L T K G G R F Y I T G I F Q I L A G L C V M S A A A I Y T V R H P E W H L N S D Y S Y G F A Y I L A W V A F P L A L L S G V I Y V I L R K R E                                                                                                                                                                                                  sub-proteins\n",
      "Protein Q15208 has M A M T G S T P C S S M S N H T K E R V T M T K V T L E N F Y S N L I A Q H E E R E M R Q K K L E K V M E E E G L K D E E K R L R R S A H A R K E T E F L R L K R T R L G L E D F E S L K V I G R G A F G E V R L V Q K K D T G H V Y A M K I L R K A D M L E K E Q V G H I R A E R D I L V E A D S L W V V K M F Y S F Q D K L N L Y L I M E F L P G G D M M T L L M K K D T L T E E E T Q F Y I A E T V L A I D S I H Q L G F I H R D I K P D N L L L D S K G H V K L S D F G L C T G L K K A H R T E F Y R N L N H S L P S D  sub-proteins\n",
      "Protein Q96LL4 has M A I C P E L A Q T D K S A L A N L S D E T E T L K N S T D E V Q T S S S F S S S G G R Q S S P L T S G S K L E R E K Q T P S L E Q G D T Q S E L L D Y K N Y E K K L S K K W I N Y L K L K D S N F E R H Q P D T K L P T E I T R V S D E E L N A L Q S Y C T M K I N L I H R R G D S K K K T S S R H K K L H L G L D V E A S E R D A F S C T V P D E L L N R I Y F K N M R T T P K Q E A A A K Q H I S Y Q C P Y C N R K R A E L A L S A F L K Q K K T L L E S F L L Q E R I D E H L H T K D F L T R I G E A H Q D F P R L S D  sub-proteins\n",
      "Protein Q9BW72 has M A T P G P V I P E V P F E P S K P P V I E G L S P T V Y R N P E S F K E K F V R K T R E N P V V P I G C L A T A A A L T Y G L Y S F H R G N S Q R S Q L M M R T R I A A Q G F T V A A I L L G L A V T A M K S R P                                                                                                                                                                                                                                                                                                              sub-proteins\n"
     ]
    },
    {
     "name": "stderr",
     "output_type": "stream",
     "text": [
      "Getting protein lengths:   0%|          | 11/20504 [00:01<33:15, 10.27it/s]"
     ]
    },
    {
     "name": "stdout",
     "output_type": "stream",
     "text": [
      "Protein Q99952 has M S R S L D S A R S F L E R L E A R G G R E G A V L A G E F S D I Q A C S A A W K A D G V C S T V A G S R P E N V R K N R Y K D V L P Y D Q T R V I L S L L Q E E G H S D Y I N G N F I R G V D G S L A Y I A T Q G P L P H T L L D F W R L V W E F G V K V I L M A C R E I E N G R K R C E R Y W A Q E Q E P L Q T G L F C I T L I K E K W L N E D I M L R T L K V T F Q K E S R S V Y Q L Q Y M S W P D R G V P S S P D H M L A M V E E A R R L Q G S G P E P L C V H C S A G C G R T G V L C T V D Y V R Q L L L T Q M I P P  sub-proteins\n",
      "Protein Q13451 has M T T D E G A K N N E E S P T A T V A E Q G E D I T S K K D R G V L K I V K R V G N G E E T P M I G D K V Y V H Y K G K L S N G K K F D S S H D R N E P F V F S L G K G Q V I K A W D I G V A T M K K G E I C H L L C K P E Y A Y G S A G S L P K I P S N A T L F F E I E L L D F K G E D L F E D G G I I R R T K R K G E G Y S N P N E G A T V E I H L E G R C G G R M F D C R D V A F T V G E G E D H D I P I G I D K A L E K M Q R E E Q C I L Y L G P R Y G F G E A G K P K F G I E P N A E L I Y E V T L K S F E K A K E S  sub-proteins\n",
      "Protein Q6UX46 has M R G P G H P L L L G L L L V L G A A G R G R G G A E P R E P A D G Q A L L R L V V E L V Q E L R K H H S A E H K G L Q L L G R D C A L G R A E A A G L G P S P E Q R V E I V P R D L R M K D K F L K H L T G P L Y F S P K C S K H F H R L Y H N T R D C T I P A Y Y K R C A R L L T R L A V S P V C M E D K Q                                                                                                                                                                                                                  sub-proteins\n",
      "Protein A0A286YFG1 has M G C C G C G G C G G G C G G C S G G C G G G C G G G C G G G G C G G G C G S C T T C R C Y R V G C C S S C C P C C R G C C G G C C S T P V I C C C R R T C S S C G C G Y G K G C C Q Q K G C C Q Q K C C C Q K Q C C C                                                                                                                                                                                                                                                                                                          sub-proteins\n",
      "Protein P82673 has M A A A A L P A W L S L Q S R A R T L R A F S T A V Y S A T P V P T P S L P E R T P G N E R P P R R K A L P P R T E K M A V D Q D W P S V Y P V A A P F K P S A V P L P V R M G Y P V K K G V P M A K E G N L E L L K I P N F L H L T P V A I K K H C E A L K D F C T E W P A A L D S D E K C E K H F P I E I D S T D Y V S S G P S V R N P R A R V V V L R V K L S S L N L D D H A K K K L I K L V G E R Y C K T T D V L T I K T D R C P L R R Q N Y D Y A V Y L L T V L Y H E S W N T E E W E K S K T E A D M E E Y I W E N S  sub-proteins\n"
     ]
    },
    {
     "name": "stderr",
     "output_type": "stream",
     "text": [
      "Getting protein lengths:   0%|          | 14/20504 [00:01<27:02, 12.63it/s]"
     ]
    },
    {
     "name": "stdout",
     "output_type": "stream",
     "text": [
      "Protein P0CG31 has M E T D L A E M P E K G V L S S Q D S P H F Q E K S T E E G E V A A L R L T A R S Q A A A A A A A P G S R S L R G V H V P P P L H P A P A R E E I K S T C S L K A C F S L S L T L T Y Y R T A F L L S T E N E G N L H F Q C P S D V E T R P Q S K D S T S V Q D F S K A E S C K V A I I D R L T R N S V Y D S N L E A A L E C E N W L E K Q Q G N Q E R H L R E M F T H M N S L S E E T D H E H D V Y W K S F N Q K S V L I T E D R V P K G S Y A F H T L E K S L K Q K S N L M K K Q R T Y K E K K P H K C N D C G E L F T C H  sub-proteins\n"
     ]
    },
    {
     "name": "stderr",
     "output_type": "stream",
     "text": [
      "Getting protein lengths:   0%|          | 16/20504 [00:01<41:21,  8.26it/s]"
     ]
    },
    {
     "name": "stdout",
     "output_type": "stream",
     "text": [
      "Protein Q9H0G5 has M A I P G R Q Y G L I L P K K T Q Q L H P V L Q K P S V F G N D S D D D D E T S V S E S L Q R E A A K K Q A M K Q T K L E I Q K A L A E D A T V Y E Y D S I Y D E M Q K K K E E N N P K L L L G K D R K P K Y I H N L L K A V E I R K K E Q E K R M E K K I Q R E R E M E K G E F D D K E A F V T S A Y K K K L Q E R A E E E E R E K R A A A L E A C L D V T K Q K D L S G F Y R H L L N Q A V G E E E V P K C S F R E A R S G I K E E K S R G F S N E V S S K N R I P Q E K C I L Q T D V K V E E N P D A D S D F D A K S S A  sub-proteins\n",
      "Protein Q9UHC9 has M A E A G L R G W L L W A L L L R L A Q S E P Y T T I H Q P G Y C A F Y D E C G K N P E L S G S L M T L S N V S C L S N T P A R K I T G D H L I L L Q K I C P R L Y T G P N T Q A C C S A K Q L V S L E A S L S I T K A L L T R C P A C S D N F V N L H C H N T C S P N Q S L F I N V T R V A Q L G A G Q L P A V V A Y E A F Y Q H S F A E Q S Y D S C S R V R V P A A A T L A V G T M C G V Y G S A L C N A Q R W L N F Q G D T G N G L A P L D I T F H L L E P G Q A V G S G I Q P L N E G V A R C N E S Q G D D V A T C S C  sub-proteins\n",
      "Protein Q8NCL8 has M K H T Q S G Q S T S P L V I D Y T C R V C Q M A F V F S S L I P L L L M T P V F C L G N T S E C F Q N F S Q S H K C I L M H S P P S A M A E L P P S A N T S V C S T L Y F Y G I A I F L G S F V L S L L T I M V L L I R A Q T L Y K K F V K S T G F L G S E Q W A V I H I V D Q R V R F Y P V A F F C C W G P A V I L M I I K L T K P Q D T K L H M A L Y V L Q A L T A T S Q G L L N C G V Y G W T Q H K F H Q L K Q E A R R D A D T Q T P L L C S Q K R F Y S R G L N S L E S T L T F P A S T S T I F                        sub-proteins\n"
     ]
    },
    {
     "name": "stderr",
     "output_type": "stream",
     "text": [
      "Getting protein lengths:   0%|          | 20/20504 [00:02<36:38,  9.32it/s]"
     ]
    },
    {
     "name": "stdout",
     "output_type": "stream",
     "text": [
      "Protein O15533 has M K S L S L L L A V A L G L A T A V S A G P A V I E C W F V E D A S G K G L A K R P G A L L L R Q G P G E P P P R P D L D P E L Y L S V H D P A G A L Q A A F R R Y P R G A P A P H C E M S R F V P L P A S A K W A S G L T P A Q N C P R A L D G A W L M V S I S S P V L S L S S L L R P Q P E P Q Q E P V L I T M A T V V L T V L T H T P A P R V R L G Q D A L L D L S F A Y M P P T S E A A S S L A P G P P P F G L E W R R Q H L G K G H L L L A A T P G L N G Q M P A A Q E G A V A F A A W D D D E P W G P W T G N G T F  sub-proteins\n",
      "Protein Q6UWW8 has M E R A V R V E S G V L V G V V C L L L A C P A T A T G P E V A Q P E V D T T L G R V R G R Q V G V K G T D R L V N V F L G I P F A Q P P L G P D R F S A P H P A Q P W E G V R D A S T A P P M C L Q D V E S M N S S R F V L N G K Q Q I F S V S E D C L V L N V Y S P A E V P A G S G R P V M V W V H G G A L I T G A A T S Y D G S A L A A Y G D V V V V T V Q Y R L G V L G F F S T G D E H A P G N Q G F L D V V A A L R W V Q E N I A P F G G D L N C V T V F G G S A G G S I I S G L V L S P V A A G L F H R A I T Q S G  sub-proteins\n",
      "Protein P0C866 has M L L S W G G G E S R R P V Q E A S S A T D T D T N S Q E D P A D T A S V R S L S L S A G H T K H I A F L F D S T L T A F L M M G N L S P V Q S T G E R E A Q R Y F E H A L T L R N T T L F L R H N K D L V V Q T A Q P D Q P N Y G F P L D L L R C E S L L G L D P A T G S R V L N K N Y T L L V S M A P L T N E I R P V S S C T P Q H I G P A I P E V S S V W F K Q Y I Y V Y H I T G Q G P P S L L L S K G T R P R K L P D I F Q S Y D R L L I T S W G H D P G V V P T S N V L T M L N D A L T H S A V L I Q E H G L H G I G  sub-proteins\n",
      "Protein P51116 has M G G L A S G G D V E P G L P V E V R G S N G A F Y K G F V K D V H E D S V T I F F E N N W Q S E R Q I P F G D V R L P P P A D Y N K E I T E G D E V E V Y S R A N E Q E P C G W W L A R V R M M K G D F Y V I E Y A A C D A T Y N E I V T L E R L R P V N P N P L A T K G S F F K V T M A V P E D L R E A C S N E N V H K E F K K A L G A N C I F L N I T N S E L F I L S T T E A P V K R A S L L G D M H F R S L R T K L L L M S R N E E A T K H L E T S K Q L A A A F Q E E F T V R E D L M G L A I G T H G A N I Q Q A R K  sub-proteins\n"
     ]
    },
    {
     "name": "stderr",
     "output_type": "stream",
     "text": [
      "Getting protein lengths:   0%|          | 25/20504 [00:02<35:07,  9.72it/s]"
     ]
    },
    {
     "name": "stdout",
     "output_type": "stream",
     "text": [
      "Protein Q86UY5 has M S R S R H L G K I R K R L E D V K S Q W V R P A R A D F S D N E S A R L A T D A L L D G G S E A Y W R V L S Q E G E V D F L S S V E A Q Y I Q A Q A R E P P C P P D T L G G A E A G P K G L D S S S L Q S G T Y F P V A S E G S E P A L L H S W A S A E K P Y L K E K S S A T V Y F Q T V K H N N I R D L V R R C I T R T S Q V L V I L M D V F T D V E I F C D I L E A A N K R G V F V C V L L D Q G G V K L F Q E M C D K V Q I S D S H L K N I S I R S V E G E I Y C A K S G R K F A G Q I R E K F I I S D W R F V L S G S  sub-proteins\n",
      "Protein Q2I0M5 has M R A P L C L L L L V A H A V D M L A L N R R K K Q V G T G L G G N C T G C I I C S E E N G C S T C Q Q R L F L F I R R E G I R Q Y G K C L H D C P P G Y F G I R G Q E V N R C K K C G A T C E S C F S Q D F C I R C K R Q F Y L Y K G K C L P T C P P G T L A H Q N T R E C Q G E C E L G P W G G W S P C T H N G K T C G S A W G L E S R V R E A G R A G H E E A A T C Q V L S E S R K C P I Q R P C P G E R S P G Q K K G R K D R R P R K D R K L D R R L D V R P R Q P G L Q P                                              sub-proteins\n",
      "Protein Q9UI15 has M A N R G P S Y G L S R E V Q E K I E Q K Y D A D L E N K L V D W I I L Q C A E D I E H P P P G R A H F Q K W L M D G T V L C K L I N S L Y P P G Q E P I P K I S E S K M A F K Q M E Q I S Q F L K A A E T Y G V R T T D I F Q T V D L W E G K D M A A V Q R T L M A L G S V A V T K D D G C Y R G E P S W F H R K A Q Q N R R G F S E E Q L R Q G Q N V I G L Q M G S N K G A S Q A G M T G Y G M P R Q I M                                                                                                                    sub-proteins\n",
      "Protein P03952 has M I L F K Q A T Y F I S L F A T V S C G C L T Q L Y E N A F F R G G D V A S M Y T P N A Q Y C Q M R C T F H P R C L L F S F L P A S S I N D M E K R F G C F L K D S V T G T L P K V H R T G A V S G H S L K Q C G H Q I S A C H R D I Y K G V D M R G V N F N V S K V S S V E E C Q K R C T N N I R C Q F F S Y A T Q T F H K A E Y R N N C L L K Y S P G G T P T A I K V L S N V E S G F S L K P C A L S E I G C H M N I F Q H L A F S D V D V A R V L T P D A F V C R T I C T Y H P N C L F F T F Y T N V W K I E S Q R N V C  sub-proteins\n",
      "Protein Q8NGI6 has M E M E N C T R V K E F I F L G L T Q N R E V S L V L F L F L L L V Y V T T L L G N L L I M V T V T C E S R L H T P M Y F L L H N L S I A D I C F S S I T V P K V L V D L L S E R K T I S F N H C F T Q M F L F H L I G G V D V F S L S V M A L D R Y V A I S K P L H Y A T I M S R D H C I G L T V A A W L G G F V H S I V Q I S L L L P L P F C G P N V L D T F Y C D V H R V L K L A H T D I F I L E L L M I S N N G L L T T L W F F L L L V S Y I V I L S L P K S Q A G E G R R K A I S T C T S H I T V V T L H F V P C I Y  sub-proteins\n"
     ]
    },
    {
     "name": "stderr",
     "output_type": "stream",
     "text": [
      "Getting protein lengths:   0%|          | 31/20504 [00:03<26:17, 12.98it/s]"
     ]
    },
    {
     "name": "stdout",
     "output_type": "stream",
     "text": [
      "Protein Q9H1E5 has M A G G R C G P Q L T A L L A A W I A A V A A T A G P E E A A L P P E Q S R V Q P M T A S N W T L V M E G E W M L K F Y A P W C P S C Q Q T D S E W E A F A K N G E I L Q I S V G K V D V I Q E P G L S G R F F V T T L P A F F H A K D G I F R R Y R G P G I F E D L Q N Y I L E K K W Q S V E P L T G W K S P A S L T M S G M A G L F S I S G K I W H L H N Y F T V T L G I P A W C S Y V F F V I A T L V F G L F M G L V L V V I S E C F Y V P L P R H L S E R S E Q N R R S E E A H R A E Q L Q D A E E E K D D S N E E E N  sub-proteins\n",
      "Protein Q9H6Z9 has M P L G H I M R L D L E K I A L E Y I V P C L H E V G F C Y L D N F L G E V V G D C V L E R V K Q L H C T G A L R D G Q L A G P R A G V S K R H L R G D Q I T W I G G N E E G C E A I S F L L S L I D R L V L Y C G S R L G K Y Y V K E R S K A M V A C Y P G N G T G Y V R H V D N P N G D G R C I T C I Y Y L N K N W D A K L H G G I L R I F P E G K S F I A D V E P I F D R L L F F W S D R R N P H E V Q P S Y A T R Y A M T V W Y F D A E E R A E A K K K F R N L T R K T E S A L T E D                                    sub-proteins\n",
      "Protein Q8NH37 has M D I P Q N I T E F F M L G L S Q N S E V Q R V L F V V F L L I Y V V T V C G N M L I V V T I T S S P T L A S P V Y F F L A N L S F I D T F Y S S S M A P K L I A D S L Y E G R T I S Y E C C M A Q L F G A H F L G G V E I I L L T V M A Y D R Y V A I C K P L H N T T I M T R H L C A M L V G V A W L G G F L H S L V Q L L L V L W L P F C G P N V I N H F A C D L Y P L L E V A C T N T Y V I G L L V V A N S G L I C L L N F L M L A A S Y I V I L Y S L R S H S A D G R C K A L S T C G A H F I V V A L F F V P C I F T Y  sub-proteins\n",
      "Protein P40305 has M E A S A L T S S A V T S V A K V V R V A S G S A V V L P L A R I A T V V I G G V V A M A A V P M V L S A M G F T A A G I A S S S I A A K M M S A A A I A N G G G V A S G S L V A T L Q S L G A T G L S G L T K F I L G S I G S A I A A V I A R F Y                                                                                                                                                                                                                                                                              sub-proteins\n",
      "Protein A6NGE7 has M D I E K V N S M D L G E F V D V F G N A T E R C P L I A A A V W S Q R P F S D L E D L E K H F F A F I D A L A Q S G Q E G I L R C H P D L A G S E L Q R G T L T A E S Q R E Q S G A G L R S L G A D E R L R L A E L N A Q Y R A R F G F P F V L A A R F S D R T A V P R E L A R R L L C P S A Q E L R T A L G E V K K I G S L R L A D L L R A D P A K L                                                                                                                                                                        sub-proteins\n"
     ]
    },
    {
     "name": "stderr",
     "output_type": "stream",
     "text": [
      "Getting protein lengths:   0%|          | 33/20504 [00:03<41:43,  8.18it/s]"
     ]
    },
    {
     "name": "stdout",
     "output_type": "stream",
     "text": [
      "Protein Q8IZH2 has M G V P K F Y R W I S E R Y P C L S E V V K E H Q I P E F D N L Y L D M N G I I H Q C S H P N D D D V H F R I S D D K I F T D I F H Y L E V L F R I I K P R K V F F M A V D G V A P R A K M N Q Q R G R R F R S A K E A E D K I K K A I E K G E T L P T E A R F D S N C I T P G T E F M A R L H E H L K Y F V N M K I S T D K S W Q G V T I Y F S G H E T P G E G E H K I M E F I R S E K A K P D H D P N T R H C L Y G L D A D L I M L G L T S H E A H F S L L R E E V R F G G K K T Q R V C A P E E T T F H L L H L S L M R E  sub-proteins\n",
      "Protein Q96LU7 has M D V V G E N E A L Q Q F F E A Q G A N G T L E N P A L D T S L L E E F L G N D F D L G A L Q R Q L P D T P P Y S A S D S C S P P Q V K G A C Y P T L R P T A G R T P A P F L H P T A A P A M P P M H P L Q S T S G M G D S C Q I H G G F H S C H S N A S H L A T P L D Q S V S S H L G I G C S Y P Q Q P L C H S P G A S L P P T K K R K C T Q A L E D S G E C R V W A C H C R P M T S R S R S S E V Q D P D S E G Q N R M P T D Q C S P A L K W Q P C H S V P W H S L L N S H Y E K L P D V G Y R V V T D K G F N F S P A D E  sub-proteins\n",
      "Protein Q9BZW8 has M L G Q V V T L I L L L L L K V Y Q G K G C Q G S A D H V V S I S G V P L Q L Q P N S I Q T K V D S I A W K K L L P S Q N G F H H I L K W E N G S L P S N T S N D R F S F I V K N L S L L I K A A Q Q Q D S G L Y C L E V T S I S G K V Q T A T F Q V F V F E S L L P D K V E K P R L Q G Q G K I L D R G R C Q V A L S C L V S R D G N V S Y A W Y R G S K L I Q T A G N L T Y L D E E V D I N G T H T Y T C N V S N P V S W E S H T L N L T Q D C Q N A H Q E F R F W P F L V I I V I L S A L F L G T L A C F C V W R R K R K  sub-proteins\n"
     ]
    },
    {
     "name": "stderr",
     "output_type": "stream",
     "text": [
      "Getting protein lengths:   0%|          | 35/20504 [00:04<47:17,  7.21it/s]"
     ]
    },
    {
     "name": "stdout",
     "output_type": "stream",
     "text": [
      "Protein Q8N2M8 has M W H E A R K H E R K L R G M M V D Y K K R A E R R R E Y Y E K I K K D P A Q F L Q V H G R A C K V H L D S A V A L A A E S P V N M M P W Q G D T N N M I D R F D V R A H L D H I P D Y T P P L L T T I S P E Q E S D E R K C N Y E R Y R G L V Q N D F A G I S E E Q C L Y Q I Y I D E L Y G G L Q R P S E D E K K K L A E K K A S I G Y T Y E D S T V A K V E K A A E K P E E E E S A A E E E S N S D E D E V I P D I D V E V D V D E L N Q E Q V A D L N K Q A T T Y G M A D G D F V R M L R K D K E E A E A I K H A K A L E  sub-proteins\n"
     ]
    },
    {
     "name": "stderr",
     "output_type": "stream",
     "text": [
      "Getting protein lengths:   0%|          | 39/20504 [00:04<42:35,  8.01it/s]"
     ]
    },
    {
     "name": "stdout",
     "output_type": "stream",
     "text": [
      "Protein O75122 has M A M G D D K S F D D E E S V D G N R P S S A A S A F K V P A P K T S G N P A N S A R K P G S A G G P K V G G A S K E G G A G A V D E D D F I K A F T D V P S I Q I Y S S R E L E E T L N K I R E I L S D D K H D W D Q R A N A L K K I R S L L V A G A A Q Y D C F F Q H L R L L D G A L K L S A K D L R S Q V V R E A C I T V A H L S T V L G N K F D H G A E A I V P T L F N L V P N S A K V M A T S G C A A I R F I I R H T H V P R L I P L I T S N C T S K S V P V R R R S F E F L D L L L Q E W Q T H S L E R H A A V L V  sub-proteins\n",
      "Protein P35227 has M H R T T R I K I T E L N P H L M C A L C G G Y F I D A T T I V E C L H S F C K T C I V R Y L E T N K Y C P M C D V Q V H K T R P L L S I R S D K T L Q D I V Y K L V P G L F K D E M K R R R D F Y A A Y P L T E V P N G S N E D R G E V L E Q E K G A L S D D E I V S L S I E F Y E G A R D R D E K K G P L E N G D G D K E K T G V R F L R C P A A M T V M H L A K F L R N K M D V P S K Y K V E V L Y E D E P L K E Y Y T L M D I A Y I Y P W R R N G P L P L K Y R V Q P A C K R L T L A T V P T P S E G T N T S G A S E C  sub-proteins\n",
      "Protein P02689 has M S N K F L G T W K L V S S E N F D D Y M K A L G V G L A T R K L G N L A K P T V I I S K K G D I I T I R T E S T F K N T E I S F K L G Q E F E E T T A D N R K T K S I V T L Q R G S L N Q V Q R W D G K E T T I K R K L V N G K M V A E C K M K G V V C T R I Y E K V                                                                                                                                                                                                                                                          sub-proteins\n",
      "Protein O15457 has M L R P E I S S T S P S A P A V S P S S G E T R S P Q G P R Y N F G L Q E T P Q S R P S V Q V V S A S T C P G T S G A A G D R S S S S S S L P C P A P N S R P A Q G S Y F G N K R A Y A E N T V A S N F T F G A S S S S A R D T N Y P Q T L K T P L S T G N P Q R S G Y K S W T P Q V G Y S A S S S S A I S A H S P S V I V A V V E G R G L A R G E I G M A S I D L K N P Q I I L S Q F A D N T T Y A K V I T K L K I L S P L E I I M S N T A C A V G N S T K L F T L I T E N F K N V N F T T I Q R K Y F N E T K G L E Y I E Q  sub-proteins\n",
      "Protein Q8N104 has M R T F L F L F A V L F F L T P A K N A F F D E K C N K L K G T C K N N C G K N E E L I A L C Q K S L K C C R T I Q P C G S I I D                                                                                                                                                                                                                                                                                                                                                                                                sub-proteins\n",
      "Protein Q13838 has M A E N D V D N E L L D Y E D D E V E T A A G G D G A E A P A K K D V K G S Y V S I H S S G F R D F L L K P E L L R A I V D C G F E H P S E V Q H E C I P Q A I L G M D V L C Q A K S G M G K T A V F V L A T L Q Q L E P V T G Q V S V L V M C H T R E L A F Q I S K E Y E R F S K Y M P N V K V A V F F G G L S I K K D E E V L K K N C P H I V V G T P G R I L A L A R N K S L N L K H I K H F I L D E C D K M L E Q L D M R R D V Q E I F R M T P H E K Q V M M F S A T L S K E I R P V C R K F M Q D P M E I F V D D E T K  sub-proteins\n"
     ]
    },
    {
     "name": "stderr",
     "output_type": "stream",
     "text": [
      "Getting protein lengths:   0%|          | 45/20504 [00:05<32:19, 10.55it/s]"
     ]
    },
    {
     "name": "stdout",
     "output_type": "stream",
     "text": [
      "Protein Q6NY19 has M A K F A L N Q N L P D L G G P R L C P V P A A G G A R S P S S P Y S V E T P Y G F H L D L D F L K Y I E E L E R G P A A R R A P G P P T S R R P R A P R P G L A G A R S P G A W T S S E S L A S D D G G A P G I L S Q G A P S G L L M Q P L S P R A P V R N P R V E H T L R E T S R R L E L A Q T H E R A P S P G R G V P R S P R G S G R S S P A P N L A P A S P G P A Q L Q L V R E Q M A A A L R R L R E L E D Q A R T L P E L Q E Q V R A L R A E K A R L L A G R A Q P E P D G E A E T R P D K L A Q L R R L T E R L A T  sub-proteins\n",
      "Protein Q9BUK0 has M P S V T Q R L R D P D I N P C L S E S D A S T R C L D E N N Y D R E R C S T Y F L R Y K N C R R F W N S I V M Q R R K N G V K P F M P T A A E R D E I L R A V G N M P Y                                                                                                                                                                                                                                                                                                                                                        sub-proteins\n",
      "Protein Q8NGY0 has M V L N V Y C C F F Q I S D I Q T M K I N Q T I L K E F I L V G F S V Y P H V Q T F L F V V F F C L Y L L T L A G N L I I M G L T W V D R S L H T P M Y L F L S A L S F S E T C Y T L T I V P K M L E D L L A K D R S I S V T G C S L Q M C F F L G L G G T N C I I L T L M G Y D R F L A I C N P L R Y P L L M T N I V C G Q L V A S A C T A G F F I S L T E T A L I F R D S F C R P N L V K H F F C H M L A V I R L S C I D S N H T E F I I T L I S V S G L L G T L L L I I L T D V F I I S T V L R I P S A E G K Q K A F T T  sub-proteins\n",
      "Protein O75489 has M A A A A V A R L W W R G I L G A S A L T R G T G R P S V L L L P V R R E S A G A D T R P T V R P R N D V A H K Q L S A F G E Y V A E I L P K Y V Q Q V Q V S C F N E L E V C I H P D G V I P V L T F L R D H T N A Q F K S L V D L T A V D V P T R Q N R F E I V Y N L L S L R F N S R I R V K T Y T D E L T P I E S A V S V F K A A N W Y E R E I W D M F G V F F A N H P D L R R I L T D Y G F E G H P F R K D F P L S G Y V E L R Y D D E V K R V V A E P V E L A Q E F R K F D L N S P W E A F P V Y R Q P P E S L K L E A  sub-proteins\n",
      "Protein O60279 has M T A E G P S P P A R W H R R L P G L W A A A L L L L G L P R L S V R A D G K F F V L E S Q N G S Q G L Q L E A A R L S C K S R G A H L A S A D E L R R V V Q D C S F A V C T T G W L A D G T L G T T V C S K G S G E Q Q I M R A V D V R I E S N P V P G G T Y S A L C I K D E E K P C G D P P S F P H T I L Q G R T G L E M G D E L L Y V C A P G H I M G H R E T A F T L L C N S C G E W Y G L V Q A C G K D E A E A H I D Y E D N F P D D R S V S F R E L M E D S R T E A D E D R G Q G D S S E E A P K Q D R L V S I S V G  sub-proteins\n"
     ]
    },
    {
     "name": "stderr",
     "output_type": "stream",
     "text": [
      "Getting protein lengths:   0%|          | 49/20504 [00:05<32:45, 10.41it/s]"
     ]
    },
    {
     "name": "stdout",
     "output_type": "stream",
     "text": [
      "Protein Q9BV36 has M G K K L D L S K L T D E E A Q H V L E V V Q R D F D L R R K E E E R L E A L K G K I K K E S S K R E L L S D T A H L N E T H C A R C L Q P Y Q L L V N S K R Q C L E C G L F T C K S C G R V H P E E Q G W I C D P C H L A R V V K I G S L E W Y Y E H V K A R F K R F G S A K V I R S L H G R L Q G G A G P E L I S E E R S G D S D Q T D E D G E P G S E A Q A Q A Q P F G S K K K R L L S V H D F D F E G D S D D S T Q P Q G H S L H L S S V P E A R D S P Q S L T D E S C S E K A A P H K A E G L E E A D T G A S G C H S  sub-proteins\n",
      "Protein P27701 has M G S A C I K V T K Y F L F L F N L I F F I L G A V I L G F G V W I L A D K S S F I S V L Q T S S S S L R M G A Y V F I G V G A V T M L M G F L G C I G A V N E V R C L L G L Y F A F L L L I L I A Q V T A G A L F Y F N M G K L K Q E M G G I V T E L I R D Y N S S R E D S L Q D A W D Y V Q A Q V K C C G W V S F Y N W T D N A E L M N R P E V T Y P C S C E V K G E E D N S L S V R K G F C E A P G N R T Q S G N H P E D W P V Y Q E G C M E K V Q A W L Q E N L G I I L G V G V G V A I I E L L G M V L S I C L C R H V  sub-proteins\n",
      "Protein Q7LGC8 has M E K G L T L P Q D C R D F V H S L K M R S K Y A L F L V F V V I V F V F I E K E N K I I S R V S D K L K Q I P Q A L A D A N S T D P A L I L A E N A S L L S L S E L D S A F S Q L Q S R L R N L S L Q L G V E P A M E A A G E E E E E Q R K E E E P P R P A V A G P R R H V L L M A T T R T G S S F V G E F F N Q Q G N I F Y L F E P L W H I E R T V S F E P G G A N A A G S A L V Y R D V L K Q L F L C D L Y V L E H F I T P L P E D H L T Q F M F R R G S S R S L C E D P V C T P F V K K V F E K Y H C K N R R C G P L N  sub-proteins\n",
      "Protein Q6ZRN7 has M S P T K D S H P S P H F P R D S G I H A P T P P D S G A L T L S P P V S Q G P G V G P R T G R G N R L C R P P G R S A A R S F C L L P G P P L G T G A L G S P R A A Q G L G F R G S G Q R A R H N S F T S P S P P G A H H P L G T H T R A L P P P L A R C P C A A L L A G R E C H G G P S P A A P R P L P G T S L T W P S R A P L P R P P P R E R Q G P G D R S P S P S A P S C P G V G A S S P R R R K P R E A A G L T P D G                                                                                                  sub-proteins\n",
      "Protein Q7Z2X4 has M F S L P L S L P L C E D T A F L P S K C C S S H K T I K Q A R T L I M I F L A S G T H F Q T M L K S K L N V L T L K K E P L P A V I F H E P E A I E L C T T T P L M K T R T H S G C K V T Y L G K V S T T G M Q F L S G C T E K P V I E L W K K H T L A R E D V F P A N A L L E I R P F Q V W L H H L D H K G E A T V H M D T F Q V A R I A Y C T A D H N V S P N I F A W V Y R E I N D D L S Y Q M D C H A V E C E S K L E A K K L A H A M M E A F R K T F H S M K S D G R I H S N S S S E E V S Q E L E S D D G              sub-proteins\n"
     ]
    },
    {
     "name": "stderr",
     "output_type": "stream",
     "text": [
      "Getting protein lengths:   0%|          | 52/20504 [00:05<26:40, 12.78it/s]"
     ]
    },
    {
     "name": "stdout",
     "output_type": "stream",
     "text": [
      "Protein P0CB38 has M N V A A K Y R M A S L Y V G D L H A D V T E D L L F R K F S T V G P V L S I R I C R D Q V T R R S L G Y A Y V N F L Q L A D A Q K A L D T M N F D I I K G K S I R L M W S Q R D A Y L R R S G I G N V F I K N L D K S I D N K T L Y E H F S A F G K I L S S K V M S D D Q G S K G Y A F V H F Q N Q S A A D R A I E E M N G K L L K G C K V F V G R F K N R K D R E A E L R S K A S E F T N V Y I K N F G G D M D D E R L K D V F S K Y G K T L S V K V M T D S S G K S K G F G F V S F D S H E A A K K A V E E M N G R D I N  sub-proteins\n"
     ]
    },
    {
     "name": "stderr",
     "output_type": "stream",
     "text": [
      "Getting protein lengths:   0%|          | 57/20504 [00:06<25:27, 13.39it/s]"
     ]
    },
    {
     "name": "stdout",
     "output_type": "stream",
     "text": [
      "Protein Q8WW52 has M V C R E Q L S K N Q V K W V F A G I T C V S V V V I A A I V L A I T L R R P G C E L E A C S P D A D M L D Y L L S L G Q I S R R D A L E V T W Y H A A N S K K A M T A A L N S N I T V L E A D V N V E G L G T A N E T G V P I M A H P P T I Y S D N T L E Q W L D A V L G S S Q K G I K L D F K N I K A V G P S L D L L R Q L T E E G K V R R P I W I N A D I L K G P N M L I S T E V N A T Q F L A L V Q E K Y P K A T L S P G W T T F Y M S T S P N R T Y T Q A M V E K M H E L V G G V P Q R V T F P V R S S M V R A A W P  sub-proteins\n",
      "Protein Q9UPG8 has M T T F F T S V P P W I Q D A K Q E E E V G W K L V P R P R G R E A E S Q V K C Q C E I S G T P F S N G E K L R P H S L P Q P E Q R P Y S C P Q L H C G K A F A S K Y K L Y R H M A T H S A Q K P H Q C M Y C D K M F H R K D H L R N H L Q T H D P N K E A L H C S E C G K N Y N T K L G Y R R H L A M H A A S S G D L S C K V C L Q T F E S T Q A L L E H L K A H S R R V A G G A K E K K H P C D H C D R R F Y T R K D V R R H L V V H T G R K D F L C Q Y C A Q R F G R K D H L T R H V K K S H S Q E L L K I K T E P V D M  sub-proteins\n",
      "Protein Q96BH1 has M A A S A S A A A G E E D W V L P S E V E V L E S I Y L D E L Q V I K G N G R T S P W E I Y I T L H P A T A E D Q D S Q Y V C F T L V L Q V P A E Y P H E V P Q I S I R N P R G L S D E Q I H T I L Q V L G H V A K A G L G T A M L Y E L I E K G K E I L T D N N I P H G Q C V I C L Y G F Q E K E A F T K T P C Y H Y F H C H C L A R Y I Q H M E Q E L K A Q G Q E Q E Q E R Q H A T T K Q K A V G V Q C P V C R E P L V Y D L A S L K A A P E P Q Q P M E L Y Q P S A E S L R Q Q E E R K R L Y Q R Q Q E R G G I I D L E A  sub-proteins\n",
      "Protein H3BN30 has M K K W K S R L F P R P P N W L S G K Y L R L P S S A M F L I D F C L C V P W T T P F Q C K I L M V E F I V G F Y D F C L A L E V Q Y R T S K L F L C G Q P S P R R S L G I Q Q Q A L K L A C L S P T L L E S S S C V D P P G N T A G S R M P S S S N C I K                                                                                                                                                                                                                                                                      sub-proteins\n",
      "Protein Q8IX19 has M E V E E I Y K H Q E V K M Q A P A F R D K K Q G V S A K N Q G A H D P D Y E N I T L A F K N Q D H A K G G H S R P T S Q V P A Q C R P P S D S T Q V P C W L Y R A I L S L Y I L L A L A F V L C I I L S A F I M V K N A E M S K E L L G F K R E L W N V S N S V Q A C E E R Q K R G W D S V Q Q S I T M V R S K I D R L E T T L A G I K N I D T K V Q K I L E V L Q K M P Q S S P Q                                                                                                                                            sub-proteins\n"
     ]
    },
    {
     "name": "stderr",
     "output_type": "stream",
     "text": [
      "Getting protein lengths:   0%|          | 62/20504 [00:06<24:18, 14.01it/s]"
     ]
    },
    {
     "name": "stdout",
     "output_type": "stream",
     "text": [
      "Protein Q6ZRP5 has M R I F R G C T Q P S T L G Q G V H S P L M K A Q F I T H H S R K Q V K P G E G W G R S S F T R A C R D H T T I L S G N R S F S A V A A T P A K H K H M H T R T H T H M H T H T G M H T L T G T H V H T P H T Q M H T R I L T L S H M H T H A H T H A H T H G H T H T R A H S T H A H T H A H S H Y H T R T L T L T H S H A H S C T L T S T I T H M H T H T H M H T H T S T L T R T L T L T H T H M H T F L S L V S H L A G Y I S C Q F I F S S E N P R L C H                                                                    sub-proteins\n",
      "Protein Q4KMZ1 has M E P E L L V R K V S A L Q A C V R G F L V R R Q F Q S L R A E Y E A I V R E V E G D L G T L Q W T E G R I P R P R F L P E K A K S H Q T W K A G D R V A N P E Q G L W N H F P C E E S E G E A T W E E M V L K K S G E S S A N Q G S L C R D H S S W L Q M K Q N R K P S Q E K T R D T T R M E N P E A T D Q R L P H S Q P Q L Q E L Q Y H R S H L A M E L L W L Q Q A I N S R K E Y L L L K Q T L R S P E A G P I R E E P R V F L E H G E Q A C E R D Q S Q P S A P L E D Q S Y R D R T T G E L E Q E D D S C H R V K S P H R  sub-proteins\n",
      "Protein O60894 has M A R A L C R L P R R G L W L L L A H H L F M T T A C Q E A N Y G A L L R E L C L T Q F Q V D M E A V G E T L W C D W G R T I R S Y R E L A D C T W H M A E K L G C F W P N A E V D R F F L A V H G R Y F R S C P I S G R A V R D P P G S I L Y P F I V V P I T V T L L V T A L V V W Q S K R T E G I V                                                                                                                                                                                                                          sub-proteins\n",
      "Protein Q96RI8 has M S S N S S L L V A V Q L C Y A N V N G S C V K I P F S P G S R V I L Y I V F G F G A V L A V F G N L L V M I S I L H F K Q L H S P T N F L V A S L A C A D F L V G V T V M P F S M V R T V E S C W Y F G R S F C T F H T C C D V A F C Y S S L F H L C F I S I D R Y I A V T D P L V Y P T K F T V S V S G I C I S V S W I L P L M Y S G A V F Y T G V Y D D G L E E L S D A L N C I G G C Q T V V N Q N W V L T D F L S F F I P T F I M I I L Y G N I F L V A R R Q A K K I E N T G S K T E S S S E S Y K A R V A R R E R K A  sub-proteins\n",
      "Protein Q86VV4 has M T T I P R K G S S H L P G S L H T C K L K L Q E D R R Q Q E K S V I A Q P I F V F E K G E Q T F K R P A E D T L Y E A A E P E C N G F P T K R V R S S S F T F H I T D S Q S Q G V R K N N V F M T S A L V Q S S V D I K S A E Q G P V K H S K H V I R P A I L Q L P Q A R S C A K V R K T F G H K A L E S C K T K E K T N N K I S E G N S Y L L S E N L S R A R I S V Q L S T N Q D F L G A T S V G C Q P N E D K C S F K S C S S N F V F G E N M V E R V L G T Q K L T Q P Q L E N D S Y A K E K P F K S I P K F P V N F L S  sub-proteins\n"
     ]
    },
    {
     "name": "stderr",
     "output_type": "stream",
     "text": [
      "Getting protein lengths:   0%|          | 66/20504 [00:06<28:19, 12.03it/s]"
     ]
    },
    {
     "name": "stdout",
     "output_type": "stream",
     "text": [
      "Protein Q9UKC9 has M V F S N N D E G L I N K K L P K E L L L R I F S F L D I V T L C R C A Q I S K A W N I L A L D G S N W Q R I D L F N F Q T D V E G R V V E N I S K R C G G F L R K L S L R G C I G V G D S S L K T F A Q N C R N I E H L N L N G C T K I T D S T C Y S L S R F C S K L K H L D L T S C V S I T N S S L K G I S E G C R N L E Y L N L S W C D Q I T K D G I E A L V R G C R G L K A L L L R G C T Q L E D E A L K H I Q N Y C H E L V S L N L Q S C S R I T D E G V V Q I C R G C H R L Q A L C L S G C S N L T D A S L T A L G  sub-proteins\n",
      "Protein Q9P1C3 has M V R P H L L K K K I L G R V W W L M P V V L A L W E A E V G G S L E V R S L R P A W P T W                                                                                                                                                                                                                                                                                                                                                                                                                                      sub-proteins\n",
      "Protein Q96DX4 has M I V F G W A V F L A S R S L G Q G L L L T L E E H I A H F L G T G G A A T T M G N S C I C R D D S G T D D S V D T Q Q Q Q A E N S A V P T A D T R S Q P R D P V R P P R R G R G P H E P R R K K Q N V D G L V L D T L A V I R T L V D N D Q E P P Y S M I T L H E M A E T D E G W L D V V Q S L I R V I P L E D P L G P A V I T L L L D E C P L P T K D A L Q K L T E I L N L N G E V A C Q D S S H P A K H R N T S A V L G C L A E K L A G P A S I G L L S P G I L E Y L L Q C L K L Q S H P T V M L F A L I A L E K F A Q T  sub-proteins\n",
      "Protein Q9Y243 has M S D V T I V K E G W V Q K R G E Y I K N W R P R Y F L L K T D G S F I G Y K E K P Q D V D L P Y P L N N F S V A K C Q L M K T E R P K P N T F I I R C L Q W T T V I E R T F H V D T P E E R E E W T E A I Q A V A D R L Q R Q E E E R M N C S P T S Q I D N I G E E E M D A S T T H H K R K T M N D F D Y L K L L G K G T F G K V I L V R E K A S G K Y Y A M K I L K K E V I I A K D E V A H T L T E S R V L K N T R H P F L T S L K Y S F Q T K D R L C F V M E Y V N G G E L F F H L S R E R V F S E D R T R F Y G A E I V  sub-proteins\n",
      "Protein Q92786 has M P D H D S T A L L S R Q T K R R R V D I G V K R T V G T A S A F F A K A R A T F F S A M N P Q G S E Q D V E Y S V V Q H A D G E K S N V L R K L L K R A N S Y E D A M M P F P G A T I I S Q L L K N N M N K N G G T E P S F Q A S G L S S T G S E V H Q E D I C S N S S R D S P P E C L S P F G R P T M S Q F D M D R L C D E H L R A K R A R V E N I I R G M S H S P S V A L R G N E N E R E M A P Q S V S P R E S Y R E N K R K Q K L P Q Q Q Q Q S F Q Q L V S A R K E Q K R E E R R Q L K Q Q L E D M Q K Q L R Q L Q E K  sub-proteins\n"
     ]
    },
    {
     "name": "stderr",
     "output_type": "stream",
     "text": [
      "Getting protein lengths:   0%|          | 68/20504 [00:07<38:15,  8.90it/s]"
     ]
    },
    {
     "name": "stdout",
     "output_type": "stream",
     "text": [
      "Protein P0DSO1 has M A E P G R P W A Q A R S A Y R A S E V L R R G T G R R R D P G P Q S N G P G Q E D A R A P G R M A R L R G Q L R A E A A S R S E V P R L L K L V E R A G A G A A G R G R E D R R A Q P R A P C A R Y A G S P A A G P P T R R G S W R S A S G G C R R A W R Q C A R S W A P G L R R C A R S F E R S W M P C A R C C R R R R P R L P A A S P A P S P A P R P A A R P C R G R S A P L A P W S P P P G P Q T T P R T A Q Q N A E R T E P R P G R T T R R C Q C R L G P R K V A G T E G G R T R A A                                  sub-proteins\n",
      "Protein Q6RW13 has M E L P A V N L K V I L L G H W L L T T W G C I V F S G S Y A W A N F T I L A L G V W A V A Q R D S I D A I S M F L G G L L A T I F L D I V H I S I F Y P R V S L T D T G R F G V G M A I L S L L L K P L S C C F V Y H M Y R E R G G E L L V H T G F L G S S Q D R S A Y Q T I D S A E A P A D P F A V P E G R S Q D A R G Y                                                                                                                                                                                                    sub-proteins\n",
      "Protein Q9NR46 has M D F N M K K L A S D A G I F F T R A V Q F T E E K F G Q A E K T E L D A H F E N L L A R A D S T K N W T E K I L R Q T E V L L Q P N P S A R V E E F L Y E K L D R K V P S R V T N G E L L A Q Y M A D A A S E L G P T T P Y G K T L I K V A E A E K Q L G A A E R D F I H T A S I S F L T P L R N F L E G D W K T I S K E R R L L Q N R R L D L D A C K A R L K K A K A A E A K A T T V P D F Q E T R P R N Y I L S A S A S A L W N D E V D K A E Q E L R V A Q T E F D R Q A E V T R L L L E G I S S T H V N H L R C L H E F  sub-proteins\n"
     ]
    },
    {
     "name": "stderr",
     "output_type": "stream",
     "text": [
      "Getting protein lengths:   0%|          | 71/20504 [00:07<33:28, 10.17it/s]"
     ]
    },
    {
     "name": "stdout",
     "output_type": "stream",
     "text": [
      "Protein A0FGR9 has M R A E E P C A P G A P S A L G A Q R T P G P E L R L S S Q L L P E L C T F V V R V L F Y L G P V Y L A G Y L G L S I T W L L L G A L L W M W W R R N R R G K L G R L A A A F E F L D N E R E F I S R E L R G Q H L P A W I H F P D V E R V E W A N K I I S Q T W P Y L S M I M E S K F R E K L E P K I R E K S I H L R T F T F T K L Y F G Q K C P R V N G V K A H T N T C N R R R V T V D L Q I C Y I G D C E I S V E L Q K I Q A G V N G I Q L Q G T L R V I L E P L L V D K P F V G A V T V F F L Q K P H L Q I N W T G L T  sub-proteins\n"
     ]
    },
    {
     "name": "stderr",
     "output_type": "stream",
     "text": [
      "Getting protein lengths:   0%|          | 73/20504 [00:07<42:34,  8.00it/s]"
     ]
    },
    {
     "name": "stdout",
     "output_type": "stream",
     "text": [
      "Protein Q3V5L5 has M I T V N P D G K I M V R R C L V T L R P F R L F V L G I G F F T L C F L M T S L G G Q F S A R R L G D S P F T I R T E V M G G P E S R G V L R K M S D L L E L M V K R M D A L A R L E N S S E L H R A G G D L H F P A D R M P P G A G L M E R I Q A I A Q N V S D I A V K V D Q I L R H S L L L H S K V S E G R R D Q C E A P S D P K F P D C S G K V E W M R A R W T S D P C Y A F F G V D G T E C S F L I Y L S E V E W F C P P L P W R N Q T A A Q R A P K P L P K V Q A V F R S N L S H L L D L M G S G K E S L I F M K K  sub-proteins\n",
      "Protein Q14739 has M P S R K F A D G E V V R G R W P G S S L Y Y E V E I L S H D S T S Q L Y T V K Y K D G T E L E L K E N D I K P L T S F R Q R K G G S T S S S P S R R R G S R S R S R S R S P G R P P K S A R R S A S A S H Q A D I K E A R R E V E V K L T P L I L K P F G N S I S R Y N G E P E H I E R N D A P H K N T Q E K F S L S Q E S S Y I A T Q Y S L R P R R E E V K L K E I D S K E E K Y V A K E L A V R T F E V T P I R A K D L E F G G V P G V F L I M F G L P V F L F L L L L M C K Q K D P S L L N F P P P L P A L Y E L W E T  sub-proteins\n"
     ]
    },
    {
     "name": "stderr",
     "output_type": "stream",
     "text": [
      "Getting protein lengths:   0%|          | 76/20504 [00:08<43:33,  7.82it/s]"
     ]
    },
    {
     "name": "stdout",
     "output_type": "stream",
     "text": [
      "Protein Q96KP1 has M S R S R Q P P L V T G I S P N E G I P W T K V T I R G E N L G T G P T D L I G L T I C G H N C L L T A E W M S A S K I V C R V G Q A K N D K G D I I V T T K S G G R G T S T V S F K L L K P E K I G I L D Q S A V W V D E M N Y Y D M R T D R N K G I P P L S L R P A N P L G I E I E K S K F S Q K D L E M L F H G M S A D F T S E N F S A A W Y L I E N H S N T S F E Q L K M A V T N L K R Q A N K K S E G S L A Y V K G G L S T F F E A Q D A L S A I H Q K L E A D G T E K V E G S M T Q K L E N V L N R A S N T A D T L  sub-proteins\n",
      "Protein Q9BWT6 has M S K K K G L S A E E K R T R M M E I F S E T K D V F Q L K D L E K I A P K E K G I T A M S V K E V L Q S L V D D G M V D C E R I G T S N Y Y W A F P S K A L H A R K H K L E V L E S Q L S E G S Q K H A S L Q K S I E K A K I G R C E T E E R T R L A K E L S S L R D Q R E Q L K A E V E K Y K D C D P Q V V E E I R Q A N K V A K E A A N R W T D N I F A I K S W A K R K F G F E E N K I D R T F G I P E D F D Y I D                                                                                                        sub-proteins\n",
      "Protein Q9NRH2 has M A G F K R G Y D G K I A G L Y D L D K T L G R G H F A V V K L A R H V F T G E K V A V K V I D K T K L D T L A T G H L F Q E V R C M K L V Q H P N I V R L Y E V I D T Q T K L Y L I L E L G D G G D M F D Y I M K H E E G L N E D L A K K Y F A Q I V H A I S Y C H K L H V V H R D L K P E N V V F F E K Q G L V K L T D F G F S N K F Q P G K K L T T S C G S L A Y S A P E I L L G D E Y D A P A V D I W S L G V I L F M L V C G Q P P F Q E A N D S E T L T M I M D C K Y T V P S H V S K E C K D L I T R M L Q R D P K R  sub-proteins\n",
      "Protein P22694 has M G N A A T A K K G S E V E S V K E F L A K A K E D F L K K W E N P T Q N N A G L E D F E R K K T L G T G S F G R V M L V K H K A T E Q Y Y A M K I L D K Q K V V K L K Q I E H T L N E K R I L Q A V N F P F L V R L E Y A F K D N S N L Y M V M E Y V P G G E M F S H L R R I G R F S E P H A R F Y A A Q I V L T F E Y L H S L D L I Y R D L K P E N L L I D H Q G Y I Q V T D F G F A K R V K G R T W T L C G T P E Y L A P E I I L S K G Y N K A V D W W A L G V L I Y E M A A G Y P P F F A D Q P I Q I Y E K I V S G K V  sub-proteins\n"
     ]
    },
    {
     "name": "stderr",
     "output_type": "stream",
     "text": [
      "Getting protein lengths:   0%|          | 79/20504 [00:08<53:21,  6.38it/s]"
     ]
    },
    {
     "name": "stdout",
     "output_type": "stream",
     "text": [
      "Protein Q6AWC2 has M P R R A G S G Q L P L P R G W E E A R D Y D G K V F Y I D H N T R R T S W I D P R D R L T K P L S F A D C V G D E L P W G W E A G F D P Q I G V Y Y I D H I N K T T Q I E D P R K Q W R G E Q E K M L K D Y L S V A Q D A L R T Q K E L Y H V K E Q R L A L A L D E Y V R L N D A Y K E K S S S H T S L F S G S S S S T K Y D P D I L K A E I S T T R L R V K K L K R E L S Q M K Q E L L Y K E Q G F E T L Q Q I D K K M S G G Q S G Y E L S E A K A I L T E L K S I R K A I S S G E K E K Q D L M Q S L A K L Q E R F H L D  sub-proteins\n",
      "Protein O75129 has M A A A G A R L S P G P G S G L R G R P R L C F H P G P P P L L P L L L L F L L L L P P P P L L A G A T A A A S R E P D S P C R L K T V T V S T L P A L R E S D I G W S G A R A G A G A G T G A G A A A A A A S P G S P G S A G T A A E S R L L L F V R N E L P G R I A V Q D D L D N T E L P F F T L E M S G T A A D I S L V H W R Q Q W L E N G T L Y F H V S M S S S G Q L A Q A T A P T L Q E P S E I V E E Q M H I L H I S V M G G L I A L L L L L L V F T V A L Y A Q R R W Q K R R R I P Q K S A S T E A T H E I H Y I P  sub-proteins\n"
     ]
    },
    {
     "name": "stderr",
     "output_type": "stream",
     "text": [
      "Getting protein lengths:   0%|          | 83/20504 [00:09<40:38,  8.37it/s]  "
     ]
    },
    {
     "name": "stdout",
     "output_type": "stream",
     "text": [
      "Protein P0DPD8 has M A S P G A G R A P P E L P E R N C G Y R E V E Y W D Q R Y Q G A A D S A P Y D W F G D F S S F R A L L E P E L R P E D R I L V L G C G N S A L S Y E L F L G G F P N V T S V D Y S S V V V A A M Q A R H A H V P Q L R W E T M D V R K L D F P S A S F D V V L E K G T L D A L L A G E R D P W T V S S E G V H T V D Q V L S E V G F Q K G T R Q L L G S R T Q L E L V L A G A S L L L A A L L L G C L V A L G V Q Y H R D P S H S T C L T E A C I R V A G K I L E S L D R G V S P C E D F Y Q F S C G G W I R R N P L P D G R  sub-proteins\n",
      "Protein P0C7X0 has M M A R R D P T S W A K R L V R A Q T L Q K Q R R A P V G P R A P P P D E E D P R L K C K N C G A F G H T A R S T R C P M K C W K A A L V P A T L G K K E G K E N L K P W K P R G E A N P G P L N K D K G E K E E R P R Q Q D P Q R K A L L H M F S G K P P E K P L P N G K G S T E S S D Y L R V A S G P M P V H T T S K R P R L D P V L A D R S A T E M S G R G S V L A S L S P L R K A S L S S S S S L G P K E R Q T G A A A D M P Q P A V R H Q G R E P L L V V K P T H S R P E G G C R E V P Q A A S K T H G L L Q A S R P  sub-proteins\n",
      "Protein Q8N966 has M L A L R L L N V V A P A Y F L C I S L V T F V L Q L F L F L P S M R E D P A A A R L F S P A L L H G A L F L F L S A N A L G N Y V L V I Q N S P D D L G A C Q G A S A R K T P C P S P S T H F C R V C A R V T L R H D H H C F F T G N C I G S R N M R N F V L F C L Y T S L A C L Y S M V A G V A Y I S A V L S I S F A H P L A F L T L L P T S I S Q F F S G A V L G S E M F V I L M L Y L W F A I G L A C A G F C C H Q L L L I L R G Q T R H Q V R K G V A V R A R P W R K N L Q E V F G K R W L L G L L V P M F N V G S E  sub-proteins\n",
      "Protein Q9UFN0 has M L V L R S A L T R A L A S R T L A P Q M C S S F A T G P R Q Y D G I F Y E F R S Y Y L K P S K M N E F L E N F E K N A H L R T A H S E L V G Y W S V E F G G R M N T V F H I W K Y D N F A H R T E V R K A L A K D K E W Q E Q F L I P N L A L I D K Q E S E I T Y L V P W C K L E K P P K E G V Y E L A T F Q M K P G G P A L W G D A F K R A V H A H V N L G Y T K L V G V F H T E Y G A L N R V H V L W W N E S A D S R A A G R H K S H E D P R V V A A V R E S V N Y L V S Q Q N M L L I P T S F S P L K                    sub-proteins\n",
      "Protein Q8NAQ8 has M Y S V L Q L L K C L C S C W R K G P E G R R F Q T E A A V C A R P A W S P H P A G A S E A L G A L P P P R Q L V E K R R V S P P R R L D Q S G R D G G A V A K C S L S R G L S P P G W T G R S L L R P W G S A A V L G S R A A L A C V L R P S R G V M P A T I Q S R R                                                                                                                                                                                                                                                          sub-proteins\n",
      "Protein A5LHX3 has M A L Q D V C K W Q S P D T Q G P S P H L P R A G G W A V P R G C D P Q T F L Q I H G P R L A H G T T T L A F R F R H G V I A A A D T R S S C G S Y V A C P A S C K V I P V H Q H L L G T T S G T S A D C A T W Y R V L Q R E L R L R E L R E G Q L P S V A S A A K L L S A M M S Q Y R G L D L C V A T A L C G W D R S G P E L F Y V Y S D G T R L Q G D I F S V G S G S P Y A Y G V L D R G Y R Y D M S T Q E A Y A L A R C A V A H A T H R D A Y S G G S V D L F H V R E S G W E H V S R S D A C V L Y V E L Q K L L E P E P  sub-proteins\n"
     ]
    },
    {
     "name": "stderr",
     "output_type": "stream",
     "text": [
      "Getting protein lengths:   0%|          | 88/20504 [00:09<36:08,  9.41it/s]"
     ]
    },
    {
     "name": "stdout",
     "output_type": "stream",
     "text": [
      "Protein P78371 has M A S L S L A P V N I F K A G A D E E R A E T A R L T S F I G A I A I G D L V K S T L G P K G M D K I L L S S G R D A S L M V T N D G A T I L K N I G V D N P A A K V L V D M S R V Q D D E V G D G T T S V T V L A A E L L R E A E S L I A K K I H P Q T I I A G W R E A T K A A R E A L L S S A V D H G S D E V K F R Q D L M N I A G T T L S S K L L T H H K D H F T K L A V E A V L R L K G S G N L E A I H I I K K L G G S L A D S Y L D E G F L L D K K I G V N Q P K R I E N A K I L I A N T G M D T D K I K I F G S R V  sub-proteins\n",
      "Protein P48764 has M W G L G A R G P D R G L L L A L A L G G L A R A G G V E V E P G G A H G E S G G F Q V V T F E W A H V Q D P Y V I A L W I L V A S L A K I G F H L S H K V T S V V P E S A L L I V L G L V L G G I V W A A D H I A S F T L T P T V F F F Y L L P P I V L D A G Y F M P N R L F F G N L G T I L L Y A V V G T V W N A A T T G L S L Y G V F L S G L M G D L Q I G L L D F L L F G S L M A A V D P V A V L A V F E E V H V N E V L F I I V F G E S L L N D A V T V V L Y N V F E S F V A L G G D N V T G V D C V K G I V S F F V  sub-proteins\n",
      "Protein A0A0C4DH26 has M V S P L Q F L R L L L L W V P A S R G D V V M T Q S P A F L S V T P G E K V T I T C Q A S E G I G N Y L Y W Y Q Q K P D Q A P K L L I K Y A S Q S I S G V P S R F S G S G S G T D F T F T I S S L E A E D A A T Y Y C Q Q G N K H P                                                                                                                                                                                                                                                                                            sub-proteins\n",
      "Protein A0A0G2JN01 has M S L M V V S M A C V G F F L L Q G A W P H E G G Q D K P F L S A W P S P V V S E G E H V A L Q C R S R L G F N E F S L S K E D G M P V P E L Y N R V F R N T V F I G P V T P A H A G T Y R C R G S H P H F L T G W S A P S N P L V I M V T G V H R K P S L L A H P G P L V K S E E T V I L Q C W S D V M F E H F L L H R E G K F N D T L R L T G E L H D G V S K A N F S I G R M T Q D L A G T Y R C Y G S V P H S P Y Q L S A P S D P L D I V I T G L C G K P S L S A Q P R P M V K A G E S V T L S C S S R S S Y D I Y H L S  sub-proteins\n"
     ]
    },
    {
     "name": "stderr",
     "output_type": "stream",
     "text": [
      "Getting protein lengths:   0%|          | 90/20504 [00:09<30:46, 11.05it/s]"
     ]
    },
    {
     "name": "stdout",
     "output_type": "stream",
     "text": [
      "Protein Q6ZSC3 has M A S V L N V K E S K A P E R T V V V A G L P V D L F S D Q L L A V L V K S H F Q D I K N E G G D V E D V I Y P T R T K G V A Y V I F K E K K V A E N V I R Q K K H W L A R K T R H A E L T V S L R V S H F G D K I F S S V N A I L D L S V F G K E V T L E T L V K D L K K K I P S L S F S P L K P N G R I S V E G S F L A V K R L R E S L L A R A C S L L E K D R N F T S E E R K W N R Q N P Q R N L Q R S N N S L A S V R T L V P E T A R S G E M L V L D T D V F L Y L K H K C G S Y E S T L K K F H I L S Q E K V D G E I  sub-proteins\n",
      "Protein Q9NP97 has M A E V E E T L K R L Q S Q K G V Q G I I V V N T E G I P I K S T M D N P T T T Q Y A S L M H S F I L K A R S T V R D I D P Q N D L T F L R I R S K K N E I M V A P D K D Y F L I V I Q N P T E                                                                                                                                                                                                                                                                                                                                  sub-proteins\n"
     ]
    },
    {
     "name": "stderr",
     "output_type": "stream",
     "text": [
      "Getting protein lengths:   0%|          | 92/20504 [00:10<35:23,  9.61it/s]"
     ]
    },
    {
     "name": "stdout",
     "output_type": "stream",
     "text": [
      "Protein P09104 has M S I E K I W A R E I L D S R G N P T V E V D L Y T A K G L F R A A V P S G A S T G I Y E A L E L R D G D K Q R Y L G K G V L K A V D H I N S T I A P A L I S S G L S V V E Q E K L D N L M L E L D G T E N K S K F G A N A I L G V S L A V C K A G A A E R E L P L Y R H I A Q L A G N S D L I L P V P A F N V I N G G S H A G N K L A M Q E F M I L P V G A E S F R D A M R L G A E V Y H T L K G V I K D K Y G K D A T N V G D E G G F A P N I L E N S E A L E L V K E A I D K A G Y T E K I V I G M D V A A S E F Y R D G K  sub-proteins\n",
      "Protein Q9ULE3 has M D M F S L D M I I S D P A A E A S R A G K K Q L R G V Q N P C P S A R A R P R H K S L N I K D K I S E W E G K K E V P T P A P S R R A D G Q E D Y L P S S T V E R R S S D G V R T Q V T E A K N G M R P G T E S T E K E R N K G A V N V G G Q D P E P G Q D L S Q P E R E V D P S W G R G R E P R L G K L R F Q N D P L S V L K Q V K K L E Q A L K D G S A G L D P Q L P G T C Y S P H C P P D K A E A G S T L P E N L G G G S G S E V S Q R V H P S D L E G R E P T P E L V E D R K G S C R R P W D R S L E N V Y R G S E G  sub-proteins\n"
     ]
    },
    {
     "name": "stderr",
     "output_type": "stream",
     "text": [
      "Getting protein lengths:   0%|          | 94/20504 [00:10<36:12,  9.39it/s]"
     ]
    },
    {
     "name": "stdout",
     "output_type": "stream",
     "text": [
      "Protein Q8TF42 has M A Q Y G H P S P L G M A A R E E L Y S K V T P R R N R Q Q R P G T I K H G S A L D V L L S M G F P R A R A Q K A L A S T G G R S V Q A A C D W L F S H V G D P F L D D P L P R E Y V L Y L R P T G P L A Q K L S D F W Q Q S K Q I C G K N K A H N I F P H I T L C Q F F M C E D S K V D A L G E A L Q T T V S R W K C K F S A P L P L E L Y T S S N F I G L F V K E D S A E V L K K F A A D F A A E A A S K T E V H V E P H K K Q L H V T L A Y H F Q A S H L P T L E K L A Q N I D V K L G C D W V A T I F S R D I R F A N H  sub-proteins\n"
     ]
    },
    {
     "name": "stderr",
     "output_type": "stream",
     "text": [
      "Getting protein lengths:   0%|          | 96/20504 [00:10<42:32,  8.00it/s]"
     ]
    },
    {
     "name": "stdout",
     "output_type": "stream",
     "text": [
      "Protein Q9H903 has M T V P V R G F S L L R G R L G R A P A L G R S T A P S V R A P G E P G S A F R G F R S S G V R H E A I I I S G T E M A K H I Q K E I Q R G V E S W V S L G N R R P H L S I I L V G D N P A S H T Y V R N K I R A A S A V G I C S E L I L K P K D V S Q E E L L D V T D Q L N M D P R V S G I L V Q L P L P D H V D E R T I C N G I A P E K D V D G F H I I N I G R L C L D Q H S L I P A T A S A V W E I I K R T G I Q T F G K N V V V A G R S K N V G M P I A M L L H T D G E H E R P G G D A T V T I A H R Y T P K E Q L K I  sub-proteins\n",
      "Protein Q8N8A6 has M A L F Y V A R Y P G P D A A A A A G P E G A E A G A H G R A R A L L E R L Q S R A R E R Q Q Q R E P A Q T E A A A S T E P A T R R R R R P R R R R R V N D A E P G S P E A P Q G K R R K A D G E D A G A E S N E E A P G E P S A G S S E E A P G E P S A G S S E E A P G E R S T S A S A E A A P D G P A L E E A A G P L V P G L V L G G F G K R K A P K V Q P F L P R W L A E P N C V R R N V T E D L V P I E D I P D V H P D L Q K Q L R A H G I S S Y F P V Q A A V I P A L L E S A A C G F L V G R G G Y R P S D L C V S A  sub-proteins\n",
      "Protein O75310 has M T L K W T S V L L L I H L S C Y F S S G S C G K V L V W A A E Y S H W M N M K T I L K E L V Q R G H E V T V L A S S A S I L F D P N D A S T L K F E V Y P T S L T K T E F E N I I M Q Q V K R W S D I R K D S F W L Y F S Q E Q E I L W E L Y D I F R N F C K D V V S N K K V M K K L Q E S R F D I V F A D A V F P C G E L L A A L L N I R F V Y S L R F T P G Y T I E R H S G G L I F P P S Y I P I V M S K L S D Q M T F M E R V K N M I Y V L Y F D F W F Q M S D M K K W D Q F Y S E V L G R P T T L F E T M G K A D I W  sub-proteins\n"
     ]
    },
    {
     "name": "stderr",
     "output_type": "stream",
     "text": [
      "Getting protein lengths:   0%|          | 98/20504 [00:10<39:37,  8.58it/s]"
     ]
    },
    {
     "name": "stdout",
     "output_type": "stream",
     "text": [
      "Protein Q9UPW0 has M G L Y G Q A C P S V T S L R M T S E L E S S L T S M D W L P Q L T M R A A I Q K S D A T Q N A H G T G I S K K N A L L D P N T T L D Q E E V Q Q H K D G K P P Y S Y A S L I T F A I N S S P K K K M T L S E I Y Q W I C D N F P Y Y R E A G S G W K N S I R H N L S L N K C F L K V P R S K D D P G K G S Y W A I D T N P K E D V L P T R P K K R A R S V E R A S T P Y S I D S D S L G M E C I I S G S A S P T L A I N T V T N K V T L Y N T D Q D G S D S P R S S L N N S L S D Q S L A S V N L N S V G S V H S Y T P V T S  sub-proteins\n"
     ]
    },
    {
     "name": "stderr",
     "output_type": "stream",
     "text": [
      "Getting protein lengths:   0%|          | 101/20504 [00:11<40:47,  8.34it/s]"
     ]
    },
    {
     "name": "stdout",
     "output_type": "stream",
     "text": [
      "Protein A6NI47 has M V A E A G S M P A A S S V K K P F G L R S K M G K W C R H C F P W C R G S G K S N V G T S G D H D D S A M K T L R S K M G K W C R H C F P W C R G S G K S N V G T S G D H D D S A M K T L R S K M G K W C C H C F P C C R G S G K S K V G P W G D Y D D S A F M E P R Y H V R R E D L D K L H R A A W W G K V P R K D L I V M L K D T D M N K K D K Q K R T A L H L A S A N G N S E V V K L L L D R R C Q L N I L D N K K R T A L T K A V Q C Q E D E C A L M L L E H G T D P N I P D E Y G N T A L H Y A I Y N E D K L M A K  sub-proteins\n",
      "Protein Q9C0H6 has M S V S G K K E F D V K Q I L R L R W R W F S H P F Q G S T N T G S C L Q Q E G Y E H R G T P V Q G R L K S H S R D R N G L K K S N S P V H H N I L A P V P G P A P A H Q R A V Q N L Q Q H N L I V H F Q A N E D T P K S V P E K N L F K E A C E K R A Q D L E M M A D D N I E D S T A R L D T Q H S E D M N A T R S E E Q F H V I N H A E Q T L R K M E N Y L K E K Q L C D V L L I A G H L R I P A H R L V L S A V S D Y F A A M F T N D V L E A K Q E E V R M E G V D P N A L N S L V Q Y A Y T G V L Q L K E D T I E S L L  sub-proteins\n",
      "Protein Q8TAU0 has M M L P S P V T S T P F S V K D I L N L E Q Q H Q H F H G A H L Q A D L E H H F H S A P C M L A A A E G T Q F S D G G E E D E E D E G E K L S Y L N S L A A A D G H G D S G L C P Q G Y V H T V L R D S C S E P K E H E E E P E V V R D R S Q K S C Q L K K S L E T A G D C K A A E E S E R P K P R S R R K P R V L F S Q A Q V F E L E R R F K Q Q R Y L S A P E R E H L A S S L K L T S T Q V K I W F Q N R R Y K C K R Q R Q D K S L E L G A H A P P P P P R R V A V P V L V R D G K P C V T P S A Q A Y G A P Y S V G A S A  sub-proteins\n"
     ]
    },
    {
     "name": "stderr",
     "output_type": "stream",
     "text": [
      "Getting protein lengths:   1%|          | 105/20504 [00:12<53:09,  6.40it/s]  "
     ]
    },
    {
     "name": "stdout",
     "output_type": "stream",
     "text": [
      "Protein Q5S007 has M A S G S C Q G C E E D E E T L K K L I V R L N N V Q E G K Q I E T L V Q I L E D L L V F T Y S E R A S K L F Q G K N I H V P L L I V L D S Y M R V A S V Q Q V G W S L L C K L I E V C P G T M Q S L M G P Q D V G N D W E V L G V H Q L I L K M L T V H N A S V N L S V I G L K T L D L L L T S G K I T L L I L D E E S D I F M L I F D A M H S F P A N D E V Q K L G C K A L H V L F E R V S E E Q L T E F V E N K D Y M I L L S A L T N F K D E E E I V L H V L H C L H S L A I P C N N V E V L M S G N V R C Y N I V V E A  sub-proteins\n",
      "Protein P23258 has M P R E I I T L Q L G Q C G N Q I G F E F W K Q L C A E H G I S P E G I V E E F A T E G T D R K D V F F Y Q A D D E H Y I P R A V L L D L E P R V I H S I L N S P Y A K L Y N P E N I Y L S E H G G G A G N N W A S G F S Q G E K I H E D I F D I I D R E A D G S D S L E G F V L C H S I A G G T G S G L G S Y L L E R L N D R Y P K K L V Q T Y S V F P N Q D E M S D V V V Q P Y N S L L T L K R L T Q N A D C V V V L D N T A L N R I A T D R L H I Q N P S F S Q I N Q L V S T I M S A S T T T L R Y P G Y M N N D L I G L  sub-proteins\n",
      "Protein A0A096LPG2 has P T L C C L S C F S S L W P R W E D H L R P G                                                                                                                                                                                                                                                                                                                                                                                                                                                                                    sub-proteins\n",
      "Protein Q96CC6 has M S E A R R D S T S S L Q R K K P P W L K L D I P S A V P L T A E E P S F L Q P L R R Q A F L R S V S M P A E T A H I S S P H H E L R R P V L Q R Q T S I T Q T I R R G T A D W F G V S K D S D S T Q K W Q R K S I R H C S Q R Y G K L K P Q V L R E L D L P S Q D N V S L T S T E T P P P L Y V G P C Q L G M Q K I I D P L A R G R A F R V A D D T A E G L S A P H T P V T P G A A S L C S F S S S R S G F H R L P R R R K R E S V A K M S F R A A A A L M K G R S V R D G T F R R A Q R R S F T P A S F L E E D T T D F P D  sub-proteins\n",
      "Protein Q10713 has M A A V V L A A T R L L R G S G S W G C S R L R F G P P A Y R R F S S G G A Y P N I P L S S P L P G V P K P V F A T V D G Q E K F E T K V T T L D N G L R V A S Q N K F G Q F C T V G I L I N S G S R Y E A K Y L S G I A H F L E K L A F S S T A R F D S K D E I L L T L E K H G G I C D C Q T S R D T T M Y A V S A D S K G L D T V V A L L A D V V L Q P R L T D E E V E M T R M A V Q F E L E D L N L R P D P E P L L T E M I H E A A Y R E N T V G L H R F C P T E N V A K I N R E V L H S Y L R N Y Y T P D R M V L A G V  sub-proteins\n"
     ]
    },
    {
     "name": "stderr",
     "output_type": "stream",
     "text": [
      "Getting protein lengths:   1%|          | 107/20504 [00:12<58:23,  5.82it/s]"
     ]
    },
    {
     "name": "stdout",
     "output_type": "stream",
     "text": [
      "Protein Q96NX5 has M G R K E E D D C S S W K K Q T T N I R K T F I F M E V L G S G A F S E V F L V K Q R L T G K L F A L K C I K K S P A F R D S S L E N E I A V L K K I K H E N I V T L E D I Y E S T T H Y Y L V M Q L V S G G E L F D R I L E R G V Y T E K D A S L V I Q Q V L S A V K Y L H E N G I V H R D L K P E N L L Y L T P E E N S K I M I T D F G L S K M E Q N G I M S T A C G T P G Y V A P E V L A Q K P Y S K A V D C W S I G V I T Y I L L C G Y P P F Y E E T E S K L F E K I K E G Y Y E F E S P F W D D I S E S A K D F I C H  sub-proteins\n",
      "Protein Q9ULM2 has M R R N S S L S F Q M E R P L E E Q V Q S K W S S S Q G R T G T G G S D V L Q M Q N S E H H G Q S I K T Q T D S I S L E D V A V N F T L E E W A L L D P G Q R N I Y R D V M R A T F K N L A C I G E K W K D Q D I E D E H K N Q G R N L R S P M V E A L C E N K E D C P C G K S T S Q I P D L N T N L E T P T G L K P C D C S V C G E V F M H Q V S L N R H M R S H T E Q K P N E C H E Y G E K P H K C K E C G K T F T R S S S I R T H E R I H T G E K P Y E C K E C G K A F A F L F S F R N H I R I H T G E T P Y E C K E C G  sub-proteins\n"
     ]
    },
    {
     "name": "stderr",
     "output_type": "stream",
     "text": [
      "Getting protein lengths:   1%|          | 109/20504 [00:12<52:27,  6.48it/s]"
     ]
    },
    {
     "name": "stdout",
     "output_type": "stream",
     "text": [
      "Protein O00410 has M A A A A A E Q Q Q F Y L L L G N L L S P D N V V R K Q A E E T Y E N I P G Q S K I T F L L Q A I R N T T A A E E A R Q M A A V L L R R L L S S A F D E V Y P A L P S D V Q T A I K S E L L M I I Q M E T Q S S M R K K V C D I A A E L A R N L I D E D G N N Q W P E G L K F L F D S V S S Q N V G L R E A A L H I F W N F P G I F G N Q Q Q H Y L D V I K R M L V Q C M Q D Q E H P S I R T L S A R A T A A F I L A N E H N V A L F K H F A D L L P G F L Q A V N D S C Y Q N D D S V L K S L V E I A D T V P K Y L R P H L E  sub-proteins\n",
      "Protein Q9H4I3 has M D G E E Q Q P P H E A N V E P V V P S E A S E P V P R V L S G D P Q N L S D V D A F N L L L E M K L K R R R Q R P N L P R T V T Q L V A E D G S R V Y V V G T A H F S D D S K R D V V K T I R E V Q P D V V V V E L C Q Y R V S M L K M D E S T L L R E A Q E L S L E K L Q Q A V R Q N G L M S G L M Q M L L L K V S A H I T E Q L G M A P G G E F R E A F K E A S K V P F C K F H L G D R P I P V T F K R A I A A L S F W Q K V R L A W G L C F L S D P I S K D D V E R C K Q K D L L E Q M M A E M I G E F P D L H R T I V  sub-proteins\n"
     ]
    },
    {
     "name": "stderr",
     "output_type": "stream",
     "text": [
      "Getting protein lengths:   1%|          | 114/20504 [00:13<39:59,  8.50it/s]"
     ]
    },
    {
     "name": "stdout",
     "output_type": "stream",
     "text": [
      "Protein O75891 has M K I A V I G Q S L F G Q E V Y C H L R K E G H E V V G V F T V P D K D G K A D P L G L E A E K D G V P V F K Y S R W R A K G Q A L P D V V A K Y Q A L G A E L N V L P F C S Q F I P M E I I S A P R H G S I I Y H P S L L P R H R G A S A I N W T L I H G D K K G G F S I F W A D D G L D T G D L L L Q K E C E V L P D D T V S T L Y N R F L F P E G I K G M V Q A V R L I A E G K A P R L P Q P E E G A T Y E G I Q K K E T A K I N W D Q P A E A I H N W I R G N D K V P G A W T E A C E Q K L T F F N S T L N T S G L V P  sub-proteins\n",
      "Protein Q3LI66 has M C G S Y Y G N Y Y G D H G Y G C C G Y E G L G Y G Y G S L R C G Y S S C C G Y G H G Y G S R F F C G C G Y G C G S G Y Y Y                                                                                                                                                                                                                                                                                                                                                                                                      sub-proteins\n",
      "Protein Q5TGI0 has M H W G V G F A S S R P C V V D L S W N Q S I S F F G W W A G S E E P F S F Y G D I I A F P L Q D Y G G I M A G L G S D P W W K K T L Y L T G G A L L A A A A Y L L H E L L V I R K Q Q E I D S K D A I I L H Q F A R P N N G V P S L S P F C L K M E T Y L R M A D L P Y Q N Y F G G K L S A Q G K M P W I E Y N H E K V S G T E F I I D F L E E K L G V N L N K N L G P H E R A I S R A V T K M V E E H F Y W T L A Y C Q W V D N L N E T R K M L S L S G G G P F S N L L R W V V C H I T K G I V K R E M H G H G I G R F S E  sub-proteins\n",
      "Protein O75690 has M G C C G C S G G C G S G C G G C G S G C G G C G S S C C V P I C C C K P V C C C V P A C S C S S C G S C G G S K G G R G S C G G S K G D C G S C G G S K G G C G S C G C S Q C S C Y K P C C C S S G C G S S C C Q S S C C K P C C S Q S S C C K P C S C S S G C G S S C C Q S S C C K P C C S Q S S C C K P C C C S S G C G S S C C Q S S C C K P C C S Q S S C C V P I C C Q C K I                                                                                                                                            sub-proteins\n"
     ]
    },
    {
     "name": "stderr",
     "output_type": "stream",
     "text": [
      "Getting protein lengths:   1%|          | 116/20504 [00:13<42:39,  7.96it/s]"
     ]
    },
    {
     "name": "stdout",
     "output_type": "stream",
     "text": [
      "Protein P52569 has M I P C R A A L T F A R C L I R R K I V T L D S L E D T K L C R C L S T M D L I A L G V G S T L G A G V Y V L A G E V A K A D S G P S I V V S F L I A A L A S V M A G L C Y A E F G A R V P K T G S A Y L Y T Y V T V G E L W A F I T G W N L I L S Y V I G T S S V A R A W S G T F D E L L S K Q I G Q F L R T Y F R M N Y T G L A E Y P D F F A V C L I L L L A G L L S F G V K E S A W V N K V F T A V N I L V L L F V M V A G F V K G N V A N W K I S E E F L K N I S A S A R E P P S E N G T S I Y G A G G F M P Y G F T G  sub-proteins\n",
      "Protein Q8IYN2 has M Q K S C E E N E G K P Q N M P K A E E D R P L E D V P Q E A E G N P Q P S E E G V S Q E A E G N P R G G P N Q P G Q G F K E D T P V R H L D P E E M I R G V D E L E R L R E E I R R V R N K F V M M H W K Q R H S R S R P Y P V C F R P                                                                                                                                                                                                                                                                                        sub-proteins\n",
      "Protein Q15796 has M S S I L P F T P P V V K R L L G W K K S A G G S G G A G G G E Q N G Q E E K W C E K A V K S L V K K L K K T G R L D E L E K A I T T Q N C N T K C V T I P S T C S E I W G L S T P N T I D Q W D T T G L Y S F S E Q T R S L D G R L Q V S H R K G L P H V I Y C R L W R W P D L H S H H E L K A I E N C E Y A F N L K K D E V C V N P Y H Y Q R V E T P V L P P V L V P R H T E I L T E L P P L D D Y T H S I P E N T N F P A G I E P Q S N Y I P E T P P P G Y I S E D G E T S D Q Q L N Q S M D T G S P A E L S P T T L S P  sub-proteins\n"
     ]
    },
    {
     "name": "stderr",
     "output_type": "stream",
     "text": [
      "Getting protein lengths:   1%|          | 121/20504 [00:14<36:58,  9.19it/s]"
     ]
    },
    {
     "name": "stdout",
     "output_type": "stream",
     "text": [
      "Protein P11498 has M L K F R T V H G G L R L L G I R R T S T A P A A S P N V R R L E Y K P I K K V M V A N R G E I A I R V F R A C T E L G I R T V A I Y S E Q D T G Q M H R Q K A D E A Y L I G R G L A P V Q A Y L H I P D I I K V A K E N N V D A V H P G Y G F L S E R A D F A Q A C Q D A G V R F I G P S P E V V R K M G D K V E A R A I A I A A G V P V V P G T D A P I T S L H E A H E F S N T Y G F P I I F K A A Y G G G G R G M R V V H S Y E E L E E N Y T R A Y S E A L A A F G N G A L F V E K F I E K P R H I E V Q I L G D Q Y G N  sub-proteins\n",
      "Protein Q9NX00 has M G G G W W W A R A A R L A R L R F R R S L L P P Q R P R S G G A R G S F A P G H G P R A G A S P P P V S E L D R A D A W L L R K A H E T A F L S W F R N G L L A S G I G V I S F M Q S D M G R E A A Y G F F L L G G L C V V W G S A S Y A V G L A A L R G P M Q L T L G G A A V G A G A V L A A S L L W A C A V G L Y M G Q L E L D V E L V P E D D G T A S A E G P D E A G R P P P E                                                                                                                                          sub-proteins\n",
      "Protein P25025 has M E D F N M E S D S F E D F W K G E D L S N Y S Y S S T L P P F L L D A A P C E P E S L E I N K Y F V V I I Y A L V F L L S L L G N S L V M L V I L Y S R V G R S V T D V Y L L N L A L A D L L F A L T L P I W A A S K V N G W I F G T F L C K V V S L L K E V N F Y S G I L L L A C I S V D R Y L A I V H A T R T L T Q K R Y L V K F I C L S I W G L S L L L A L P V L L F R R T V Y S S N V S P A C Y E D M G N N T A N W R M L L R I L P Q S F G F I V P L L I M L F C Y G F T L R T L F K A H M G Q K H R A M R V I F A V  sub-proteins\n",
      "Protein Q06945 has M V Q Q T N N A E N T E A L L A G E S S D S G A G L E L G I A S S P T P G S T A S T G G K A D D P S W C K T P S G H I K R P M N A F M V W S Q I E R R K I M E Q S P D M H N A E I S K R L G K R W K L L K D S D K I P F I R E A E R L R L K H M A D Y P D Y K Y R P R K K V K S G N A N S S S S A A A S S K P G E K G D K V G G S G G G G H G G G G G G G S S N A G G G G G G A S G G G A N S K P A Q K K S C G S K V A G G A G G G V S K P H A K L I L A G G G G G G K A A A A A A A S F A A E Q A G A A A L L P L G A A A D H  sub-proteins\n",
      "Protein Q14651 has M E N S T T T I S R E E L E E L Q E A F N K I D I D N S G Y V S D Y E L Q D L F K E A S L P L P G Y K V R E I V E K I L S V A D S N K D G K I S F E E F V S L M Q E L K S K D I S K T F R K I I N K R E G I T A I G G T S T I S S E G T Q H S Y S E E E K V A F V N W I N K A L E N D P D C K H L I P M N P N D D S L F K S L A D G I L L C K M I N L S E P D T I D E R A I N K K K L T P F T I S E N L N L A L N S A S A I G C T V V N I G A S D L K E G K P H L V L G L L W Q I I K V G L F A D I E I S R N E A L I A L L N E  sub-proteins\n"
     ]
    },
    {
     "name": "stderr",
     "output_type": "stream",
     "text": [
      "Getting protein lengths:   1%|          | 127/20504 [00:14<30:29, 11.14it/s]"
     ]
    },
    {
     "name": "stdout",
     "output_type": "stream",
     "text": [
      "Protein Q8IWY8 has M M A K S A L R E N G T N S E T F R Q R F R R F H Y Q E V A G P R E A F S Q L W E L C C R W L R P E V R T K E Q I V E L L V L E Q F L T V L P G E I Q N W V Q E Q C P E N G E E A V T L V E D L E R E P G R P R S S V T V S V K G Q E V R L E K M T P P K S S Q E L L S V R Q E S V E P Q P R G V P K K E R A R S P D L G P Q E Q M N P K E K L K P F Q R S G L P F P K S G V V S R L E Q G E P W I P D L L G S K E K E L P S G S H I G D R R V H A D L L P S K K D R R S W V E Q D H W S F E D E K V A G V H W G Y E E T R T L  sub-proteins\n",
      "Protein Q9Y4U1 has M E P K V A E L K Q K I E D T L C P F G F E V Y P F Q V A W Y N E L L P P A F H L P L P G P T L A F L V L S T P A M F D R A L K P F L Q S C H L R M L T D P V D Q C V A Y H L G R V R E S L P E L Q I E I I A D Y E V H P N R R P K I L A Q T A A H V A G A A Y Y Y Q R Q D V E A D P W G N Q R I S G V C I H P R F G G W F A I R G V V L L P G I E V P D L P P R K P H D C V P T R A D R I A L L E G F N F H W R D W T Y R D A V T P Q E R Y S E E Q K A Y F S T P P A Q R L A L L G L A Q P S E K P S S P S P D L P F T T P A  sub-proteins\n",
      "Protein O60880 has M D A V A V Y H G K I S R E T G E K L L L A T G L D G S Y L L R D S E S V P G V Y C L C V L Y H G Y I Y T Y R V S Q T E T G S W S A E T A P G V H K R Y F R K I K N L I S A F Q K P D Q G I V I P L Q Y P V E K K S S A R S T Q G T T G I R E D P D V C L K A P                                                                                                                                                                                                                                                                  sub-proteins\n",
      "Protein P11233 has M A A N K P K G Q N S L A L H K V I M V G S G G V G K S A L T L Q F M Y D E F V E D Y E P T K A D S Y R K K V V L D G E E V Q I D I L D T A G Q E D Y A A I R D N Y F R S G E G F L C V F S I T E M E S F A A T A D F R E Q I L R V K E D E N V P F L L V G N K S D L E D K R Q V S V E E A K N R A E Q W N V N Y V E T S A K T R A N V D K V F F D L M R E I R A R K M E D S K E K N G K K K R K S L A K R I R E R C C I L                                                                                                      sub-proteins\n",
      "Protein P49902 has M S T S W S D R L Q N A A D M P A N M D K H A L K K Y R R E A Y H R V F V N R S L A M E K I K C F G F D M D Y T L A V Y K S P E Y E S L G F E L T V E R L V S I G Y P Q E L L S F A Y D S T F P T R G L V F D T L Y G N L L K V D A Y G N L L V C A H G F N F I R G P E T R E Q Y P N K F I Q R D D T E R F Y I L N T L F N L P E T Y L L A C L V D F F T N C P R Y T S C E T G F K D G D L F M S Y R S M F Q D V R D A V D W V H Y K G S L K E K T V E N L E K Y V V K D G K L P L L L S R M K E V G K V F L A T N S D Y K Y T  sub-proteins\n",
      "Protein Q14376 has M A E K V L V T G G A G Y I G S H T V L E L L E A G Y L P V V I D N F H N A F R G G G S L P E S L R R V Q E L T G R S V E F E E M D I L D Q G A L Q R L F K K Y S F M A V I H F A G L K A V G E S V Q K P L D Y Y R V N L T G T I Q L L E I M K A H G V K N L V F S S S A T V Y G N P Q Y L P L D E A H P T G G C T N P Y G K S K F F I E E M I R D L C Q A D K T W N A V L L R Y F N P T G A H A S G C I G E D P Q G I P N N L M P Y V S Q V A I G R R E A L N V F G N D Y D T E D G T G V R D Y I H V V D L A K G H I A A L R  sub-proteins\n"
     ]
    },
    {
     "name": "stderr",
     "output_type": "stream",
     "text": [
      "Getting protein lengths:   1%|          | 129/20504 [00:15<35:43,  9.51it/s]"
     ]
    },
    {
     "name": "stdout",
     "output_type": "stream",
     "text": [
      "Protein Q9P055 has M A V D I Q P A C L G L Y C G K T L L F K N G S T E I Y G E C G V C P R G Q R T N A Q K Y C Q P C T E S P E L Y D W L Y L G F M A M L P L V L H W F F I E W Y S G K K S S S A L F Q H I T A L F E C S M A A I I T L L V S D P V G V L Y I R S C R V L M L S D W Y T M L Y N P S P D Y V T T V H C T H E A V Y P L Y T I V F I Y Y A F C L V L M M L L R P L L V K K I A C G L G K S D R F K S I Y A A L Y F F P I L T V L Q A V G G G L L Y Y A F P Y I I L V L S L V T L A V Y M S A S E I E N C Y D L L V R K K R L I V L F S  sub-proteins\n",
      "Protein Q9P1J3 has M S E Q N I C N Q K D K S T L P F C Q A H L C E E T T N R L C V S N K A V Y S L E C K W A E S E N R V S E G R W G R G C F I G V G                                                                                                                                                                                                                                                                                                                                                                                                sub-proteins\n"
     ]
    },
    {
     "name": "stderr",
     "output_type": "stream",
     "text": [
      "Getting protein lengths:   1%|          | 131/20504 [00:15<37:34,  9.04it/s]"
     ]
    },
    {
     "name": "stdout",
     "output_type": "stream",
     "text": [
      "Protein Q9P2K9 has M D T E D D P L L Q D V W L E E E Q E E E E A T G E T F L G A Q K P G P Q P G A G G Q C C W R H W P L A S R P P A S G F W S T L G W A F T N P C C A G L V L F L G C S I P M A L S A F M F L Y Y P P L D I D I S Y N A F E I R N H E A S Q R F D A L T L A L K S Q F G S W G R N R R D L A D F T S E T L Q R L I S E Q L Q Q L H L G N R S R Q A S R A P R V I P A A S L G G P G P Y R D T S A A Q K P T A N R S G R L R R E T P P L E D L A A N Q S E D P R N Q R L S K N G R Y Q P S I P P H A A V A A N Q S R A R R G A S R W  sub-proteins\n",
      "Protein Q7LBR1 has M S N M E K H L F N L K F A A K E L S R S A K K C D K E E K A E K A K I K K A I Q K G N M E V A R I H A E N A I R Q K N Q A V N F L R M S A R V D A V A A R V Q T A V T M G K V T K S M A G V V K S M D A T L K T M N L E K I S A L M D K F E H Q F E T L D V Q T Q Q M E D T M S S T T T L T T P Q N Q V D M L L Q E M A D E A G L D L N M E L P Q G Q T G S V G T S V A S A E Q D E L S Q R L A R L R D Q V                                                                                                                    sub-proteins\n"
     ]
    },
    {
     "name": "stderr",
     "output_type": "stream",
     "text": [
      "Getting protein lengths:   1%|          | 135/20504 [00:15<35:26,  9.58it/s]"
     ]
    },
    {
     "name": "stdout",
     "output_type": "stream",
     "text": [
      "Protein Q99614 has M G E K S E N C G V P E D L L N G L K V T D T Q E A E C A G P P V P D P K N Q H S Q S K L L R D D E A H L Q E D Q G E E E C F H D C S A S F E E E P G A D K V E N K S N E D V N S S E L D E E Y L I E L E K N M S D E E K Q K R R E E S T R L K E E G N E Q F K K G D Y I E A E S S Y S R A L E M C P S C F Q K E R S I L F S N R A A A R M K Q D K K E M A I N D C S K A I Q L N P S Y I R A I L R R A E L Y E K T D K L D E A L E D Y K S I L E K D P S I H Q A R E A C M R L P K Q I E E R N E R L K E E M L G K L K D L G N  sub-proteins\n",
      "Protein Q9NUQ2 has M L L S L V L H T Y S M R Y L L P S V V L L G T A P T Y V L A W G V W R L L S A F L P A R F Y Q A L D D R L Y C V Y Q S M V L F F F E N Y T G V Q I L L Y G D L P K N K E N I I Y L A N H Q S T V D W I V A D I L A I R Q N A L G H V R Y V L K E G L K W L P L Y G C Y F A Q H G G I Y V K R S A K F N E K E M R N K L Q S Y V D A G T P M Y L V I F P E G T R Y N P E Q T K V L S A S Q A F A A Q R G L A V L K H V L T P R I K A T H V A F D C M K N Y L D A I Y D V T V V Y E G K D D G G Q R R E S P T M T E F L C K E C P  sub-proteins\n",
      "Protein P32519 has M A A V V Q Q N D L V F E F A S N V M E D E R Q L G D P A I F P A V I V E H V P G A D I L N S Y A G L A C V E E P N D M I T E S S L D V A E E E I I D D D D D D I T L T V E A S C H D G D E T I E T I E A A E A L L N M D S P G P M L D E K R I N N N I F S S P E D D M V V A P V T H V S V T L D G I P E V M E T Q Q V Q E K Y A D S P G A S S P E Q P K R K K G R K T K P P R P D S P A T T P N I S V K K K N K D G K G N T I Y L W E F L L A L L Q D K A T C P K Y I K W T Q R E K G I F K L V D S K A V S R L W G K H K N K  sub-proteins\n"
     ]
    },
    {
     "name": "stderr",
     "output_type": "stream",
     "text": [
      "Getting protein lengths:   1%|          | 139/20504 [00:16<40:50,  8.31it/s]"
     ]
    },
    {
     "name": "stdout",
     "output_type": "stream",
     "text": [
      "Protein O60306 has M A A P A Q P K K I V A P T V S Q I N A E F V T Q L A C K Y W A P H I K K K S P F D I K V I E D I Y E K E I V K S R F A I R K I M L L E F S Q Y L E N Y L W M N Y S P E V S S K A Y L M S I C C M V N E K F R E N V P A W E I F K K K P D H F P F F F K H I L K A A L A E T D G E F S L H E Q T V L L L F L D H C F N S L E V D L I R S Q V Q Q L I S L P M W M G L Q L A R L E L E L K K T P K L R K F W N L I K K N D E K M D P E A R E Q A Y Q E R R F L S Q L I Q K F I S V L K S V P L S E P V T M D K V H Y C E R F I E L  sub-proteins\n",
      "Protein Q5FYA8 has M T R N A R P N I V L L M A D D L G V G D L C C Y G N N S V S T P N I D R L A S E G V R L T Q H L A A A S M C T P S R A A F L T G R Y P I R S G M V S A Y N L N R A F T W L G G S G G L P T N E T T F A K L L Q H R G Y R T G L I G K W H L G L S C A S R N D H C Y H P L N H G F H Y F Y G V P F G L L S D C Q A S K T P E L H R W L R I K L W I S T V A L A L V P F L L L I P K F A R W F S V P W K V I F V F A L L A F L F F T S W Y S S Y G F T R R W N C I L M R N H E I I Q Q P M K E E K V A S L M L K E A L A F I E R Y  sub-proteins\n",
      "Protein Q14409 has M A A S K K A V L G P L V G A V D Q G T S S T R F L V F N S R T A E L L S H H Q V E I K Q E F P R E G W V E Q D P K E I L H S V Y E C I E K T C E K L G Q L N I G I S N I K A I G V S N Q R E T T V V W D K I T G E P L Y N A V V W L D L R T Q S T V E S L S K R I P G N N N F V K S K T G L P L S T Y F S A V K L R W L L D N V R K V Q K A V E E K R A L F G T I D S W L I W S L T G G V N G G V H C T D V T N A S R T M L F N I H S L E W D K Q L C E F F G I P M E I L P H V R S S S E I Y G L M K A G A L E G V P I S G C  sub-proteins\n",
      "Protein P04085 has M R T L A C L L L L G C G Y L A H V L A E E A E I P R E V I E R L A R S Q I H S I R D L Q R L L E I D S V G S E D S L D T S L R A H G V H A T K H V P E K R P L P I R R K R S I E E A V P A V C K T R T V I Y E I P R S Q V D P T S A N F L I W P P C V E V K R C T G C C N T S S V K C Q P S R V H H R S V K V A K V E Y V R K K P K L K E V Q V R L E E H L E C A C A T T S L N P D Y R E E D T G R P R E S G K K R K R K R L K P T                                                                                            sub-proteins\n"
     ]
    },
    {
     "name": "stderr",
     "output_type": "stream",
     "text": [
      "Getting protein lengths:   1%|          | 141/20504 [00:16<48:27,  7.00it/s]"
     ]
    },
    {
     "name": "stdout",
     "output_type": "stream",
     "text": [
      "Protein Q14593 has M S S A P R G P P S V A P L P A G I G R S T A K T P G L P G S L E M G P L T F R D V A I E F S L E E W Q C L D T S Q Q N L Y R N V M L D N Y R N L V F L G I A V S K P D L I T C L E Q G K E P C N M K R H A M V A K P P V V C S H F A Q D L W P K Q G L K D S F Q K V I L R R Y G K Y G H E N L Q L R K G C K S A D E H K V H K R G Y N G L N Q C L T T T Q S K I F Q C D K Y V K V L H K F S N S N I H K K R Q T G K K P F K C K E C G K S C C I L S Q L T Q H K K T A T R V N F Y K C K T C G K A F N Q F S N L T K H K I I H  sub-proteins\n",
      "Protein P20823 has M V S K L S Q L Q T E L L A A L L E S G L S K E A L I Q A L G E P G P Y L L A G E G P L D K G E S C G G G R G E L A E L P N G L G E T R G S E D E T D D D G E D F T P P I L K E L E N L S P E E A A H Q K A V V E T L L Q E D P W R V A K M V K S Y L Q Q H N I P Q R E V V D T T G L N Q S H L S Q H L N K G T P M K T Q K R A A L Y T W Y V R K Q R E V A Q Q F T H A G Q G G L I E E P T G D E L P T K K G R R N R F K W G P A S Q Q I L F Q A Y E R Q K N P S K E E R E T L V E E C N R A E C I Q R G V S P S Q A Q G L G S  sub-proteins\n",
      "Protein Q9BYQ5 has M V S S C C G S V C S D Q G C G L E T C C R P S C C Q T T C C R T T C C R P S C C V S S C C R P Q C C Q S V C C Q P T C C R P S C C P S C C Q T T C C R T T C C R P S C C V S S C C R P Q C C Q S V C C Q P T C C R P S C S I S S C C R P S C C V S R C C R S Q C C Q S V C C Q P T C C R P S C C I S S C C R P S C C E S S C C R P C C C R P C C C L R P V C G R V S C H T T C Y R P T C V I S T C P R P L C C A S S C C                                                                                                        sub-proteins\n",
      "Protein Q02577 has M M L S P D Q A A D S D H P S S A H S D P E S L G G T D T K V L G S V S D L E P V E E A E G D G K G G S R A A L Y P H P Q Q L S R E E K R R R R R A T A K Y R S A H A T R E R I R V E A F N L A F A E L R K L L P T L P P D K K L S K I E I L R L A I C Y I S Y L N H V L D V                                                                                                                                                                                                                                                    sub-proteins\n"
     ]
    },
    {
     "name": "stderr",
     "output_type": "stream",
     "text": [
      "Getting protein lengths:   1%|          | 144/20504 [00:17<44:16,  7.67it/s]"
     ]
    },
    {
     "name": "stdout",
     "output_type": "stream",
     "text": [
      "Protein Q6UXZ4 has M G R A A A T A G G G G G A R R W L P W L G L C F W A A G T A A A R G T D N G E A L P E S I P S A P G T L P H F I E E P D D A Y I I K S N P I A L R C K A R P A M Q I F F K C N G E W V H Q N E H V S E E T L D E S S G L K V R E V F I N V T R Q Q V E D F H G P E D Y W C Q C V A W S H L G T S K S R K A S V R I A Y L R K N F E Q D P Q G R E V P I E G M I V L H C R P P E G V P A A E V E W L K N E E P I D S E Q D E N I D T R A D H N L I I R Q A R L S D S G N Y T C M A A N I V A K R R S L S A T V V V Y V N G G W S  sub-proteins\n",
      "Protein Q8N0V5 has M M G S W K H C L F S A S L I S A L I F V F V Y N T E L W E N K R F L R A A L S N A S L L A E A C H Q I F E G K V F Y P T E N A L K T T L D E A T C Y E Y M V R S H Y V T E T L S E E E A G F P L A Y T V T I H K D F G T F E R L F R A I Y M P Q N V Y C V H L D Q K A T D A F K G A V K Q L L S C F P N A F L A S K K E S V V Y G G I S R L Q A D L N C L E D L V A S E V P W K Y V I N T C G Q D F P L K T N R E I V Q Y L K G F K G K N I T P G V L P P D H A V G R T K Y V H Q E L L N H K N S Y V I K T T K L K T P P P H  sub-proteins\n",
      "Protein Q7Z444 has M E L P T K P G T F D L G L A T W S P S F Q G E T H R A Q A R R R D V G R Q L P E Y K A V V V G A S G V G K S A L T I Q L N H Q C F V E D H D P T I Q D S Y W K E L T L D S G D C I L N V L D T A G Q A I H R A L R D Q C L A V C D G V L G V F A L D D P S S L I Q L Q Q I W A T W G P H P A Q P L V L V G N K C D L V T T A G D A H A A A A A L A H S W G A H F V E T S A K T R Q G V E E A F S L L V H E I Q R V Q E A M A K E P M A R S C R E K T R H Q K A T C H C G C S V A                                                sub-proteins\n"
     ]
    },
    {
     "name": "stderr",
     "output_type": "stream",
     "text": [
      "Getting protein lengths:   1%|          | 147/20504 [00:17<38:35,  8.79it/s]"
     ]
    },
    {
     "name": "stdout",
     "output_type": "stream",
     "text": [
      "Protein Q6ZNJ1 has M A A S E R L Y E L W L L Y Y A Q K D L G Y L Q Q W L K A F V G A F K K S I S L S S L E P R R P E E A G A E V P L L P L D E L H V L A E Q L H Q A D L E Q A L L L L K L F I I L C R N L E N I E A G R G Q V L V P R V L A L L T K L V A E L K G C P P P Q G R G T Q L E N V A L H A L L L C E G L F D P Y Q T W R R Q R S G E V I S S K E K S K Y K F P P A A L P Q E F S A F F Q E S L Q N A D H L P P I L L L R L I H L F C A V L A G G K E N G Q M A V S D G S V K G L L S V V R G W S R G P A P D P C L V P L A L E A L V G  sub-proteins\n"
     ]
    },
    {
     "name": "stderr",
     "output_type": "stream",
     "text": [
      "Getting protein lengths:   1%|          | 152/20504 [00:17<32:31, 10.43it/s]"
     ]
    },
    {
     "name": "stdout",
     "output_type": "stream",
     "text": [
      "Protein Q9HDC9 has M S E A D G L R Q R R P L R P Q V V T D D D G Q A P E A K D G S S F S G R V F R V T F L M L A V S L T V P L L G A M M L L E S P I D P Q P L S F K E P P L L L G V L H P N T K L R Q A E R L F E N Q L V G P E S I A H I G D V M F T G T A D G R V V K L E N G E I E T I A R F G S G P C K T R D D E P V C G R P L G I R A G P N G T L F V A D A Y K G L F E V N P W K R E V K L L L S S E T P I E G K N M S F V N D L T V T Q D G R K I Y F T D S S S K W Q R R D Y L L L V M E G T D D G R L L E Y D T V T R E V K V L L D Q L  sub-proteins\n",
      "Protein Q3SY46 has M S Y N C C S R N F S S C S H G G Y L H Y P G S S C G S S Y P S N L V Y S T D L C S P S T C Q L G S S L Y R G C Q E T C W R P N S C Q T L C V E S S P C H T S C Y Y P R T H M L C N S C L T M H V G S R G F G S N S C C S L S C G S R S C S S L G C G S N G F R Y L N Y R I H T S P S Q S Y R S R F C H P I Y F P P R R W F H S S C Y Q P F C R S G F Y                                                                                                                                                                          sub-proteins\n",
      "Protein Q8WZ59 has M L G C G I P A L G L L L L L Q G S A D G N G I Q G F F Y P W S C E G D I W D R E S C G G Q A A I D S P N L C L R L R C C Y R N G V C Y H Q R P D E N V R R K H M W A L V W T C S G L L L L S C S I C L F W W A K R R D V L H M P G F L A G P C D M S K S V S L L S K H R G T K K T P S T G S V P V A L S K E S R D V E G G T E G E G T E E G E E T E G E E E E D                                                                                                                                                                sub-proteins\n",
      "Protein Q6PK57 has M P S C S P Q Q A S K A E E N G S N S F M H S M V P Q L E W Q M E T T Q S L V D S Y V A I V N K T V W D L M V G L T P K T I M H L M I N N N K E F I F S E L L A N L Y L H G D K N M L M E E S A E Q A Q R S                                                                                                                                                                                                                                                                                                                      sub-proteins\n",
      "Protein Q8TDC3 has M S S G A K E G G G G S P A Y H L P H P H P H P P Q H A Q Y V G P Y R L E K T L G K G Q T G L V K L G V H C I T G Q K V A I K I V N R E K L S E S V L M K V E R E I A I L K L I E H P H V L K L H D V Y E N K K Y L Y L V L E H V S G G E L F D Y L V K K G R L T P K E A R K F F R Q I V S A L D F C H S Y S I C H R D L K P E N L L L D E K N N I R I A D F G M A S L Q V G D S L L E T S C G S P H Y A C P E V I K G E K Y D G R R A D M W S C G V I L F A L L V G A L P F D D D N L R Q L L E K V K R G V F H M P H F I P P  sub-proteins\n",
      "Protein Q6ZS49 has M E I S C T S Q G F F F L K E H S S G V S S V K A A Q M P G R T L Y R S L C S C V F P L H S P T R P P S P A S A P K G F L L L S P T S S N A S K L M P Y Y L F H R S R G V D N S K I S V L I L L G C E L E Q T K K K K L G P A T A L G N S G R V E                                                                                                                                                                                                                                                                                sub-proteins\n",
      "Protein A0A494C193 has M G I F Q L L R D R R I S S R G P G L H T P K A E T R R R K G L T T G L M T Q A E R Q K Q A H Q R Q A A M R E T A L W C T G H I R P R T H T H T G T H T Q T D R E R E R N T Q R L R D R E R R E N G R H T H T Y T H R H T H R V L                                                                                                                                                                                                                                                                                                sub-proteins\n",
      "Protein Q8N0Y3 has M K I A N N T V V T E F I L L G L T Q S Q D I Q L L V F V L I L I F Y L I I L P G N F L I I F T I R S D P G L T A P L Y L F L G N L A F L D A S Y S F I V A P R M L V D F L S E K K V I S Y R G C I T Q L F F L H F L G G G E G L L L V V M A F D R Y I A I C R P L H C S T V M N P R A C Y A M M L A L W L G G F V H S I I Q V V L I L R L P F C G P N Q L D N F F C D V R Q V I K L A C T D M F V V E L L M V F N S G L M T L L C F L G L L A S Y A V I L C H V R R A A S E G K N K A M S T C T T R V I I I L L M F G P A I F  sub-proteins\n"
     ]
    },
    {
     "name": "stderr",
     "output_type": "stream",
     "text": [
      "Getting protein lengths:   1%|          | 160/20504 [00:18<24:51, 13.64it/s]"
     ]
    },
    {
     "name": "stdout",
     "output_type": "stream",
     "text": [
      "Protein Q13177 has M S D N G E L E D K P P A P P V R M S S T I F S T G G K D P L S A N H S L K P L P S V P E E K K P R H K I I S I F S G T E K G S K K K E K E R P E I S P P S D F E H T I H V G F D A V T G E F T G M P E Q W A R L L Q T S N I T K L E Q K K N P Q A V L D V L K F Y D S N T V K Q K Y L S F T P P E K D G F P S G T P A L N A K G T E A P A V V T E E E D D D E E T A P P V I A P R P D H T K S I Y T R S V I D P V P A P V G D S H V D G A A K S L D K Q K K K T K M T D E E I M E K L R T I V S I G D P K K K Y T R Y E K I G  sub-proteins\n",
      "Protein O15172 has M A S A S C S P G G A L A S P E P G R K I L P R M I S H S E L R K L F Y S A D A V C F D V D S T V I S E E G I G C F H W I W R K C D Q A T S Q G                                                                                                                                                                                                                                                                                                                                                                                  sub-proteins\n",
      "Protein Q13639 has M D K L D A N V S S E E G F G S V E K V V L L T F L S T V I L M A I L G N L L V M V A V C W D R Q L R K I K T N Y F I V S L A F A D L L V S V L V M P F G A I E L V Q D I W I Y G E V F C L V R T S L D V L L T T A S I F H L C C I S L D R Y Y A I C C Q P L V Y R N K M T P L R I A L M L G G C W V I P T F I S F L P I M Q G W N N I G I I D L I E K R K F N Q N S N S T Y C V F M V N K P Y A I T C S V V A F Y I P F L L M V L A Y Y R I Y V T A K E H A H Q I Q M L Q R A G A S S E S R P Q S A D Q H S T H R M R T E T K  sub-proteins\n",
      "Protein P25063 has M G R A M V A R L G L G L L L L A L L L P T Q I Y S S E T T T G T S S N S S Q S T S N S G L A P N P T N A T T K A A G G A L Q S T A S L F V V S L S L L H L Y S                                                                                                                                                                                                                                                                                                                                                                  sub-proteins\n",
      "Protein Q8IZE3 has M G S E N S A L K S Y T L R E P P F T L P S G L A V Y P A V L Q D G K F A S V F V Y K R E N E D K V N K A A K H L K T L R H P C L L R F L S C T V E A D G I H L V T E R V Q P L E V A L E T L S S A E V C A G I Y D I L L A L I F L H D R G H L T H N N V C L S S V F V S E D G H W K L G G M E T V C K V S Q A T P E F L R S I Q S I R D P A S I P P E E M S P E F T T L P E C H G H A R D A F S F G T L V E S L L T I L N E Q V S A D V L S S F Q Q T L H S T L L N P I P K C R P A L C T L L S H D F F R N D F L E V V N F L  sub-proteins\n",
      "Protein P61578 has M N P S E M Q R K A P P R R R R H R N R A P S S H K M N K M M M S E E Q M K L P S T N K A E P L T W A Q L N K L T Q L A T K C L E N T K M T Q T P E S M L L A A L M I V S T V S A G V P N S S E E T V T I E N G P                                                                                                                                                                                                                                                                                                                sub-proteins\n"
     ]
    },
    {
     "name": "stderr",
     "output_type": "stream",
     "text": [
      "Getting protein lengths:   1%|          | 164/20504 [00:18<29:46, 11.38it/s]"
     ]
    },
    {
     "name": "stdout",
     "output_type": "stream",
     "text": [
      "Protein Q9Y223 has M E K N G N N R K L R V C V A T C N R A D Y S K L A P I M F G I K T E P E F F E L D V V V L G S H L I D D Y G N T Y R M I E Q D D F D I N T R L H T I V R G E D E A A M V E S V G L A L V K L P D V L N R L K P D I M I V H G D R F D A L A L A T S A A L M N I R I L H I E G G E V S G T I D D S I R H A I T K L A H Y H V C C T R S A E Q H L I S M C E D H D R I L L A G C P S Y D K L L S A K N K D Y M S I I R M W L G D D V K S K D Y I V A L Q H P V T T D I K H S I K M F E L T L D A L I S F N K R T L V L F P N I D A  sub-proteins\n",
      "Protein Q9UHW9 has M H P P E T T T K M A S V R F M V T P T K I D D I P G L S D T S P D L S S R S S S R V R F S S R E S V P E T S R S E P M S E M S G A T T S L A T V A L D P P S D R T S H P Q D V I E D L S Q N S I T G E H S Q L L D D G H K K A R N A Y L N N S N Y E E G D E Y F D K N L A L F E E E M D T R P K V S S L L N R M A N Y T N L T Q G A K E H E E A E N I T E G K K K P T K T P Q M G T F M G V Y L P C L Q N I F G V I L F L R L T W V V G T A G V L Q A F A I V L I C C C C T M L T A I S M S A I A T N G V V P A G G S Y F M I  sub-proteins\n",
      "Protein Q6NSW5 has M A A A E L A D T Q L M L G V G L I E K D T N G E V L W V W C Y P S T T A T L R N L L L R K C C L T D E N K L L H P F V F G Q Y R R T W F Y I T I I E V P D S S I L K K V T H F S I V L T A K D F N P E K Y A A F T R I L C R M Y L K H G S P V K M M E S Y I A V L T K G I C Q S E E N G S F L S K D F D A R K A Y P A G S I K D I V S Q F G M E T V I L H T A L M L K K R I V V Y H P K I E A V Q E F T R T L P A L V W H R Q D W T I L H S Y V H L N A D E L E A L Q M C T G Y V A G F V D L E V S N R P D L Y D V F V N L A  sub-proteins\n"
     ]
    },
    {
     "name": "stderr",
     "output_type": "stream",
     "text": [
      "Getting protein lengths:   1%|          | 166/20504 [00:18<33:08, 10.23it/s]"
     ]
    },
    {
     "name": "stdout",
     "output_type": "stream",
     "text": [
      "Protein P04080 has M M C G A P S A T Q P A T A E T Q H I A D Q V R S Q L E E K E N K K F P V F K A V S F K S Q V V A G T N Y F I K V H V G D E D F V H L R V F Q S L P H E N K P L T L S N Y Q T N K A K H D E L T Y F                                                                                                                                                                                                                                                                                                                              sub-proteins\n",
      "Protein P15884 has M H H Q Q R M A A L G T D K E L S D L L D F S A M F S P P V S S G K N G P T S L A S G H F T G S N V E D R S S S G S W G N G G H P S P S R N Y G D G T P Y D H M T S R D L G S H D N L S P P F V N S R I Q S K T E R G S Y S S Y G R E S N L Q G C H Q Q S L L G G D M D M G N P G T L S P T K P G S Q Y Y Q Y S S N N P R R R P L H S S A M E V Q T K K V R K V P P G L P S S V Y A P S A S T A D Y N R D S P G Y P S S K P A T S T F P S S F F M Q D G H H S S D P W S S S S G M N Q P G Y A G M L G N S S H I P Q S S S Y C S  sub-proteins\n",
      "Protein Q05329 has M A S P G S G F W S F G S E D G S G D S E N P G T A R A W C Q V A Q K F T G G I G N K L C A L L Y G D A E K P A E S G G S Q P P R A A A R K A A C A C D Q K P C S C S K V D V N Y A F L H A T D L L P A C D G E R P T L A F L Q D V M N I L L Q Y V V K S F D R S T K V I D F H Y P N E L L Q E Y N W E L A D Q P Q N L E E I L M H C Q T T L K Y A I K T G H P R Y F N Q L S T G L D M V G L A A D W L T S T A N T N M F T Y E I A P V F V L L E Y V T L K K M R E I I G W P G G S G D G I F S P G G A I S N M Y A M M I A R F  sub-proteins\n"
     ]
    },
    {
     "name": "stderr",
     "output_type": "stream",
     "text": [
      "Getting protein lengths:   1%|          | 168/20504 [00:19<31:00, 10.93it/s]"
     ]
    },
    {
     "name": "stdout",
     "output_type": "stream",
     "text": [
      "Protein A0A1W2PN81 has M R C S P G G V W L A L A A S L L H V S L Q G E F Q R K L Y K E L V K N Y N P L E R P V A N D S Q P L T V Y F S L S L L Q I M D V D Q K R Q V L T T N I W L Q M S W T D H Y L Q W N V S E Y P G V K T V R F P D G Q I W K P D I L L Y N S A D E R F D A T F H T N V L V N S S G H C Q Y L P P G I F K S S C Y I D V R W F P F D V Q H C K L K F G S W S Y G G W S L D L Q M Q E A D I S G Y I P N G E W D L V G I P G K R S E R F Y E C C K E P Y P D V T F T V T M R R R T L Y Y G L N L L I P C V L I S A L A L L V F L L P A  sub-proteins\n"
     ]
    },
    {
     "name": "stderr",
     "output_type": "stream",
     "text": [
      "Getting protein lengths:   1%|          | 170/20504 [00:19<36:53,  9.19it/s]"
     ]
    },
    {
     "name": "stdout",
     "output_type": "stream",
     "text": [
      "Protein Q14123 has M E S P T K E I E E F E S N S L K Y L Q P E Q I E K I W L R L R G L R K Y K K T S Q R L R S L V K Q L E R G E A S V V D L K K N L E Y A A T V L E S V Y I D E T R R L L D T E D E L S D I Q S D A V P S E V R D W L A S T F T R Q M G M M L R R S D E K P R F K S I V H A V Q A G I F V E R M Y R R T S N M V G L S Y P P A V I E A L K D V D K W S F D V F S L N E A S G D H A L K F I F Y E L L T R Y D L I S R F K I P I S A L V S F V E A L E V G Y S K H K N P Y H N L M H A A D V T Q T V H Y L L Y K T G V A N W L T E L  sub-proteins\n",
      "Protein Q2VPK5 has M C Q V G E D Y G E P A P E E P P P A P R P S R E Q K C V K C K E A Q P V V V I R A G D A F C R D C F K A F Y V H K F R A M L G K N R L I F P G E K V L L A W S G G P S S S S M V W Q V L E G L S Q D S A K R L R F V A G V I F V D E G A A C G Q S L E E R S K T L A E V K P I L Q A T G F P W H V V A L E E V F S L P P S V L W C S A Q E L V G S E G A Y K A A V D S F L Q Q Q H V L G A G G G P G P T Q G E E Q P P Q P P L D P Q N L A R P P A P A Q T E A L S Q L F C S V R T L T A K E E L L Q T L R T H L I L H M A R A  sub-proteins\n"
     ]
    },
    {
     "name": "stderr",
     "output_type": "stream",
     "text": [
      "Getting protein lengths:   1%|          | 172/20504 [00:19<45:49,  7.40it/s]"
     ]
    },
    {
     "name": "stdout",
     "output_type": "stream",
     "text": [
      "Protein O00468 has M A G R S H P G P L R P L L P L L V V A A C V L P G A G G T C P E R A L E R R E E E A N V V L T G T V E E I L N V D P V Q H T Y S C K V R V W R Y L K G K D L V A R E S L L D G G N K V V I S G F G D P L I C D N Q V S T G D T R I F F V N P A P P Y L W P A H K N E L M L N S S L M R I T L R N L E E V E F C V E D K P G T H F T P V P P T P P D A C R G M L C G F G A V C E P N A E G P G R A S C V C K K S P C P S V V A P V C G S D A S T Y S N E C E L Q R A Q C S Q Q R R I R L L S R G P C G S R D P C S N V T C S F G  sub-proteins\n",
      "Protein Q9UK08 has M S N N M A K I A E A R K T V E Q L K L E V N I D R M K V S Q A A A E L L A F C E T H A K D D P L V T P V P A A E N P F R D K R L F C V L L                                                                                                                                                                                                                                                                                                                                                                                      sub-proteins\n",
      "Protein Q658K8 has M A T N F L V G E K I W F H K F K Y G D A E R R F Y E Q M N G P V A G A S L Q E A S M I L H D I A R A R E N I P K S L A G S L G P G A S S G P S G D H S E L V V R I A S L E V D N Q R D L A E R A G E E L A R P L G H S P A D P A H V S H A P S G A P G Q E A S H T S R G                                                                                                                                                                                                                                                        sub-proteins\n"
     ]
    },
    {
     "name": "stderr",
     "output_type": "stream",
     "text": [
      "Getting protein lengths:   1%|          | 177/20504 [00:20<40:18,  8.41it/s]"
     ]
    },
    {
     "name": "stdout",
     "output_type": "stream",
     "text": [
      "Protein Q14839 has M A S G L G S P S P C S A G S E E E D M D A L L N N S L P P P H P E N E E D P E E D L S E T E T P K L K K K K K P K K P R D P K I P K S K R Q K K E R M L L C R Q L G D S S G E G P E F V E E E E E V A L R S D S E G S D Y T P G K K K K K K L G P K K E K K S K S K R K E E E E E E D D D D D S K E P K S S A Q L L E D W G M E D I D H V F S E E D Y R T L T N Y K A F S Q F V R P L I A A K N P K I A V S K M M M V L G A K W R E F S T N N P F K G S S G A S V A A A A A A A V A V V E S M V T A T E V A P P P P P V E V P  sub-proteins\n",
      "Protein Q9H8V8 has M K P D W P R R G A A G T R V R S R G E G D G T Y F A R R G A G R R R R E I K A P I R A A W S P P S A A M S G L Q S G R R W R P Q G T G T G A R A A G A L A A L R L G P R L R A A P L L A P L W L L A P T P D S H M T P A P L A L R A S R G W R E N N L S D Y Q Y S W M Q K C                                                                                                                                                                                                                                                    sub-proteins\n",
      "Protein A1L157 has M A H Y K T E Q D D W L I I Y L K Y L L F V F N F F F W V G G A A V L A V G I W T L V E K S G Y L S V L A S S T F A A S A Y I L I F A G V L V M V T G F L G F G A I L W E R K G C L S T Y F C L L L V I F L V E L V A G V L A H V Y Y Q R L S D E L K Q H L N R T L A E N Y G Q P G A T Q I T A S V D R L Q Q D F K C C G S N S S A D W Q H S T Y I L L R E A E G R Q V P D S C C K T V V V R C G Q R A H P S N I Y K V E G G C L T K L E Q F L A D H L L L M G A V G I G V A C L Q I C G M V L T C C L H Q R L Q R H F Y        sub-proteins\n",
      "Protein Q8N9N5 has M M S E H D L A D V V Q I A V E D L S P D H P V V L E N H V V T D E D E P A L K R Q R L E I N C Q D P S I K T I C L R L D S I E A K L Q A L E A T C K S L E E K L D L V T N K Q H S P I Q V P M V A G S P L G A T Q T C N K V R C V V P Q T T V I L N N D R Q N A I V A K M E D P L S N R A P D S L E N V I S N A V P G R R Q N T I V V K V P G Q E D S H H E D G E S G S E A S D S V S S C G Q A G S Q S I G S N V T L I T L N S E E D Y P N G T W L G D E N N P E M R V R C A I I P S D M L H I S T N C R T A E K M A L T L L  sub-proteins\n"
     ]
    },
    {
     "name": "stderr",
     "output_type": "stream",
     "text": [
      "Getting protein lengths:   1%|          | 179/20504 [00:20<45:43,  7.41it/s]"
     ]
    },
    {
     "name": "stdout",
     "output_type": "stream",
     "text": [
      "Protein Q75T13 has M F L H S V N L W N L A F Y V F M V F L A T L G L W D V F F G F E E N K C S M S Y M F E Y P E Y Q K I E L P K K L A K R Y P A Y E L Y L Y G E G S Y A E E H K I L P L T G I P V L F L P G N A G S Y K Q V R S I G S I A L R K A E D I D F K Y H F D F F S V N F N E E L V A L Y G G S L Q K Q T K F V H E C I K T I L K L Y K G Q E F A P K S V A I I G H S M G G L V A R A L L T L K N F K H D L I N L L I T Q A T P H V A P V M P L D R F I T D F Y T T V N N Y W I L N A R H I N L T T L S V A G G F R D Y Q V R S G L T F L  sub-proteins\n",
      "Protein Q8N370 has M A P T L A T A H R R R W W M A C T A V L E N L L F S A V L L G W G S L L I M L K S E G F Y S Y L C T E P E N V T N G T V G G T A E P G H E E V S W M N G W L S C Q A Q D E M L N L A F T V G S F L L S A I T L P L G I V M D K Y G P R K L R L L G S A C F A V S C L L I A Y G A S K P N A L S V L I F I A L A L N G F G G M C M T F T S L T L P N M F G D L R S T F I A L M I G S Y A S S A V T F P G I K L I Y D A G V S F I V V L V V W A G C S G L V F L N C F F N W P L E P F P G P E D M D Y S V K I K F S W L G F D H K  sub-proteins\n",
      "Protein P62917 has M G R V I R G Q R K G A G S V F R A H V K H R K G A A R L R A V D F A E R H G Y I K G I V K D I I H D P G R G A P L A K V V F R D P Y R F K K R T E L F I A A E G I H T G Q F V Y C G K K A Q L N I G N V L P V G T M P E G T I V C C L E E K P G D R G K L A R A S G N Y A T V I S H N P E T K K T R V K L P S G S K K V I S S A N R A V V G V V A G G G R I D K P I L K A G R A Y H K Y K A K R N C W P R V R G V A M N P V E H P F G G G N H Q H I G K P S T I R R D A P A G R K V G L I A A R R T G R L R G T K T V Q E K E  sub-proteins\n",
      "Protein Q13064 has M E E P A A P S E A H E A A G A Q A G A E A A R E G V S G P D L P V C E P S G E S A A P D S A L P H A A R G W A P F P V A P V P A H L R R G G L R P A P A S G G G A W P S P L P S R S S G I W T K Q I I C R Y Y I H G Q C K E G E N C R Y S H D L S G R K M A T E G G V S P P G A S A G G G P S T A A H I E P P T Q E V A E A P P A A S S L S L P V I G S A A E R G F F E A E R D N A D R G A A G G A G V E S W A D A I E F V P G Q P Y R G R W V A S A P E A P L Q S S E T E R K Q M A V G S G L R F C Y Y A S R G V C F R G E  sub-proteins\n"
     ]
    },
    {
     "name": "stderr",
     "output_type": "stream",
     "text": [
      "Getting protein lengths:   1%|          | 184/20504 [00:21<35:43,  9.48it/s]"
     ]
    },
    {
     "name": "stdout",
     "output_type": "stream",
     "text": [
      "Protein Q9Y580 has M G A A A A E A D R T L F V G N L E T K V T E E L L F E L F H Q A G P V I K V K I P K D K D G K P K Q F A F V N F K H E V S V P Y A M N L L N G I K L Y G R P I K I Q F R S G S S H A P Q D V S L S Y P Q H H V G N S S P T S T S P S R Y E R T M D N M T S S A Q I I Q R S F S S P E N F Q R Q A V M N S A L R Q M S Y G G K F G S S P L D Q S G F S P S V Q S H S H S F N Q S S S S Q W R Q G T P S S Q R K V R M N S Y P Y L A D R H Y S R E Q R Y T D H G S D H H Y R G K R D D F F Y E D R N H D D W S H D Y D N R R D S S  sub-proteins\n",
      "Protein O15232 has M P R P A P A R R L P G L L L L L W P L L L L P S A A P D P V A R P G F R R L E T R G P G G S P G R R P S P A A P D G A P A S G T S E P G R A R G A G V C K S R P L D L V F I I D S S R S V R P L E F T K V K T F V S R I I D T L D I G P A D T R V A V V N Y A S T V K I E F Q L Q A Y T D K Q S L K Q A V G R I T P L S T G T M S G L A I Q T A M D E A F T V E A G A R E P S S N I P K V A I I V T D G R P Q D Q V N E V A A R A Q A S G I E L Y A V G V D R A D M A S L K M M A S E P L E E H V F Y V E T Y G V I E K L S S  sub-proteins\n",
      "Protein Q9BVS5 has M L M A W C R G P V L L C L R Q G L G T N S F L H G L G Q E P F E G A R S L C C R S S P R D L R D G E R E H E A A Q R K A P G A E S C P S L P L S I S D I G T G C L S S L E N L R L P T L R E E S S P R E L E D S S G D Q G R C G P T H Q G S E D P S M L S Q A Q S A T E V E E R H V S P S C S T S R E R P F Q A G E L I L A E T G E G E T K F K K L F R L N N F G L L N S N W G A V P F G K I V G K F P G Q I L R S S F G K Q Y M L R R P A L E D Y V V L M K R G T A I T F P K D I N M I L S M M D I N P G D T V L E A G S G  sub-proteins\n",
      "Protein Q9BTC8 has M A A N M Y R V G D Y V Y F E N S S S N P Y L I R R I E E L N K T A S G N V E A K V V C F Y R R R D I S N T L I M L A D K H A K E I E E E S E T T V E A D L T D K Q K H Q L K H R E L F L S R Q Y E S L P A T H I R G K C S V A L L N E T E S V L S Y L D K E D T F F Y S L V Y D P S L K T L L A D K G E I R V G P R Y Q A D I P E M L L E G E S D E R E Q S K L E V K V W D P N S P L T D R Q I D Q F L V V A R A V G T F A R A L D C S S S V R Q P S L H M S A A A A S R D I T L F H A M D T L Y R H S Y D L S S A I S V L V  sub-proteins\n"
     ]
    },
    {
     "name": "stderr",
     "output_type": "stream",
     "text": [
      "Getting protein lengths:   1%|          | 189/20504 [00:21<31:58, 10.59it/s]"
     ]
    },
    {
     "name": "stdout",
     "output_type": "stream",
     "text": [
      "Protein P25440 has M L Q N V T P H N K L P G E G N A G L L G L G P E A A A P G K R I R K P S L L Y E G F E S P T M A S V P A L Q L T P A N P P P P E V S N P K K P G R V T N Q L Q Y L H K V V M K A L W K H Q F A W P F R Q P V D A V K L G L P D Y H K I I K Q P M D M G T I K R R L E N N Y Y W A A S E C M Q D F N T M F T N C Y I Y N K P T D D I V L M A Q T L E K I F L Q K V A S M P Q E E Q E L V V T I P K N S H K K G A K L A A L Q G S V T S A H Q V P A V S S V S H T A L Y T P P P E I P T T V L N I P H P S V I S S P L L K S L H S  sub-proteins\n",
      "Protein Q8WU68 has M A E Y L A S I F G T E K D K V N C S F Y F K I G V C R H G D R C S R L H N K P T F S Q T I V L L N L Y R N P Q N T A Q T A D G S H C H V S D V E V Q E H Y D S F F E E V F T E L Q E K Y G E I E E M N V C D N L G D H L V G N V Y V K F R R E E D G E R A V A E L S N R W F N G Q A V H G E L S P V T D F R E S C C R Q Y E M G E C T R G G F C N F M H L R P I S Q N L Q R Q L Y G R G P R R R S P P R F H T G H H P R E R N H R C S P D H W H G R F                                                                          sub-proteins\n",
      "Protein Q8NH61 has M T E T S L S S Q C F P M S V L N N T I A E P L I F L L M G I P G L K A T Q Y W I S I P F C L L Y V V A V S G N S M I L F V V L C E R S L H K P M Y Y F L S M L S A T D L S L S L C T L S T T L G V F W F E A R E I N L N A C I A Q M F F L H G F T F M E S G V L L A M A F D R F V A I C Y P L R Y T T I L T N A R I A K I G M S M L I R N V A V M L P V M L F V K R L S F C S S M V L S H S Y C Y H V D L I Q L S C T D N R I N S I L G L F A L L S T T G F D C P C I L L S Y I L I I R S V L S I A S S E E R R K A F N T C T  sub-proteins\n",
      "Protein Q86YH2 has M E Q S C E E E K E P E P Q K N I Q E T K Q V D D E D A E L I F V G V E H V N E D A E L I F V G V T S N S K P V V S N I L N R V T P G S W S R R K K Y D H L R K D T A R K L Q P K S H E T V T S E A V T V L P A S Q L E S R S T D S P I I I E P L S K P D Y R N S S P Q V V P N N S S E L P S P L I T F T D S L H H P V S T A L S V G G I N E S P R V S K Q L S T F E V N S I N P K R A K L R D G I I E G N S S A S F P S D T F H T M N T Q Q S T P S N N V H T S L S H V Q N G A P F P A A F P K D N I H F K P I N T N L D R E  sub-proteins\n",
      "Protein Q0VF49 has M F T L S L L S R G H G K L G Q D K Q K L E V Y F E P E D Y L N W R S P E D Y V P V S K P Q D K N N A S Q H S W S L F L P K T F S T R K G A L I L Y S E G F A I S A W T P K E R R K G P Y C P R G P W R K L D L E L H T L Q D L K E A I L A Y G R Q Q G E Q D R A W Q P Y L H F R S Q L E S Q A Q R Q I Q P G H S A K R Y L R G L L R T W P P D A M Y R L W C A G Y I K D S V L L Q D S Q L N V P K K L R P Q Q D L S G V P P K Y H L L P V F P S F W I Q Q G K S F E Q R Q Q G L D E G E A G A A G H V D Q G P L A K N H G S Q  sub-proteins\n"
     ]
    },
    {
     "name": "stderr",
     "output_type": "stream",
     "text": [
      "Getting protein lengths:   1%|          | 194/20504 [00:22<35:21,  9.57it/s]"
     ]
    },
    {
     "name": "stdout",
     "output_type": "stream",
     "text": [
      "Protein Q6AI39 has M D D D D D S C L L D L I G D P Q A L N Y F L H G P S N K S S N D D L T N A G Y S A A N S N S I F A N S S N A D P K S S L K G V S N Q L G E G P S D G L P L S S S L Q F L E D E L E S S P L P D L T E D Q P F D I L Q K S L Q E A N I T E Q T L A E E A Y L D A S I G S S Q Q F A Q A Q L H P S S S A S F T Q A S N V S N Y S G Q T L Q P I G V T H V P V G A S F A S N T V G V Q H G F M Q H V G I S V P S Q H L S N S S Q I S G S G Q I Q L I G S F G N H P S M M T I N N L D G S Q I I L K G S G Q Q A P S N V S G G L L V H  sub-proteins\n",
      "Protein Q49AM1 has M L W K L L L R S Q S C R L C S F R K M R S P P K Y R P F L A C F T Y T T D K Q S S K E N T R T V E K L Y K C S V D I R K I R R L K G W V L L E D E T Y V E E I A N I L Q E L G A D E T A V A S I L E R C P E A I V C S P T A V N T Q R K L W Q L V C K N E E E L I K L I E Q F P E S F F T I K D Q E N Q K L N V Q F F Q E L G L K N V V I S R L L T A A P N V F H N P V E K N K Q M V R I L Q E S Y L D V G G S E A N M K V W L L K L L S Q N P F I L L N S P T A I K E T L E F L Q E Q G F T S F E I L Q L L S K L K G F L F  sub-proteins\n",
      "Protein O95257 has M T L E E V R G Q D T V P E S T A R M Q G A G K A L H E L L L S A Q R Q G C L T A G V Y E S A K V L N V D P D N V T F C V L A A G E E D E G D I A L Q I H F T L I Q A F C C E N D I D I V R V G D V Q R L A A I V G A G E E A G A P G D L H C I L I S N P N E D A W K D P A L E K L S L F C E E S R S V N D W V P S I T L P E                                                                                                                                                                                                    sub-proteins\n",
      "Protein Q96M98 has M V A E K E T L S L N K C P D K M P K R T K L L A Q Q P L P V H Q P H S L V S E G F T V K A M M K N S V V R G P P A A G A F K E R P T K P T A F R K F Y E R G D F P I A L E H D S K G N K I A W K V E I E K L D Y H H Y L P L F F D G L C E M T F P Y E F F A R Q G I H D M L E H G G N K I L P V L P Q L I I P I K N A L N L R N R Q V I C V T L K V L Q H L V V S A E M V G K A L V P Y Y R Q I L P V L N I F K N M N G S Y S L P R L E C S G A I M A R C N L D H L G S S D P P T S A S Q V A E I I V N S G D G I D Y S Q Q K  sub-proteins\n",
      "Protein Q6ZUS5 has M T D L N K H I K Q A Q T Q R K Q L L E E S R E L H R E K L L V Q A E N R F F L E Y L T N K T E E Y T E Q P E K V W N S Y L Q K S G E I E R R R Q E S A S R Y A E Q I S V L K T A L L Q K E N I Q S S L K R K L Q A M R D I A I L K E K Q E K E I Q T L Q E E T K K V Q A E T A S K T R E V Q A Q L L Q E K R L L E K Q L S E P D R R L L G K R K R R E L N M K A Q A L K L A A K R F I F E Y S C G I N R E N Q Q F K K E L L Q L I E Q A Q K L T A T Q S H L E N R K Q Q L Q Q E Q W Y L E S L I Q A R Q R L Q G S H N Q C L N  sub-proteins\n"
     ]
    },
    {
     "name": "stderr",
     "output_type": "stream",
     "text": [
      "Getting protein lengths:   1%|          | 198/20504 [00:22<33:49, 10.01it/s]"
     ]
    },
    {
     "name": "stdout",
     "output_type": "stream",
     "text": [
      "Protein Q8IYI6 has M A M A M S D S G A S R L R R Q L E S G G F E A R L Y V K Q L S Q Q S D G D R D L Q E H R Q R I Q A L A E E T A Q N L K R N V Y Q N Y R Q F I E T A R E I S Y L E S E M Y Q L S H L L T E Q K S S L E S I P L T L L P A A A A A G A A A A S G G E E G V G G A G G R D H L R G Q A G F F S T P G G A S R D G S G P G E E G K Q R T L T T L L E K V E G C R H L L E T P G Q Y L V Y N G D L V E Y D A D H M A Q L Q R V H G F L M N D C L L V A T W L P Q R R G M Y R Y N A L Y S L D G L A V V N V K D N P P M K D M F K L L M F  sub-proteins\n",
      "Protein O75298 has M G Q V L P V F A H C K E A P S T A S S T P D S T E G G N D D S D F R E L H T A R E F S E E D E E E T T S Q D W G T P R E L T F S Y I A F D G V V G S G G R R D S T A R R P R P Q G R S V S E P R D Q H P Q P S L G D S L E S I P S L S Q S P E P G R R G D P D T A P P S E R P L E D L R L R L D H L G W V A R G T G S G E D S S T S S S T P L E D E E P Q E P N R L E T G E A G E E L D L R L R L A Q P S S P E V L T P Q L S P G S G T P Q A G T P S P S R S R D S N S G P E E P L L E E E E K Q W G P L E R E P V R G Q C L  sub-proteins\n",
      "Protein Q96Q27 has M T R F S Y A E Y F S L F H S C S A P S R S T A P P E S S P A R A P M G L F Q G V M Q K Y S S S L F K T S Q L A P A D P L I K A I K D G D E E A L K T M I K E G K N L A E P N K E G W L P L H E A A Y Y G Q V G C L K V L Q R A Y P G T I D Q R T L Q E E T A V Y L A T C R G H L D C L L S L L Q A G A E P D I S N K S R E T P L Y K A C E R K N A E A V K I L V Q H N A D T N H R C N R G W T A L H E S V S R N D L E V M Q I L V S G G A K V E S K N A Y G I T P L F V A A Q S G Q L E A L R F L A K Y G A D I N T Q A S D N  sub-proteins\n"
     ]
    },
    {
     "name": "stderr",
     "output_type": "stream",
     "text": [
      "Getting protein lengths:   1%|          | 200/20504 [00:23<43:49,  7.72it/s]"
     ]
    },
    {
     "name": "stdout",
     "output_type": "stream",
     "text": [
      "Protein P54289 has M A A G C L L A L T L T L F Q S L L I G P S S E E P F P S A V T I K S W V D K M Q E D L V T L A K T A S G V N Q L V D I Y E K Y Q D L Y T V E P N N A R Q L V E I A A R D I E K L L S N R S K A L V R L A L E A E K V Q A A H Q W R E D F A S N E V V Y Y N A K D D L D P E K N D S E P G S Q R I K P V F I E D A N F G R Q I S Y Q H A A V H I P T D I Y E G S T I V L N E L N W T S A L D E V F K K N R E E D P S L L W Q V F G S A T G L A R Y Y P A S P W V D N S R T P N K I D L Y D V R R R P W Y I Q G A A S P K D M L I  sub-proteins\n",
      "Protein Q8TF21 has M K T L R A R F K K T E L R L S P T D L G S C P P C G P C P I P K P A A R G R R Q S Q D W G K S D E R L L Q A V E N N D A P R V A A L I A R K G L V P T K L D P E G K S A F H L A A M R G A A S C L E V M I A H G S N V M S A D G A G Y N A L H L A A K Y G H P Q C L K Q L L Q A S C V V D V V D S S G W T A L H H A A A G G C L S C S E V L C S F K A H L N P Q D R S G A T P L I I A A Q M C H T D L C R L L L Q Q G A A A N D Q D L Q G R T A L M L A C E G A S P E T V E V L L Q G G A Q P G I T D A L G Q D A A H Y G A L  sub-proteins\n",
      "Protein Q5JUX0 has M K T P F G K A A A G Q R S R T G A G H G S V S V T M I K R K A A H K K H R S R P T S Q P R G N I V G C R I Q H G W K D G D E P L T Q W K G T V L D Q V P V N P S L Y L I K Y D G F D C V Y G L E L H R D E R V S S L E V L P N R V A S S R I S D T H L A E I M V G K A V E H I F E T E E G S K N E W R G M V L A Q A P V M N T W F Y I T Y E K D P V L Y M Y Q L L D D Y K D G D L R I L Q D S N D S P L A E R E P G E V I D S L V G K Q V E Y A K D D G S K R T G M V I H Q V E A K P S V Y F I K F D D D F H I Y V Y D L V K  sub-proteins\n"
     ]
    },
    {
     "name": "stderr",
     "output_type": "stream",
     "text": [
      "Getting protein lengths:   1%|          | 204/20504 [00:23<33:55,  9.97it/s]"
     ]
    },
    {
     "name": "stdout",
     "output_type": "stream",
     "text": [
      "Protein P0CZ25 has M H S L P R S G S I R R T H S D T Q A T G W P P P Q R I G D S P G P S P A F L S C P P S L C G G A A Q T G D P V A L P H G P E K W V W G G G L S P R N P H S W G I K A H G L R P P W A P R L E R C M V P E S E W A P W Q P Q L P C E P K W L G S R K S K P H R E S G L R G G G P S R C A K R G T H S C G P R E S G G P D T C H L P C H                                                                                                                                                                                            sub-proteins\n",
      "Protein P0CW20 has M A F S G R A R P C I I P E N E E I P R A A L N T V H E A N G T E D E R A V S K L Q R R H S D V K V Y K E F C D F Y A K F N M A N A L A S A T C E R C K G G F A P A E T I V N S N G E L Y H E Q C F V C A Q C F Q Q F P E G L F Y E E R T                                                                                                                                                                                                                                                                                        sub-proteins\n",
      "Protein Q9UNX3 has M K F N P F V T S D R S K N R K R H F N A P S H V R R K I M S S P L S K E L R Q K Y N V R S M P I R K D D E V Q V V R G H Y K G Q Q I G K V V Q V Y R K K Y V I Y I E R V Q R E K A N G T T V H V G I H P S K V V I T R L K L D K D R K K I L E R K A K S R Q V G K E K G K Y K E E L I E K M Q E                                                                                                                                                                                                                                sub-proteins\n"
     ]
    },
    {
     "name": "stderr",
     "output_type": "stream",
     "text": [
      "Getting protein lengths:   1%|          | 207/20504 [00:23<27:01, 12.52it/s]"
     ]
    },
    {
     "name": "stdout",
     "output_type": "stream",
     "text": [
      "Protein Q7Z769 has M A L L V D R V R G H W R I A A G L L F N L L V S I C I V F L N K W I Y V Y H G F P N M S L T L V H F V V T W L G L Y I C Q K L D I F A P K S L P P S R L L L L A L S F C G F V V F T N L S L Q N N T I G T Y Q L A K A M T T P V I I A I Q T F C Y Q K T F S T R I Q L T L I P I T L G V I L N S Y Y D V K F N F L G M V F A A L G V L V T S L Y Q V W V G A K Q H E L Q V N S M Q L L Y Y Q A P M S S A M L L V A V P F F E P V F G E G G I F G P W S V S A L L M V L L S G V I A F M V N L S I Y W I I G N T S P V T Y N M F  sub-proteins\n",
      "Protein Q96C57 has M A A P S G T V S D S E S S N S S S D A E E L E R C R E A A M P A W G L E Q R P H V A G K P R A G A A N S Q L S T S Q P S L R H K V N E H E Q D G N E L Q T T P E F R A H V A K K L G A L L D S F I T I S E A A K E P A K A K V Q K V A L E D D G F R L F F T S V P G G R E K E E S P Q P R R K R Q P S S S S E D S D E E W R R C R E A A V S A S D I L Q E S A I H S P G T V E K E A K K K R K L K K K A K K V A S V D S A V A A T T P T S M A T V Q K Q K S G E L N G D Q V S L G T K K K K K A K K A S E T S P F P P A K S A  sub-proteins\n",
      "Protein Q5FWF7 has M H K N S K R N N N L R V S H T E A N S V D A E K E K N E S Q N N F F E L L P A E I T F K I F S Q L D I R S L C R A S L T C R S W N D T I R N S D S L W K P H C M T V R A V C R R E I D D D L E S G Y S W R V I L L R N Y Q K S K V K H E W L S G R Y S N I C S P I S L P E K I M Y P M D A D T W G E I L E A E L E R                                                                                                                                                                                                            sub-proteins\n",
      "Protein P0CJ74 has M A T G G F G C L L L L I R E I D L S V K R Q I                                                                                                                                                                                                                                                                                                                                                                                                                                                                                  sub-proteins\n"
     ]
    },
    {
     "name": "stderr",
     "output_type": "stream",
     "text": [
      "Getting protein lengths:   1%|          | 209/20504 [00:23<30:31, 11.08it/s]"
     ]
    },
    {
     "name": "stdout",
     "output_type": "stream",
     "text": [
      "Protein O15034 has M R E A A E R R Q Q L Q L E H D Q A L A V L S A K Q Q E I D L L Q K S K V R E L E E K C R T Q S E Q F N L L S R D L E K F R Q H A G K I D L L G G S A V A P L D I S T A P S K P F P Q F M N G L A T S L G K G Q E S A I G G S S A I G E Y I R P L P Q P G D R P E P L S A K P T F L S R S G S A R C R S E S D M E N E R N S N T S K Q R Y S G K V H L C V A R Y S Y N P F D G P N E N P E A E L P L T A G K Y L Y V Y G D M D E D G F Y E G E L L D G Q R G L V P S N F V D F V Q D N E S R L A S T L G N E Q D Q N F I N H S G  sub-proteins\n",
      "Protein Q149N8 has M S S R R K R A P P V R V D E E K R Q Q L H W N M H E D R R N E P I I I S D D D E Q P C P G S D T S S A H Y I I L S D S L K E E V A H R D K K R C S K V V S F S K P I E K E E T V G I F S P L S V K L N I V I S P Y H F D N S W K A F L G E L T L Q L L P A Q S L I E N F S E R S I T L M S S E S S N Q F L I Y V H S K G E D V E K Q K K E P M S I C D K G I L V E S S F S G E M L E D L G W L Q K K R R I K L Y Q K P E G N H I I K V G I Y L L E A G L A K L D F L S D A N S R M K K F N Q L M K K V M E K L H N S I I P D V  sub-proteins\n"
     ]
    },
    {
     "name": "stderr",
     "output_type": "stream",
     "text": [
      "Getting protein lengths:   1%|          | 210/20504 [00:24<38:59,  8.67it/s]\n"
     ]
    },
    {
     "ename": "KeyboardInterrupt",
     "evalue": "",
     "output_type": "error",
     "traceback": [
      "\u001b[0;31m---------------------------------------------------------------------------\u001b[0m",
      "\u001b[0;31mTypeError\u001b[0m                                 Traceback (most recent call last)",
      "File \u001b[0;32m~/miniconda3/envs/M/lib/python3.10/site-packages/Bio/File.py:72\u001b[0m, in \u001b[0;36mas_handle\u001b[0;34m(handleish, mode, **kwargs)\u001b[0m\n\u001b[1;32m     71\u001b[0m \u001b[38;5;28;01mtry\u001b[39;00m:\n\u001b[0;32m---> 72\u001b[0m     \u001b[38;5;28;01mwith\u001b[39;00m \u001b[38;5;28;43mopen\u001b[39;49m\u001b[43m(\u001b[49m\u001b[43mhandleish\u001b[49m\u001b[43m,\u001b[49m\u001b[43m \u001b[49m\u001b[43mmode\u001b[49m\u001b[43m,\u001b[49m\u001b[43m \u001b[49m\u001b[38;5;241;43m*\u001b[39;49m\u001b[38;5;241;43m*\u001b[39;49m\u001b[43mkwargs\u001b[49m\u001b[43m)\u001b[49m \u001b[38;5;28;01mas\u001b[39;00m fp:\n\u001b[1;32m     73\u001b[0m         \u001b[38;5;28;01myield\u001b[39;00m fp\n",
      "\u001b[0;31mTypeError\u001b[0m: expected str, bytes or os.PathLike object, not TextIOWrapper",
      "\nDuring handling of the above exception, another exception occurred:\n",
      "\u001b[0;31mKeyboardInterrupt\u001b[0m                         Traceback (most recent call last)",
      "Cell \u001b[0;32mIn[17], line 42\u001b[0m\n\u001b[1;32m     40\u001b[0m count \u001b[38;5;241m=\u001b[39m \u001b[38;5;241m0\u001b[39m\n\u001b[1;32m     41\u001b[0m \u001b[38;5;28;01mfor\u001b[39;00m af_uniprot \u001b[38;5;129;01min\u001b[39;00m tqdm(af_uniprots, desc\u001b[38;5;241m=\u001b[39m\u001b[38;5;124m\"\u001b[39m\u001b[38;5;124mGetting protein lengths\u001b[39m\u001b[38;5;124m\"\u001b[39m):\n\u001b[0;32m---> 42\u001b[0m     protein_sequence \u001b[38;5;241m=\u001b[39m \u001b[43mget_amino_acid_sequence\u001b[49m\u001b[43m(\u001b[49m\u001b[43maf_uniprot\u001b[49m\u001b[43m,\u001b[49m\u001b[43m \u001b[49m\u001b[43mparser\u001b[49m\u001b[43m,\u001b[49m\u001b[43m \u001b[49m\u001b[43mfixed_size\u001b[49m\u001b[38;5;241;43m=\u001b[39;49m\u001b[38;5;241;43m512\u001b[39;49m\u001b[43m)\u001b[49m\n\u001b[1;32m     44\u001b[0m     \u001b[38;5;28mprint\u001b[39m(\u001b[38;5;124mf\u001b[39m\u001b[38;5;124m\"\u001b[39m\u001b[38;5;124mProtein \u001b[39m\u001b[38;5;132;01m{\u001b[39;00maf_uniprot\u001b[38;5;132;01m}\u001b[39;00m\u001b[38;5;124m has \u001b[39m\u001b[38;5;132;01m{\u001b[39;00mprotein_sequence\u001b[38;5;132;01m}\u001b[39;00m\u001b[38;5;124m sub-proteins\u001b[39m\u001b[38;5;124m\"\u001b[39m)\n\u001b[1;32m     46\u001b[0m \u001b[38;5;28mprint\u001b[39m(\u001b[38;5;124mf\u001b[39m\u001b[38;5;124m\"\u001b[39m\u001b[38;5;124mTotal number of proteins with sub-proteins: \u001b[39m\u001b[38;5;132;01m{\u001b[39;00mcount\u001b[38;5;132;01m}\u001b[39;00m\u001b[38;5;124m\"\u001b[39m)\n",
      "Cell \u001b[0;32mIn[17], line 17\u001b[0m, in \u001b[0;36mget_amino_acid_sequence\u001b[0;34m(uniprot_id, parser, alphafold_folder_path, fixed_size)\u001b[0m\n\u001b[1;32m     15\u001b[0m pdb_file_name \u001b[38;5;241m=\u001b[39m os\u001b[38;5;241m.\u001b[39mpath\u001b[38;5;241m.\u001b[39mjoin(alphafold_folder_path, \u001b[38;5;124mf\u001b[39m\u001b[38;5;124m\"\u001b[39m\u001b[38;5;124mAF-\u001b[39m\u001b[38;5;132;01m{\u001b[39;00muniprot_id\u001b[38;5;132;01m}\u001b[39;00m\u001b[38;5;124m-F1-model_v4.pdb.gz\u001b[39m\u001b[38;5;124m\"\u001b[39m)\n\u001b[1;32m     16\u001b[0m \u001b[38;5;28;01mwith\u001b[39;00m gzip\u001b[38;5;241m.\u001b[39mopen(pdb_file_name, \u001b[38;5;124m'\u001b[39m\u001b[38;5;124mrt\u001b[39m\u001b[38;5;124m'\u001b[39m) \u001b[38;5;28;01mas\u001b[39;00m f_in:\n\u001b[0;32m---> 17\u001b[0m     structure \u001b[38;5;241m=\u001b[39m \u001b[43mparser\u001b[49m\u001b[38;5;241;43m.\u001b[39;49m\u001b[43mget_structure\u001b[49m\u001b[43m(\u001b[49m\u001b[38;5;124;43m\"\u001b[39;49m\u001b[38;5;124;43mprotein\u001b[39;49m\u001b[38;5;124;43m\"\u001b[39;49m\u001b[43m,\u001b[49m\u001b[43m \u001b[49m\u001b[43mf_in\u001b[49m\u001b[43m)\u001b[49m\n\u001b[1;32m     18\u001b[0m     \u001b[38;5;28;01mfor\u001b[39;00m model \u001b[38;5;129;01min\u001b[39;00m structure:\n\u001b[1;32m     19\u001b[0m         \u001b[38;5;28;01mfor\u001b[39;00m chain \u001b[38;5;129;01min\u001b[39;00m model:\n",
      "File \u001b[0;32m~/miniconda3/envs/M/lib/python3.10/site-packages/Bio/PDB/PDBParser.py:93\u001b[0m, in \u001b[0;36mPDBParser.get_structure\u001b[0;34m(self, id, file)\u001b[0m\n\u001b[1;32m     91\u001b[0m     \u001b[38;5;28;01mif\u001b[39;00m \u001b[38;5;129;01mnot\u001b[39;00m lines:\n\u001b[1;32m     92\u001b[0m         \u001b[38;5;28;01mraise\u001b[39;00m \u001b[38;5;167;01mValueError\u001b[39;00m(\u001b[38;5;124m\"\u001b[39m\u001b[38;5;124mEmpty file.\u001b[39m\u001b[38;5;124m\"\u001b[39m)\n\u001b[0;32m---> 93\u001b[0m     \u001b[38;5;28;43mself\u001b[39;49m\u001b[38;5;241;43m.\u001b[39;49m\u001b[43m_parse\u001b[49m\u001b[43m(\u001b[49m\u001b[43mlines\u001b[49m\u001b[43m)\u001b[49m\n\u001b[1;32m     95\u001b[0m \u001b[38;5;28mself\u001b[39m\u001b[38;5;241m.\u001b[39mstructure_builder\u001b[38;5;241m.\u001b[39mset_header(\u001b[38;5;28mself\u001b[39m\u001b[38;5;241m.\u001b[39mheader)\n\u001b[1;32m     96\u001b[0m \u001b[38;5;66;03m# Return the Structure instance\u001b[39;00m\n",
      "File \u001b[0;32m~/miniconda3/envs/M/lib/python3.10/site-packages/Bio/PDB/PDBParser.py:116\u001b[0m, in \u001b[0;36mPDBParser._parse\u001b[0;34m(self, header_coords_trailer)\u001b[0m\n\u001b[1;32m    114\u001b[0m \u001b[38;5;28mself\u001b[39m\u001b[38;5;241m.\u001b[39mheader, coords_trailer \u001b[38;5;241m=\u001b[39m \u001b[38;5;28mself\u001b[39m\u001b[38;5;241m.\u001b[39m_get_header(header_coords_trailer)\n\u001b[1;32m    115\u001b[0m \u001b[38;5;66;03m# Parse the atomic data; return the PDB file trailer\u001b[39;00m\n\u001b[0;32m--> 116\u001b[0m \u001b[38;5;28mself\u001b[39m\u001b[38;5;241m.\u001b[39mtrailer \u001b[38;5;241m=\u001b[39m \u001b[38;5;28;43mself\u001b[39;49m\u001b[38;5;241;43m.\u001b[39;49m\u001b[43m_parse_coordinates\u001b[49m\u001b[43m(\u001b[49m\u001b[43mcoords_trailer\u001b[49m\u001b[43m)\u001b[49m\n",
      "File \u001b[0;32m~/miniconda3/envs/M/lib/python3.10/site-packages/Bio/PDB/PDBParser.py:292\u001b[0m, in \u001b[0;36mPDBParser._parse_coordinates\u001b[0;34m(self, coords_trailer)\u001b[0m\n\u001b[1;32m    289\u001b[0m \u001b[38;5;28;01mif\u001b[39;00m \u001b[38;5;129;01mnot\u001b[39;00m \u001b[38;5;28mself\u001b[39m\u001b[38;5;241m.\u001b[39mis_pqr:\n\u001b[1;32m    290\u001b[0m     \u001b[38;5;66;03m# init atom with pdb fields\u001b[39;00m\n\u001b[1;32m    291\u001b[0m     \u001b[38;5;28;01mtry\u001b[39;00m:\n\u001b[0;32m--> 292\u001b[0m         \u001b[43mstructure_builder\u001b[49m\u001b[38;5;241;43m.\u001b[39;49m\u001b[43minit_atom\u001b[49m\u001b[43m(\u001b[49m\n\u001b[1;32m    293\u001b[0m \u001b[43m            \u001b[49m\u001b[43mname\u001b[49m\u001b[43m,\u001b[49m\n\u001b[1;32m    294\u001b[0m \u001b[43m            \u001b[49m\u001b[43mcoord\u001b[49m\u001b[43m,\u001b[49m\n\u001b[1;32m    295\u001b[0m \u001b[43m            \u001b[49m\u001b[43mbfactor\u001b[49m\u001b[43m,\u001b[49m\n\u001b[1;32m    296\u001b[0m \u001b[43m            \u001b[49m\u001b[43moccupancy\u001b[49m\u001b[43m,\u001b[49m\n\u001b[1;32m    297\u001b[0m \u001b[43m            \u001b[49m\u001b[43maltloc\u001b[49m\u001b[43m,\u001b[49m\n\u001b[1;32m    298\u001b[0m \u001b[43m            \u001b[49m\u001b[43mfullname\u001b[49m\u001b[43m,\u001b[49m\n\u001b[1;32m    299\u001b[0m \u001b[43m            \u001b[49m\u001b[43mserial_number\u001b[49m\u001b[43m,\u001b[49m\n\u001b[1;32m    300\u001b[0m \u001b[43m            \u001b[49m\u001b[43melement\u001b[49m\u001b[43m,\u001b[49m\n\u001b[1;32m    301\u001b[0m \u001b[43m        \u001b[49m\u001b[43m)\u001b[49m\n\u001b[1;32m    302\u001b[0m     \u001b[38;5;28;01mexcept\u001b[39;00m PDBConstructionException \u001b[38;5;28;01mas\u001b[39;00m message:\n\u001b[1;32m    303\u001b[0m         \u001b[38;5;28mself\u001b[39m\u001b[38;5;241m.\u001b[39m_handle_PDB_exception(message, global_line_counter)\n",
      "File \u001b[0;32m~/miniconda3/envs/M/lib/python3.10/site-packages/Bio/PDB/StructureBuilder.py:231\u001b[0m, in \u001b[0;36mStructureBuilder.init_atom\u001b[0;34m(self, name, coord, b_factor, occupancy, altloc, fullname, serial_number, element, pqr_charge, radius, is_pqr)\u001b[0m\n\u001b[1;32m    225\u001b[0m         warnings\u001b[38;5;241m.\u001b[39mwarn(\n\u001b[1;32m    226\u001b[0m             \u001b[38;5;124m\"\u001b[39m\u001b[38;5;124mAtom names \u001b[39m\u001b[38;5;132;01m%r\u001b[39;00m\u001b[38;5;124m and \u001b[39m\u001b[38;5;132;01m%r\u001b[39;00m\u001b[38;5;124m differ only in spaces at line \u001b[39m\u001b[38;5;132;01m%i\u001b[39;00m\u001b[38;5;124m.\u001b[39m\u001b[38;5;124m\"\u001b[39m\n\u001b[1;32m    227\u001b[0m             \u001b[38;5;241m%\u001b[39m (duplicate_fullname, fullname, \u001b[38;5;28mself\u001b[39m\u001b[38;5;241m.\u001b[39mline_counter),\n\u001b[1;32m    228\u001b[0m             PDBConstructionWarning,\n\u001b[1;32m    229\u001b[0m         )\n\u001b[1;32m    230\u001b[0m \u001b[38;5;28;01mif\u001b[39;00m \u001b[38;5;129;01mnot\u001b[39;00m is_pqr:\n\u001b[0;32m--> 231\u001b[0m     \u001b[38;5;28mself\u001b[39m\u001b[38;5;241m.\u001b[39matom \u001b[38;5;241m=\u001b[39m \u001b[43mAtom\u001b[49m\u001b[43m(\u001b[49m\n\u001b[1;32m    232\u001b[0m \u001b[43m        \u001b[49m\u001b[43mname\u001b[49m\u001b[43m,\u001b[49m\n\u001b[1;32m    233\u001b[0m \u001b[43m        \u001b[49m\u001b[43mcoord\u001b[49m\u001b[43m,\u001b[49m\n\u001b[1;32m    234\u001b[0m \u001b[43m        \u001b[49m\u001b[43mb_factor\u001b[49m\u001b[43m,\u001b[49m\n\u001b[1;32m    235\u001b[0m \u001b[43m        \u001b[49m\u001b[43moccupancy\u001b[49m\u001b[43m,\u001b[49m\n\u001b[1;32m    236\u001b[0m \u001b[43m        \u001b[49m\u001b[43maltloc\u001b[49m\u001b[43m,\u001b[49m\n\u001b[1;32m    237\u001b[0m \u001b[43m        \u001b[49m\u001b[43mfullname\u001b[49m\u001b[43m,\u001b[49m\n\u001b[1;32m    238\u001b[0m \u001b[43m        \u001b[49m\u001b[43mserial_number\u001b[49m\u001b[43m,\u001b[49m\n\u001b[1;32m    239\u001b[0m \u001b[43m        \u001b[49m\u001b[43melement\u001b[49m\u001b[43m,\u001b[49m\n\u001b[1;32m    240\u001b[0m \u001b[43m    \u001b[49m\u001b[43m)\u001b[49m\n\u001b[1;32m    241\u001b[0m \u001b[38;5;28;01melif\u001b[39;00m is_pqr:\n\u001b[1;32m    242\u001b[0m     \u001b[38;5;28mself\u001b[39m\u001b[38;5;241m.\u001b[39matom \u001b[38;5;241m=\u001b[39m Atom(\n\u001b[1;32m    243\u001b[0m         name,\n\u001b[1;32m    244\u001b[0m         coord,\n\u001b[0;32m   (...)\u001b[0m\n\u001b[1;32m    252\u001b[0m         radius,\n\u001b[1;32m    253\u001b[0m     )\n",
      "File \u001b[0;32m~/miniconda3/envs/M/lib/python3.10/site-packages/Bio/PDB/Atom.py:34\u001b[0m, in \u001b[0;36mAtom.__init__\u001b[0;34m(self, name, coord, bfactor, occupancy, altloc, fullname, serial_number, element, pqr_charge, radius)\u001b[0m\n\u001b[1;32m     22\u001b[0m \u001b[38;5;28;01mclass\u001b[39;00m \u001b[38;5;21;01mAtom\u001b[39;00m:\n\u001b[1;32m     23\u001b[0m \u001b[38;5;250m    \u001b[39m\u001b[38;5;124;03m\"\"\"Define Atom class.\u001b[39;00m\n\u001b[1;32m     24\u001b[0m \n\u001b[1;32m     25\u001b[0m \u001b[38;5;124;03m    The Atom object stores atom name (both with and without spaces),\u001b[39;00m\n\u001b[0;32m   (...)\u001b[0m\n\u001b[1;32m     31\u001b[0m \u001b[38;5;124;03m    atomic charge and radius.\u001b[39;00m\n\u001b[1;32m     32\u001b[0m \u001b[38;5;124;03m    \"\"\"\u001b[39;00m\n\u001b[0;32m---> 34\u001b[0m     \u001b[38;5;28;01mdef\u001b[39;00m \u001b[38;5;21m__init__\u001b[39m(\n\u001b[1;32m     35\u001b[0m         \u001b[38;5;28mself\u001b[39m,\n\u001b[1;32m     36\u001b[0m         name,\n\u001b[1;32m     37\u001b[0m         coord,\n\u001b[1;32m     38\u001b[0m         bfactor,\n\u001b[1;32m     39\u001b[0m         occupancy,\n\u001b[1;32m     40\u001b[0m         altloc,\n\u001b[1;32m     41\u001b[0m         fullname,\n\u001b[1;32m     42\u001b[0m         serial_number,\n\u001b[1;32m     43\u001b[0m         element\u001b[38;5;241m=\u001b[39m\u001b[38;5;28;01mNone\u001b[39;00m,\n\u001b[1;32m     44\u001b[0m         pqr_charge\u001b[38;5;241m=\u001b[39m\u001b[38;5;28;01mNone\u001b[39;00m,\n\u001b[1;32m     45\u001b[0m         radius\u001b[38;5;241m=\u001b[39m\u001b[38;5;28;01mNone\u001b[39;00m,\n\u001b[1;32m     46\u001b[0m     ):\n\u001b[1;32m     47\u001b[0m \u001b[38;5;250m        \u001b[39m\u001b[38;5;124;03m\"\"\"Initialize Atom object.\u001b[39;00m\n\u001b[1;32m     48\u001b[0m \n\u001b[1;32m     49\u001b[0m \u001b[38;5;124;03m        :param name: atom name (eg. \"CA\"). Note that spaces are normally stripped.\u001b[39;00m\n\u001b[0;32m   (...)\u001b[0m\n\u001b[1;32m     75\u001b[0m \u001b[38;5;124;03m        :type radius: number\u001b[39;00m\n\u001b[1;32m     76\u001b[0m \u001b[38;5;124;03m        \"\"\"\u001b[39;00m\n\u001b[1;32m     77\u001b[0m         \u001b[38;5;28mself\u001b[39m\u001b[38;5;241m.\u001b[39mlevel \u001b[38;5;241m=\u001b[39m \u001b[38;5;124m\"\u001b[39m\u001b[38;5;124mA\u001b[39m\u001b[38;5;124m\"\u001b[39m\n",
      "\u001b[0;31mKeyboardInterrupt\u001b[0m: "
     ]
    }
   ],
   "source": [
    "import random\n",
    "from Bio.PDB import PDBParser, Polypeptide\n",
    "from Bio.SeqUtils import seq1\n",
    "import os, gzip\n",
    "from molytica_m.data_tools import alpha_fold_tools\n",
    "from tqdm import tqdm\n",
    "\n",
    "parser = PDBParser()\n",
    "\n",
    "def get_amino_acid_sequence(uniprot_id, parser, alphafold_folder_path=\"data/curated_chembl/alpha_fold_data\", fixed_size = None):\n",
    "    concat_character = \" \" # TODO: Find out what the correct character is to join the sequences\n",
    "\n",
    "    combined_sequence = []\n",
    "\n",
    "    pdb_file_name = os.path.join(alphafold_folder_path, f\"AF-{uniprot_id}-F1-model_v4.pdb.gz\")\n",
    "    with gzip.open(pdb_file_name, 'rt') as f_in:\n",
    "        structure = parser.get_structure(\"protein\", f_in)\n",
    "        for model in structure:\n",
    "            for chain in model:\n",
    "                sequence = \"\"\n",
    "                for residue in chain:\n",
    "                    if Polypeptide.is_aa(residue):\n",
    "                        sequence += seq1(residue.get_resname()) + \" \"\n",
    "                combined_sequence.append(sequence)\n",
    "\n",
    "        combined_sequence = concat_character.join(combined_sequence)\n",
    "\n",
    "    if fixed_size:\n",
    "        if len(combined_sequence) < fixed_size:\n",
    "            combined_sequence += \" \" * (fixed_size - len(combined_sequence))\n",
    "        elif len(combined_sequence) > fixed_size:\n",
    "            combined_sequence = combined_sequence[:fixed_size]\n",
    "\n",
    "    return combined_sequence\n",
    "                \n",
    "\n",
    "# Replace 'your_file.pdb' with the path to your PDB file\n",
    "af_uniprots = alpha_fold_tools.get_alphafold_uniprot_ids()\n",
    "random.shuffle(af_uniprots)\n",
    "count = 0\n",
    "for af_uniprot in tqdm(af_uniprots, desc=\"Getting protein lengths\"):\n",
    "    protein_sequence = get_amino_acid_sequence(af_uniprot, parser, fixed_size=512)\n",
    "\n",
    "    print(f\"Protein {af_uniprot} has {protein_sequence} sub-proteins\")\n",
    "\n",
    "print(f\"Total number of proteins with sub-proteins: {count}\")"
   ]
  },
  {
   "cell_type": "code",
   "execution_count": null,
   "metadata": {},
   "outputs": [
    {
     "ename": "AttributeError",
     "evalue": "module 'Bio.PDB.Polypeptide' has no attribute 'three_to_one'",
     "output_type": "error",
     "traceback": [
      "\u001b[0;31m---------------------------------------------------------------------------\u001b[0m",
      "\u001b[0;31mAttributeError\u001b[0m                            Traceback (most recent call last)",
      "Cell \u001b[0;32mIn[17], line 1\u001b[0m\n\u001b[0;32m----> 1\u001b[0m \u001b[43mPolypeptide\u001b[49m\u001b[38;5;241;43m.\u001b[39;49m\u001b[43mthree_to_one\u001b[49m(\u001b[38;5;124m'\u001b[39m\u001b[38;5;124mLEU\u001b[39m\u001b[38;5;124m'\u001b[39m)\n",
      "\u001b[0;31mAttributeError\u001b[0m: module 'Bio.PDB.Polypeptide' has no attribute 'three_to_one'"
     ]
    }
   ],
   "source": [
    "Polypeptide.three_to_one('LEU')"
   ]
  },
  {
   "cell_type": "code",
   "execution_count": null,
   "metadata": {},
   "outputs": [
    {
     "name": "stdout",
     "output_type": "stream",
     "text": [
      "E\n"
     ]
    }
   ],
   "source": [
    "from Bio.SeqUtils import seq1\n",
    "\n",
    "three_letter_sequence = \"GLU\"\n",
    "one_letter_sequence = seq1(three_letter_sequence)\n",
    "print(one_letter_sequence)\n"
   ]
  },
  {
   "cell_type": "code",
   "execution_count": null,
   "metadata": {},
   "outputs": [],
   "source": [
    "def get_amino_acid_sequence(uniprot_id):\n",
    "    concat_character = \" \" # TODO: Find out what the correct character is to join the sequences\n",
    "\n",
    "    combined_sequence = []\n",
    "\n",
    "    pdb_file_name = os.path.join(\"data\", \"curated_chembl\", \"alpha_fold_data\", f\"AF-{uniprot_id}-F1-model_v4.pdb.gz\")\n",
    "    with gzip.open(pdb_file_name, 'rt') as f_in:\n",
    "        structure = parser.get_structure(\"protein\", f_in)\n",
    "        for model in structure:\n",
    "            for chain in model:\n",
    "                sequence = \"\"\n",
    "                for residue in chain:\n",
    "                    if Polypeptide.is_aa(residue):\n",
    "                        sequence += seq1(residue.get_resname()) + \" \"\n",
    "                combined_sequence.append(sequence)\n",
    "\n",
    "        combined_sequence = concat_character.join(combined_sequence)\n",
    "\n",
    "    return combined_sequence"
   ]
  }
 ],
 "metadata": {
  "kernelspec": {
   "display_name": "M",
   "language": "python",
   "name": "python3"
  },
  "language_info": {
   "codemirror_mode": {
    "name": "ipython",
    "version": 3
   },
   "file_extension": ".py",
   "mimetype": "text/x-python",
   "name": "python",
   "nbconvert_exporter": "python",
   "pygments_lexer": "ipython3",
   "version": "3.10.13"
  }
 },
 "nbformat": 4,
 "nbformat_minor": 2
}
