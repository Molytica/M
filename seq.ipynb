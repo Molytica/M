{
 "cells": [
  {
   "cell_type": "code",
   "execution_count": 16,
   "metadata": {},
   "outputs": [
    {
     "name": "stderr",
     "output_type": "stream",
     "text": [
      "Getting protein lengths:   0%|          | 0/20504 [00:00<?, ?it/s]"
     ]
    },
    {
     "name": "stderr",
     "output_type": "stream",
     "text": [
      "Getting protein lengths:   8%|▊         | 1706/20504 [03:34<32:06,  9.76it/s]  "
     ]
    }
   ],
   "source": [
    "import random\n",
    "from Bio.PDB import PDBParser, Polypeptide\n",
    "from Bio.SeqUtils import seq1\n",
    "import os, gzip\n",
    "from molytica_m.data_tools import alpha_fold_tools\n",
    "from tqdm import tqdm\n",
    "\n",
    "parser = PDBParser()\n",
    "\n",
    "def get_amino_acid_sequence(uniprot_id, parser, alphafold_folder_path=\"data/curated_chembl/alpha_fold_data\", fixed_size = None):\n",
    "    concat_character = \" \" # TODO: Find out what the correct character is to join the sequences\n",
    "\n",
    "    combined_sequence = []\n",
    "\n",
    "    pdb_file_name = os.path.join(alphafold_folder_path, f\"AF-{uniprot_id}-F1-model_v4.pdb.gz\")\n",
    "    with gzip.open(pdb_file_name, 'rt') as f_in:\n",
    "        structure = parser.get_structure(\"protein\", f_in)\n",
    "        for model in structure:\n",
    "            for chain in model:\n",
    "                sequence = \"\"\n",
    "                for residue in chain:\n",
    "                    if Polypeptide.is_aa(residue):\n",
    "                        sequence += seq1(residue.get_resname()) + \" \"\n",
    "                combined_sequence.append(sequence)\n",
    "\n",
    "        combined_sequence = concat_character.join(combined_sequence)\n",
    "\n",
    "    if fixed_size:\n",
    "        if len(combined_sequence) < fixed_size:\n",
    "            combined_sequence += \" \" * (fixed_size - len(combined_sequence))\n",
    "        elif len(combined_sequence) > fixed_size:\n",
    "            combined_sequence = combined_sequence[:fixed_size]\n",
    "\n",
    "    return combined_sequence\n",
    "                \n",
    "\n",
    "# Replace 'your_file.pdb' with the path to your PDB file\n",
    "af_uniprots = alpha_fold_tools.get_alphafold_uniprot_ids()\n",
    "random.shuffle(af_uniprots)\n",
    "count = 0\n",
    "for af_uniprot in tqdm(af_uniprots, desc=\"Getting protein lengths\"):\n",
    "    protein_sequence = get_amino_acid_sequence(af_uniprot, parser, fixed_size=512)\n",
    "\n",
    "    print(f\"Protein {af_uniprot} has {protein_sequence} sub-proteins\")\n",
    "\n",
    "print(f\"Total number of proteins with sub-proteins: {count}\")"
   ]
  },
  {
   "cell_type": "code",
   "execution_count": null,
   "metadata": {},
   "outputs": [
    {
     "ename": "AttributeError",
     "evalue": "module 'Bio.PDB.Polypeptide' has no attribute 'three_to_one'",
     "output_type": "error",
     "traceback": [
      "\u001b[0;31m---------------------------------------------------------------------------\u001b[0m",
      "\u001b[0;31mAttributeError\u001b[0m                            Traceback (most recent call last)",
      "Cell \u001b[0;32mIn[17], line 1\u001b[0m\n\u001b[0;32m----> 1\u001b[0m \u001b[43mPolypeptide\u001b[49m\u001b[38;5;241;43m.\u001b[39;49m\u001b[43mthree_to_one\u001b[49m(\u001b[38;5;124m'\u001b[39m\u001b[38;5;124mLEU\u001b[39m\u001b[38;5;124m'\u001b[39m)\n",
      "\u001b[0;31mAttributeError\u001b[0m: module 'Bio.PDB.Polypeptide' has no attribute 'three_to_one'"
     ]
    }
   ],
   "source": [
    "Polypeptide.three_to_one('LEU')"
   ]
  },
  {
   "cell_type": "code",
   "execution_count": null,
   "metadata": {},
   "outputs": [
    {
     "name": "stdout",
     "output_type": "stream",
     "text": [
      "E\n"
     ]
    }
   ],
   "source": [
    "from Bio.SeqUtils import seq1\n",
    "\n",
    "three_letter_sequence = \"GLU\"\n",
    "one_letter_sequence = seq1(three_letter_sequence)\n",
    "print(one_letter_sequence)\n"
   ]
  },
  {
   "cell_type": "code",
   "execution_count": null,
   "metadata": {},
   "outputs": [],
   "source": [
    "def get_amino_acid_sequence(uniprot_id):\n",
    "    concat_character = \" \" # TODO: Find out what the correct character is to join the sequences\n",
    "\n",
    "    combined_sequence = []\n",
    "\n",
    "    pdb_file_name = os.path.join(\"data\", \"curated_chembl\", \"alpha_fold_data\", f\"AF-{uniprot_id}-F1-model_v4.pdb.gz\")\n",
    "    with gzip.open(pdb_file_name, 'rt') as f_in:\n",
    "        structure = parser.get_structure(\"protein\", f_in)\n",
    "        for model in structure:\n",
    "            for chain in model:\n",
    "                sequence = \"\"\n",
    "                for residue in chain:\n",
    "                    if Polypeptide.is_aa(residue):\n",
    "                        sequence += seq1(residue.get_resname()) + \" \"\n",
    "                combined_sequence.append(sequence)\n",
    "\n",
    "        combined_sequence = concat_character.join(combined_sequence)\n",
    "\n",
    "    return combined_sequence"
   ]
  }
 ],
 "metadata": {
  "kernelspec": {
   "display_name": "M",
   "language": "python",
   "name": "python3"
  },
  "language_info": {
   "codemirror_mode": {
    "name": "ipython",
    "version": 3
   },
   "file_extension": ".py",
   "mimetype": "text/x-python",
   "name": "python",
   "nbconvert_exporter": "python",
   "pygments_lexer": "ipython3",
   "version": "3.10.13"
  }
 },
 "nbformat": 4,
 "nbformat_minor": 2
}
