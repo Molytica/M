{
 "cells": [
  {
   "cell_type": "code",
   "execution_count": 16,
   "metadata": {},
   "outputs": [
    {
     "name": "stdout",
     "output_type": "stream",
     "text": [
      "Chain A\n",
      "M L P G L A L L L L A A W T A R A L E V P T D G N A G L L A E P Q I A M F C G R L N M H M N V Q N G K W D S D P S G T K T C I D T K E G I L Q Y C Q E V Y P E L Q I T N V V E A N Q P V T I Q N W C K R G R K Q C K T H P H F V I P Y R C L V G E F V S D A L L V P D K C K F L H Q E R M D V C E T H L H W H T V A K E T C S E K S T N L H D Y G M L L P C G I D K F R G V E F V C C P L A E E S D N V D S A D A E E D D S D V W W G G A D T D Y A D G S E D K V V E V A E E E E V A E V E E E E A D D D E D D E D G D E V E E E A E E P Y E E A T E R T T S I A T T T T T T T E S V E E V V R E V C S E Q A E T G P C R A M I S R W Y F D V T E G K C A P F F Y G G C G G N R N N F D T E E Y C M A V C G S A M S Q S L L K T T Q E P L A R D P V K L P T T A A S T P D A V D K Y L E T P G D E N E H A H F Q K A K E R L E A K H R E R M S Q V M R E W E E A E R Q A K N L P K A D K K A V I Q H F Q E K V E S L E Q E A A N E R Q Q L V E T H M A R V E A M L N D R R R L A L E N Y I T A L Q A V P P R P R H V F N M L K K Y V R A E Q K D R Q H T L K H F E H V R M V D P K K A A Q I R S Q V M T H L R V I Y E R M N Q S L S L L Y N V P A V A E E I Q D E V D E L L Q K E Q N Y S D D V L A N M I S E P R I S Y G N D A L M P S L T E T K T T V E L L P V N G E F S L D D L Q P W H S F G A D S V P A N T E N E V E P V D A R P A A D R G L T T R P G S G L T N I K T E E I S E V K M D A E F R H D S G Y E V H H Q K L V F F A E D V G S N K G A I I G L M V G G V V I A T V I V I T L V M L K K K Q Y T S I H H G V V E V D A A V T P E E R H L S K M Q Q N G Y E N P T Y K F F E Q M Q N \n"
     ]
    }
   ],
   "source": [
    "from Bio.PDB import PDBParser, Polypeptide\n",
    "from Bio.SeqUtils import seq1\n",
    "import os, gzip\n",
    "\n",
    "parser = PDBParser()\n",
    "\n",
    "def get_amino_acid_sequence(uniprot_id):\n",
    "    pdb_file_name = os.path.join(\"data\", \"curated_chembl\", \"alpha_fold_data\", f\"AF-{uniprot_id}-F1-model_v4.pdb.gz\")\n",
    "    with gzip.open(pdb_file_name, 'rt') as f_in:\n",
    "        structure = parser.get_structure(\"protein\", f_in)\n",
    "        for model in structure:\n",
    "            for chain in model:\n",
    "                print(f\"Chain {chain.id}\")\n",
    "                sequence = \"\"\n",
    "                for residue in chain:\n",
    "                    if Polypeptide.is_aa(residue):\n",
    "                        sequence += seq1(residue.get_resname()) + \" \"\n",
    "                print(sequence)\n",
    "\n",
    "# Replace 'your_file.pdb' with the path to your PDB file\n",
    "get_amino_acid_sequence('P05067')\n"
   ]
  },
  {
   "cell_type": "code",
   "execution_count": 7,
   "metadata": {},
   "outputs": [
    {
     "ename": "AttributeError",
     "evalue": "module 'Bio.PDB.Polypeptide' has no attribute 'three_to_one'",
     "output_type": "error",
     "traceback": [
      "\u001b[0;31m---------------------------------------------------------------------------\u001b[0m",
      "\u001b[0;31mAttributeError\u001b[0m                            Traceback (most recent call last)",
      "Cell \u001b[0;32mIn[7], line 1\u001b[0m\n\u001b[0;32m----> 1\u001b[0m \u001b[43mPolypeptide\u001b[49m\u001b[38;5;241;43m.\u001b[39;49m\u001b[43mthree_to_one\u001b[49m(\u001b[38;5;124m'\u001b[39m\u001b[38;5;124mLEU\u001b[39m\u001b[38;5;124m'\u001b[39m)\n",
      "\u001b[0;31mAttributeError\u001b[0m: module 'Bio.PDB.Polypeptide' has no attribute 'three_to_one'"
     ]
    }
   ],
   "source": [
    "Polypeptide.three_to_one('LEU')"
   ]
  },
  {
   "cell_type": "code",
   "execution_count": 13,
   "metadata": {},
   "outputs": [
    {
     "name": "stdout",
     "output_type": "stream",
     "text": [
      "E\n"
     ]
    }
   ],
   "source": [
    "from Bio.SeqUtils import seq1\n",
    "\n",
    "three_letter_sequence = \"GLU\"\n",
    "one_letter_sequence = seq1(three_letter_sequence)\n",
    "print(one_letter_sequence)\n"
   ]
  },
  {
   "cell_type": "code",
   "execution_count": null,
   "metadata": {},
   "outputs": [],
   "source": []
  },
  {
   "cell_type": "code",
   "execution_count": null,
   "metadata": {},
   "outputs": [],
   "source": []
  }
 ],
 "metadata": {
  "kernelspec": {
   "display_name": "M",
   "language": "python",
   "name": "python3"
  },
  "language_info": {
   "codemirror_mode": {
    "name": "ipython",
    "version": 3
   },
   "file_extension": ".py",
   "mimetype": "text/x-python",
   "name": "python",
   "nbconvert_exporter": "python",
   "pygments_lexer": "ipython3",
   "version": "3.10.13"
  }
 },
 "nbformat": 4,
 "nbformat_minor": 2
}
